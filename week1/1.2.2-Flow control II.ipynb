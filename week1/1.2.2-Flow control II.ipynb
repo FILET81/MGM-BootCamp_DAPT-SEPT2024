{
 "cells": [
  {
   "cell_type": "markdown",
   "id": "raised-meter",
   "metadata": {
    "toc": true
   },
   "source": [
    "<h1>Table of Contents<span class=\"tocSkip\"></span></h1>\n",
    "<div class=\"toc\"><ul class=\"toc-item\"><li><span><a href=\"#The-&quot;while&quot;-statement\" data-toc-modified-id=\"The-&quot;while&quot;-statement-1\"><span class=\"toc-item-num\">1&nbsp;&nbsp;</span>The \"while\" statement</a></span></li><li><span><a href=\"#Pass,--continue-&amp;-break\" data-toc-modified-id=\"Pass,--continue-&amp;-break-2\"><span class=\"toc-item-num\">2&nbsp;&nbsp;</span>Pass,  continue &amp; break</a></span></li><li><span><a href=\"#For\" data-toc-modified-id=\"For-3\"><span class=\"toc-item-num\">3&nbsp;&nbsp;</span>For</a></span><ul class=\"toc-item\"><li><span><a href=\"#Iterate-through-strings\" data-toc-modified-id=\"Iterate-through-strings-3.1\"><span class=\"toc-item-num\">3.1&nbsp;&nbsp;</span>Iterate through strings</a></span></li><li><span><a href=\"#Iterate-through-a-list\" data-toc-modified-id=\"Iterate-through-a-list-3.2\"><span class=\"toc-item-num\">3.2&nbsp;&nbsp;</span>Iterate through a list</a></span></li><li><span><a href=\"#We-iterate-through-lists-over-their-index\" data-toc-modified-id=\"We-iterate-through-lists-over-their-index-3.3\"><span class=\"toc-item-num\">3.3&nbsp;&nbsp;</span>We iterate through lists over their index</a></span></li><li><span><a href=\"#Loop-through-two-lists-at-the-same-time\" data-toc-modified-id=\"Loop-through-two-lists-at-the-same-time-3.4\"><span class=\"toc-item-num\">3.4&nbsp;&nbsp;</span>Loop through two lists at the same time</a></span></li><li><span><a href=\"#Iterate-over-the-elements-of-a-dictionary\" data-toc-modified-id=\"Iterate-over-the-elements-of-a-dictionary-3.5\"><span class=\"toc-item-num\">3.5&nbsp;&nbsp;</span>Iterate over the elements of a dictionary</a></span></li></ul></li><li><span><a href=\"#Summary\" data-toc-modified-id=\"Summary-4\"><span class=\"toc-item-num\">4&nbsp;&nbsp;</span>Summary</a></span></li></ul></div>"
   ]
  },
  {
   "cell_type": "markdown",
   "id": "constant-discovery",
   "metadata": {},
   "source": [
    "# Let's keep the flow going"
   ]
  },
  {
   "cell_type": "markdown",
   "id": "genetic-output",
   "metadata": {},
   "source": [
    "![FLOW](https://media.giphy.com/media/h8y265b9iKtzKT0pDj/giphy.gif)"
   ]
  },
  {
   "cell_type": "markdown",
   "id": "17832115",
   "metadata": {
    "lang": "en"
   },
   "source": [
    "Welcome back to the wild world of Python programming! In our previous sessions, we've conquered the art of conditional statements and dipped our toes into the magical land of \"for\" loops. Now, it's time to level up and embark on a thrilling journey through the enchanting realm of loops.\n",
    "\n",
    "In this notebook, we'll be unraveling the mysteries of the \"while\" statement, mastering the secrets of \"pass,\" \"continue,\" and \"break,\" and depeer exploring the versatile \"for\" loop. We'll learn to dance with strings, groove with lists, synchronize our moves with dictionaries, and much more.\n",
    "\n",
    "So buckle up, fellow Python adventurer! It's time to dive into the world of loops and embrace the power of iteration. Whether you're a seasoned coder or just starting your Python voyage, there's something here for everyone. Let's set sail on this coding adventure together! 🐍🌟\n",
    "\n",
    "## The \"while\" statement\n",
    "\n",
    "In Python, the `while` statement is a powerful tool when you need to execute a block of code repeatedly as long as a certain condition holds true. Think of it as your trusty sidekick for those dynamic scenarios where you don't know exactly how many iterations you'll need in advance.\n",
    "\n",
    "**When to Use \"while\" Instead of \"for\"**\n",
    "\n",
    "Imagine you're building a business application, and you want to keep processing customer orders until your inventory is empty or until a specific sales target is met. This is where the \"while\" statement shines. In a business context, you'd use the \"while\" loop when:\n",
    "\n",
    "1. **Dynamic Conditions:** You have a situation where the number of iterations isn't predetermined. For instance, you're continuously processing customer orders until a specific sales goal is reached, and that goal varies from day to day.\n",
    "\n",
    "2. **Real-time Monitoring:** You need to monitor a system or process in real-time and take action based on changing conditions. For example, you want to adjust production levels in response to fluctuations in demand.\n",
    "\n",
    "3. **Interactive User Input:** You're designing an interactive application that waits for user input, such as a chatbot that responds to user messages until the user decides to exit the conversation.\n",
    "\n",
    "The \"while\" statement allows your program to adapt dynamically to the changing conditions of the real world. It keeps running until a specific condition becomes false, making it ideal for scenarios where flexibility and responsiveness are key.\n",
    "\n",
    "So, while the \"for\" loop excels in situations where you have a fixed sequence or collection of items to iterate through, the \"while\" loop is your go-to choice when dealing with scenarios that demand dynamic, condition-driven iteration in the ever-changing landscape of business operations.\n",
    "\n",
    "\n",
    "**Note:** Beware of infinite recursions!"
   ]
  },
  {
   "cell_type": "markdown",
   "id": "5f53b30f",
   "metadata": {},
   "source": [
    "### EXAMPLE 1: YOU ARE AN ADULT!"
   ]
  },
  {
   "cell_type": "code",
   "execution_count": 5,
   "id": "13143a55",
   "metadata": {},
   "outputs": [
    {
     "name": "stdout",
     "output_type": "stream",
     "text": [
      "NO PUEDES PASAR: Solo tienes 5 años.\n",
      "NO PUEDES PASAR: Solo tienes 6 años.\n",
      "NO PUEDES PASAR: Solo tienes 7 años.\n",
      "NO PUEDES PASAR: Solo tienes 8 años.\n",
      "NO PUEDES PASAR: Solo tienes 9 años.\n",
      "NO PUEDES PASAR: Solo tienes 10 años.\n",
      "NO PUEDES PASAR: Solo tienes 11 años.\n",
      "NO PUEDES PASAR: Solo tienes 12 años.\n",
      "NO PUEDES PASAR: Solo tienes 13 años.\n",
      "NO PUEDES PASAR: Solo tienes 14 años.\n",
      "NO PUEDES PASAR: Solo tienes 15 años.\n",
      "NO PUEDES PASAR: Solo tienes 16 años.\n",
      "NO PUEDES PASAR: Solo tienes 17 años.\n",
      "Ya tocaba! Pasa que tienes 18 años.\n"
     ]
    }
   ],
   "source": [
    "# Initialize the age variable\n",
    "\n",
    "age = 5\n",
    "\n",
    "# Define the upper age limit for the loop\n",
    "\n",
    "age_limit = 18\n",
    "\n",
    "while age < age_limit:\n",
    "    print(f\"NO PUEDES PASAR: Solo tienes {age} años.\")\n",
    "    age += 1      # En estos casos donde de añade una cifra, es importante ponerlo al final del loop (el orden de los factores altera el producto!)\n",
    "\n",
    "print(f\"Ya tocaba! Pasa que tienes {age} años.\")"
   ]
  },
  {
   "cell_type": "markdown",
   "id": "cbe52113",
   "metadata": {},
   "source": [
    "In this example, we're using a \"while\" loop to simulate a person's age incrementing from 10 to 18, which is typically considered the transition from childhood to adulthood. Here's a breakdown of the code:\n",
    "\n",
    "1. We start with an initial age of 10 and set the age_limit to 18, the age at which the loop will exit.\n",
    "\n",
    "2. Inside the \"while\" loop, we check if age is less than or equal to age_limit. If this condition is true, the loop continues to execute.\n",
    "\n",
    "3. Inside the loop, we print the current age using an f-string to provide a clear message.\n",
    "\n",
    "4. We then increment the age by 1 in each iteration using `age += 1`.\n",
    "\n",
    "5. The loop repeats until age becomes greater than age_limit, at which point the loop exits.\n",
    "\n",
    "6. Finally, we print a message indicating that the person is now an adult.\n",
    "\n",
    "This example demonstrates how to use a \"while\" loop to perform a series of actions until a specific condition is met. It's a common pattern for iterative tasks that don't have a predetermined number of iterations. Another example:\n"
   ]
  },
  {
   "cell_type": "markdown",
   "id": "a6023485",
   "metadata": {},
   "source": [
    "### EXAMPLE 2: COMPOUND INTEREST RATE"
   ]
  },
  {
   "cell_type": "code",
   "execution_count": 23,
   "id": "b5737ced",
   "metadata": {},
   "outputs": [],
   "source": [
    "final_year=10\n",
    "rate=5\n",
    "year=1\n",
    "n=1\n",
    "principal=1000"
   ]
  },
  {
   "cell_type": "code",
   "execution_count": 25,
   "id": "10028e55",
   "metadata": {},
   "outputs": [
    {
     "name": "stdout",
     "output_type": "stream",
     "text": [
      "Year 1 we have obtained a total of 1050.00 money.\n",
      "Year 2 we have obtained a total of 1102.50 money.\n",
      "Year 3 we have obtained a total of 1157.63 money.\n",
      "Year 4 we have obtained a total of 1215.51 money.\n",
      "Year 5 we have obtained a total of 1276.28 money.\n",
      "Year 6 we have obtained a total of 1340.10 money.\n",
      "Year 7 we have obtained a total of 1407.10 money.\n",
      "Year 8 we have obtained a total of 1477.46 money.\n",
      "Year 9 we have obtained a total of 1551.33 money.\n",
      "Year 10 we have obtained a total of 1628.89 money.\n"
     ]
    }
   ],
   "source": [
    "# your code here\n",
    "\n",
    "while year <= final_year:\n",
    "    dinero = principal * (1+ (rate/(100*n)))**(n*year)\n",
    "    print(f\"Year {year} we have obtained a total of {dinero:.2f} money.\")\n",
    "    \n",
    "    year += 1"
   ]
  },
  {
   "cell_type": "markdown",
   "id": "ba1c5adf",
   "metadata": {
    "lang": "en"
   },
   "source": [
    "In this example, we use a \"while\" loop to calculate compound interest over a specified number of years. Compound interest is the interest calculated on both the initial principal and the accumulated interest from previous periods.\n",
    "\n",
    "**Key Concepts:**\n",
    "- Principal: The initial amount of money invested or borrowed.\n",
    "- Annual Interest Rate: The annual interest rate as a percentage.\n",
    "- Time Period: The number of years for which we want to calculate the compound interest.\n",
    "- Compounding Frequency: How often the interest is compounded per year. In this example, it's compounded annually (once a year).\n",
    "\n",
    "**Explanation:**\n",
    "\n",
    "1. We initialize the principal amount, annual interest rate, and the time period in years. For instance, we start with a principal of $1,000, an annual interest rate of 5%, and a time period of 10 years.\n",
    "\n",
    "2. The formula for calculating compound interest is used, which is:\n",
    "   \n",
    "   ![Compound Interest Formula](https://www.mathwarehouse.com/compound-interest/images/formula-compound-interest.png)\n",
    "\n",
    "   Where:\n",
    "   - A is the final amount.\n",
    "   - P is the principal.\n",
    "   - r is the annual interest rate.\n",
    "   - n is the number of times interest is compounded per year.\n",
    "   - t is the time in years.\n",
    "\n",
    "3. We set the compounding frequency (n) to 1, indicating that the interest is compounded annually.\n",
    "\n",
    "4. Using a \"while\" loop, we iterate over each year from 1 to the specified number of years. For each year, we calculate the compound interest based on the formula.\n",
    "\n",
    "5. The calculated amount for each year is printed, showing how the investment grows over time.\n",
    "\n",
    "This example demonstrates how to use a \"while\" loop to simulate the growth of an investment over multiple years, considering compound interest. It's a practical application of mathematics and programming for financial calculations.\n",
    "\n",
    "\n",
    "In the case of while True the expression will always evaluate to true by definition.\n",
    "It would be equivalent to:\n",
    "\n",
    "```python\n",
    "as long as true is true:\n",
    "    do something\n",
    "   ````"
   ]
  },
  {
   "cell_type": "markdown",
   "id": "bd4ce1c6",
   "metadata": {},
   "source": [
    "### EXAMPLE 3: USER IS NOT ALWAYS LISTENING YOU"
   ]
  },
  {
   "cell_type": "markdown",
   "id": "587399ed",
   "metadata": {
    "lang": "en"
   },
   "source": [
    "🐒 - We write a program that asks the user for a letter between a and d forever until he enters one correctly."
   ]
  },
  {
   "cell_type": "code",
   "execution_count": 27,
   "id": "7e2abd0d",
   "metadata": {},
   "outputs": [
    {
     "name": "stdin",
     "output_type": "stream",
     "text": [
      "Enter a letter from A to D: G\n"
     ]
    },
    {
     "name": "stdout",
     "output_type": "stream",
     "text": [
      "Tío hazme caso. La letra tiene que ser DE LA A A LA D\n"
     ]
    },
    {
     "name": "stdin",
     "output_type": "stream",
     "text": [
      "Enter a letter from A to D: C\n"
     ]
    },
    {
     "name": "stdout",
     "output_type": "stream",
     "text": [
      "Has elegido la letra C. El la mejor letra de todas!\n"
     ]
    }
   ],
   "source": [
    "letter=input(\"Enter a letter from A to D:\")\n",
    "\n",
    "accepted = [\"a\", \"b\", \"c\", \"d\"]\n",
    "\n",
    "while letter.lower() not in accepted:\n",
    "    print(\"Tío hazme caso. La letra tiene que ser DE LA A A LA D\")\n",
    "    letter = input(\"Enter a letter from A to D:\")\n",
    "\n",
    "print(f\"Has elegido la letra {letter}. El la mejor letra de todas!\")"
   ]
  },
  {
   "cell_type": "markdown",
   "id": "1fad63ba",
   "metadata": {},
   "source": [
    "In this example, we use a \"while\" loop to repeatedly ask the user for input until they provide a valid option. The goal is to ensure that the user's input falls within a specified range of accepted values.\n",
    "\n",
    "**Key Concepts:**\n",
    "- User Input: We prompt the user to enter a letter.\n",
    "- Validation: We want to ensure that the entered letter is one of the accepted options (in this case, letters between 'a' and 'd').\n",
    "- \"while\" Loop: We use a \"while\" loop to keep asking for input until a valid option is provided.\n",
    "\n",
    "**Explanation:**\n",
    "\n",
    "1. We initially ask the user to enter a letter using the `input` function. The input is stored in the `letter` variable.\n",
    "\n",
    "2. We create a list called `accepted_letters` that contains the valid options, which are \"a,\" \"b,\" \"c,\" and \"d.\"\n",
    "\n",
    "3. Using a \"while\" loop, we check if the entered `letter` is not in the `accepted_letters` list. If it's not, the loop continues to execute.\n",
    "\n",
    "4. Inside the loop, we ask the user for input again, reassigning the value to the `letter` variable. This process repeats until the user provides a valid option.\n",
    "\n",
    "5. Once the user enters a letter within the accepted range, the loop exits, and the program proceeds to the next steps or actions.\n",
    "\n",
    "This example demonstrates how to create a simple user input validation mechanism using a \"while\" loop. It ensures that the user's input conforms to specified criteria before moving forward with the program's execution."
   ]
  },
  {
   "cell_type": "markdown",
   "id": "9af78e68",
   "metadata": {
    "lang": "en"
   },
   "source": [
    "## Pass,  continue & break\n",
    "In Python, we have control flow statements that allow us to manage the flow of our programs. These statements help us make decisions, control loops, and handle various situations. Let's explore three important control flow statements: `pass`, `continue`, and `break`.[docs](https://docs.python.org/3/tutorial/controlflow.html))\n",
    "\n",
    "- **Pass:**\n",
    "\n",
    "  The `pass` statement serves as a placeholder in Python. When you're writing code and need a statement at a certain place but don't want it to perform any action yet, you can use `pass`. It's a way of telling Python, \"I know there should be something here, but I'm not ready to write it yet.\" It's commonly used when you're designing the structure of your code and need to fill in the details later. For example, when defining a function or a class, you might use `pass` until you're ready to write the actual code inside them.\n",
    "\n",
    "- **Continue:**\n",
    "\n",
    "  The `continue` statement is used within loops (like `for` or `while`) to skip the rest of the current iteration and move on to the next one. Imagine you're iterating over a list of numbers and, when a specific condition is met, you want to skip that number and proceed to the next. You can use `continue` to achieve this. It's like saying, \"I'm done with this part of the loop; let's move to the next element.\"\n",
    "\n",
    "- **Break:**\n",
    "\n",
    "  The `break` statement is also used within loops but is more powerful. When encountered, it immediately exits the loop, even if the loop's conditions are not met. It's like saying, \"I'm done with this loop; let's get out of here.\" You might use `break` when searching for a specific element in a list. Once you find it, you can break the loop instead of continuing to iterate unnecessarily.\n",
    "\n",
    "These control flow statements help you manage the flow of your program and make decisions based on conditions, ensuring that your code behaves the way you intend. They are essential tools for any programmer and can simplify complex logic.\n"
   ]
  },
  {
   "cell_type": "markdown",
   "id": "9a7bc1ee",
   "metadata": {},
   "source": [
    "- `pass`: ignores, does things and goes to next iteration\n",
    "\n",
    "**Example 1:**"
   ]
  },
  {
   "cell_type": "code",
   "execution_count": 29,
   "id": "cb37188c",
   "metadata": {},
   "outputs": [
    {
     "name": "stdout",
     "output_type": "stream",
     "text": [
      "Miquel\n",
      "Lucas\n",
      "Arnau\n"
     ]
    }
   ],
   "source": [
    "list_of_names = [\"Miquel\", \"Gabi\", \"Cat\", \"Lucas\", \"Arnau\", \"Inés\"]\n",
    "\n",
    "for i in list_of_names:\n",
    "    if len(i) < 5:\n",
    "        pass                      # Con el \"pass\" no hace nada\n",
    "    else:\n",
    "        print(i)"
   ]
  },
  {
   "cell_type": "markdown",
   "id": "6630b66a",
   "metadata": {},
   "source": [
    "- `continue`: stops and goes to next iteration\n",
    "\n",
    "**Example 1:**"
   ]
  },
  {
   "cell_type": "code",
   "execution_count": 35,
   "id": "9d2b1483",
   "metadata": {},
   "outputs": [
    {
     "name": "stdout",
     "output_type": "stream",
     "text": [
      "Lucas\n",
      "Arnau\n"
     ]
    }
   ],
   "source": [
    "list_of_names = [\"Miquel\", \"Gabi\", \"Cat\", \"Lucas\", \"Arnau\", \"Inés\"]\n",
    "\n",
    "for i in list_of_names:\n",
    "    if len(i) < 5:\n",
    "        pass\n",
    "    else:\n",
    "        if i == \"Miquel\":\n",
    "            continue              \n",
    "        print(i)"
   ]
  },
  {
   "cell_type": "markdown",
   "id": "d57347a0",
   "metadata": {},
   "source": [
    "- `break` stops the loop\n",
    "\n",
    "**Example 1:**"
   ]
  },
  {
   "cell_type": "code",
   "execution_count": 37,
   "id": "7a77b47f",
   "metadata": {},
   "outputs": [
    {
     "name": "stdout",
     "output_type": "stream",
     "text": [
      "Miquel\n",
      "Lucas\n"
     ]
    }
   ],
   "source": [
    "list_of_names = [\"Miquel\", \"Gabi\", \"Cat\", \"Lucas\", \"Arnau\", \"Inés\"]\n",
    "\n",
    "for i in list_of_names:\n",
    "    if len(i) < 5:\n",
    "        pass\n",
    "    else:\n",
    "        if i == \"Arnau\":\n",
    "            break\n",
    "        print(i)"
   ]
  },
  {
   "cell_type": "code",
   "execution_count": 39,
   "id": "99e86288-cb39-4fea-a971-d1f7ab87f5b2",
   "metadata": {},
   "outputs": [
    {
     "name": "stdout",
     "output_type": "stream",
     "text": [
      "Miquel\n",
      "Gabi\n"
     ]
    }
   ],
   "source": [
    "list_of_names = [\"Miquel\", \"Gabi\", \"Cat\", \"Lucas\", \"Arnau\", \"Inés\"]\n",
    "\n",
    "for i in list_of_names:\n",
    "    if len(i) < 4:\n",
    "        break\n",
    "    else:\n",
    "        print(i)"
   ]
  },
  {
   "cell_type": "markdown",
   "id": "classical-passenger",
   "metadata": {},
   "source": [
    "# For\n",
    "\n",
    "![](https://i.imgflip.com/p8urh.jpg)"
   ]
  },
  {
   "cell_type": "markdown",
   "id": "fdb36275",
   "metadata": {
    "lang": "en"
   },
   "source": [
    "In our journey of mastering Python, we've already become acquainted with the basics of `for` loops, which allow us to iterate through sequences of data. Now, it's time to delve into more advanced aspects of `for` loops that provide us with even greater control and versatility.\n",
    "\n",
    "- **The Power of Range:** Imagine having the ability to generate sequences of numbers effortlessly, providing a structured way to control your loops. That's where the `range()` function comes into play. We'll explore how to use it to define the start, stop, and step of your sequences.\n",
    "\n",
    "- **Iterating Through Lists:** While iterating through a list is a common use case, we'll uncover advanced techniques. We'll learn how to access elements both by their value and by their index, allowing us to perform more complex operations efficiently.\n",
    "\n",
    "- **Simultaneous Looping with Zip:** Sometimes, we need to work with multiple lists or sequences in parallel. Python's `zip()` function enables us to pair corresponding elements from different sequences together, simplifying tasks that involve working with correlated data.\n",
    "\n",
    "- **Harnessing the Power of Dictionaries:** Dictionaries, Python's key-value stores, are versatile data structures. We'll explore how to iterate through a dictionary's keys, values, or both, providing valuable insights into how to extract and manipulate data within this structured container.\n",
    "\n",
    "Through these advanced concepts, we'll equip ourselves with the tools needed to tackle even more complex programming challenges. Let's embark on this journey to unlock the full potential of `for` loops in Python!"
   ]
  },
  {
   "cell_type": "markdown",
   "id": "c0ff1577",
   "metadata": {},
   "source": [
    "**Example 1: Iterating throught a string**"
   ]
  },
  {
   "cell_type": "code",
   "execution_count": 41,
   "id": "0402485f",
   "metadata": {},
   "outputs": [
    {
     "name": "stdout",
     "output_type": "stream",
     "text": [
      "5\n",
      "6\n",
      "7\n",
      "8\n"
     ]
    }
   ],
   "source": [
    "number = \"5678\"\n",
    "suma=0\n",
    "\n",
    "for i in number:\n",
    "    print(i)"
   ]
  },
  {
   "cell_type": "markdown",
   "id": "2469d9ff",
   "metadata": {},
   "source": [
    "**Example 2: Can we iterate through numbers?**"
   ]
  },
  {
   "cell_type": "code",
   "execution_count": null,
   "id": "d05f9080",
   "metadata": {},
   "outputs": [],
   "source": [
    "# You cannot iterate numbers\n",
    "number = 5678.567"
   ]
  },
  {
   "cell_type": "markdown",
   "id": "c0ab8879",
   "metadata": {},
   "source": [
    "**Example 3: Iterating but we dont give a ... of what is inside**"
   ]
  },
  {
   "cell_type": "code",
   "execution_count": 51,
   "id": "480131c0",
   "metadata": {},
   "outputs": [
    {
     "name": "stdout",
     "output_type": "stream",
     "text": [
      "Hello\n",
      "How\n",
      "are\n",
      "you\n"
     ]
    }
   ],
   "source": [
    "# Define a list of greetings\n",
    "greetings_list = [\"Hello\", \"How\", \"are\", \"you\"]\n",
    "\n",
    "# Use a for loop to iterate over a range of indices of the list\n",
    "\n",
    "for i in range(len(greetings_list)):\n",
    "    print(greetings_list[i])"
   ]
  },
  {
   "cell_type": "markdown",
   "id": "a968f25d",
   "metadata": {
    "lang": "en"
   },
   "source": [
    "When we need a counter that increments with each iteration, Python provides the `range()` function, which generates sequences of integers. This function is versatile and can be invoked in different ways:\n",
    "\n",
    "- `range(int)`: When called with a single argument, it generates a sequence of integers starting from 0 and going up to (but not including) the specified integer."
   ]
  },
  {
   "cell_type": "code",
   "execution_count": null,
   "id": "19c9bdcd",
   "metadata": {},
   "outputs": [],
   "source": [
    "# Use a for loop to iterate over a range of numbers from 0 to 3 (exclusive)"
   ]
  },
  {
   "cell_type": "markdown",
   "id": "88f9f5a9",
   "metadata": {
    "lang": "en"
   },
   "source": [
    "- `range(int, int)`  With two arguments. The first parameter is the initial value and the second the value below which the elements of the list must be:"
   ]
  },
  {
   "cell_type": "code",
   "execution_count": null,
   "id": "b6aead72",
   "metadata": {},
   "outputs": [],
   "source": [
    "# Use a for loop to iterate over a range of numbers from 10 to 20 (exclusive)"
   ]
  },
  {
   "cell_type": "markdown",
   "id": "81739599",
   "metadata": {
    "lang": "en"
   },
   "source": [
    "- With three arguments. Same as above, but the third parameter indicates the increment that occurs from one element to the next: `range(int, int, increment)` "
   ]
  },
  {
   "cell_type": "code",
   "execution_count": null,
   "id": "9cfcda02",
   "metadata": {},
   "outputs": [],
   "source": [
    "# Use a for loop to iterate over a range of numbers from 10 to 20 (exclusive), with a increment of two"
   ]
  },
  {
   "cell_type": "markdown",
   "id": "closing-pound",
   "metadata": {
    "lang": "es"
   },
   "source": [
    "**Iterating Through Strings**\n",
    "\n",
    "When working with strings in Python, you may often need to access individual characters or substrings within a string. The process of iterating through a string involves traversing each character one by one. Python provides simple and efficient ways to iterate through strings, allowing you to perform various operations on them.\n",
    "\n",
    "Let's explore how to iterate through strings in Python and leverage this capability for a wide range of text-processing tasks.\n",
    "\n",
    "**Example 1:**"
   ]
  },
  {
   "cell_type": "code",
   "execution_count": 53,
   "id": "280c5c8c",
   "metadata": {},
   "outputs": [],
   "source": [
    "# Initial variable\n",
    "greeting = \"Hello How Are youuUUuu\""
   ]
  },
  {
   "cell_type": "markdown",
   "id": "d7f87167",
   "metadata": {},
   "source": [
    "**Example 2:**"
   ]
  },
  {
   "cell_type": "code",
   "execution_count": 65,
   "id": "9a46553c",
   "metadata": {},
   "outputs": [
    {
     "data": {
      "text/plain": [
       "['H', 'H', 'A', 'U', 'U']"
      ]
     },
     "execution_count": 65,
     "metadata": {},
     "output_type": "execute_result"
    }
   ],
   "source": [
    "# Create an empty list to store uppercase characters from the 'greeting' string.\n",
    "\n",
    "up = []\n",
    "\n",
    "# Iterate through each character (letter) in the 'greeting' string.\n",
    "\n",
    "for i in greeting:\n",
    "    if i.isupper():\n",
    "        up.append(i)\n",
    "\n",
    "up"
   ]
  },
  {
   "cell_type": "code",
   "execution_count": 67,
   "id": "6b502170",
   "metadata": {},
   "outputs": [
    {
     "data": {
      "text/plain": [
       "{'A', 'H', 'U'}"
      ]
     },
     "execution_count": 67,
     "metadata": {},
     "output_type": "execute_result"
    }
   ],
   "source": [
    "# How can we only include \"unique\" letters in our output?\n",
    "\n",
    "set(up)"
   ]
  },
  {
   "cell_type": "markdown",
   "id": "e873ede0",
   "metadata": {
    "lang": "en"
   },
   "source": [
    "### Iterating Through Lists Over Their Index\n",
    "\n",
    "When working with lists in Python, you can iterate through the elements of a list using their indices. This approach allows you to access both the index and the element itself within the loop. In this section, we'll explore how to iterate through lists by their index, along with some built-in functions and the `enumerate()` function, which can be particularly helpful in such scenarios.\n",
    "\n",
    "For more details, you can refer to the [Python Built-in Functions](https://docs.python.org/3/library/functions.html) documentation and the [enumerate()](https://book.pythontips.com/en/latest/enumerate.html) function documentation.\n",
    "\n",
    "**Example 1:**"
   ]
  },
  {
   "cell_type": "code",
   "execution_count": 71,
   "id": "21aed269",
   "metadata": {},
   "outputs": [
    {
     "name": "stdout",
     "output_type": "stream",
     "text": [
      "Fruta 0: apple\n",
      "Fruta 1: banana\n",
      "Fruta 2: cherry\n",
      "Fruta 3: date\n"
     ]
    }
   ],
   "source": [
    "fruits = [\"apple\", \"banana\", \"cherry\", \"date\"]\n",
    "\n",
    "# Iterating through the list using a for loop and the range() function\n",
    "\n",
    "for i in range(len(fruits)):\n",
    "    print(f\"Fruta {i}: {fruits[i]}\")"
   ]
  },
  {
   "cell_type": "markdown",
   "id": "f39d1be6",
   "metadata": {},
   "source": [
    "**Example 2: Using Enumerate**"
   ]
  },
  {
   "cell_type": "code",
   "execution_count": 81,
   "id": "4b7d6241",
   "metadata": {},
   "outputs": [
    {
     "name": "stdout",
     "output_type": "stream",
     "text": [
      "0\n",
      "apple\n",
      "0 apple\n",
      "1\n",
      "banana\n",
      "1 banana\n",
      "2\n",
      "cherry\n",
      "2 cherry\n",
      "3\n",
      "date\n",
      "3 date\n"
     ]
    }
   ],
   "source": [
    "fruits = [\"apple\", \"banana\", \"cherry\", \"date\"]\n",
    "\n",
    "# Iterating through the list using the enumerate() function\n",
    "\n",
    "for index, i in enumerate(fruits):\n",
    "    print(index)\n",
    "    print(i)\n",
    "    print(index, i)"
   ]
  },
  {
   "cell_type": "markdown",
   "id": "73b7e30f",
   "metadata": {
    "lang": "en"
   },
   "source": [
    "### Loop through two lists at the same time\n",
    "\n",
    "In Python, you often encounter situations where you need to work with multiple lists simultaneously. Whether you're comparing elements, performing calculations, or extracting data from two lists, Python provides a convenient way to iterate through them together using the `zip` function.\n",
    "\n",
    "The [zip](https://docs.python.org/3/library/functions.html#zip) function pairs up elements from two or more lists, creating an iterable that combines corresponding elements. This allows you to access elements from each list simultaneously during the iteration process.\n",
    "\n",
    "It's important to note that the `zip` function works seamlessly even if the lists are of different sizes. However, keep in mind that the iteration will continue until the shortest list is exhausted.\n",
    "\n",
    "In the following examples, we will explore how to use the `zip` function to loop through two lists simultaneously and perform various operations on their elements.\n",
    "\n",
    "**Example 1:**"
   ]
  },
  {
   "cell_type": "code",
   "execution_count": 91,
   "id": "07432d76",
   "metadata": {},
   "outputs": [
    {
     "name": "stdout",
     "output_type": "stream",
     "text": [
      "Nombre es Marina Montoya, tú mataste a mi padre en Bcn.\n",
      "Nombre es Helena Montoya, tú mataste a mi padre en Bcn.\n",
      "Nombre es Bernardo Montoya, tú mataste a mi padre en Matadepera.\n",
      "Nombre es Gonzalo Montoya, tú mataste a mi padre en Llavaneres.\n"
     ]
    }
   ],
   "source": [
    "# Two lists containing names and cities\n",
    "list_of_names = [\"Marina\", \"Helena\",\"Bernardo\", \"Gonzalo\"]\n",
    "list_of_cities = [\"Bcn\", \"Bcn\", \"Matadepera\", \"Llavaneres\"]\n",
    "\n",
    "# Loop through the lists simultaneously using zip\n",
    "\n",
    "for name, city in zip(list_of_names, list_of_cities):\n",
    "    print(f\"Nombre es {name} Montoya, tú mataste a mi padre en {city}.\")"
   ]
  },
  {
   "cell_type": "markdown",
   "id": "cd947a90",
   "metadata": {},
   "source": [
    "**Example 2: Can we zip more than two lists?**"
   ]
  },
  {
   "cell_type": "code",
   "execution_count": 93,
   "id": "0894d63a",
   "metadata": {},
   "outputs": [
    {
     "name": "stdout",
     "output_type": "stream",
     "text": [
      "Nombre es Marina Montoya, tú mataste a mi padre en Bcn hace 30 años.\n",
      "Nombre es Helena Montoya, tú mataste a mi padre en Bcn hace 3 años.\n",
      "Nombre es Gonzalo Montoya, tú mataste a mi padre en Llavaneres hace 300 años.\n"
     ]
    }
   ],
   "source": [
    "# Lists containing names, cities, and ages\n",
    "list_of_names = [\"Marina\", \"Helena\", \"Gonzalo\"]\n",
    "list_of_cities = [\"Bcn\", \"Bcn\", \"Llavaneres\"]\n",
    "list_of_ages = [30, 3, 300]\n",
    "\n",
    "# Loop through the lists simultaneously using zip\n",
    "\n",
    "for name, city, age in zip(list_of_names, list_of_cities, list_of_ages):\n",
    "    print(f\"Nombre es {name} Montoya, tú mataste a mi padre en {city} hace {age} años.\")"
   ]
  },
  {
   "cell_type": "markdown",
   "id": "cd740c33",
   "metadata": {
    "lang": "en"
   },
   "source": [
    "### Iterate over the elements of a dictionary\n",
    "\n",
    "Iterating over the elements of a dictionary allows you to access and process each key-value pair (item) stored in the dictionary one by one. Python provides several methods and techniques to achieve this, making it easy to work with dictionary data.\n",
    "\n",
    "You can iterate over a dictionary in different ways, depending on the specific aspect of the dictionary you want to work with:\n",
    "\n",
    "1. **Iterating Over Keys:**\n",
    "   You can use a `for` loop to iterate over the keys of a dictionary. In this case, you iterate through the dictionary's keys, and then you can access the corresponding values using these keys.\n",
    "\n",
    "2. **Iterating Over Key-Value Pairs:**\n",
    "   You can use the `items()` method to iterate over both the keys and values simultaneously. This method returns a view object containing tuples of key-value pairs, which you can easily unpack within the loop.\n",
    "\n",
    "3. **Iterating Over Values:**\n",
    "   If you only need to iterate through the values in the dictionary, you can use the `values()` method. This allows you to access and process the values without needing the associated keys.\n",
    "\n",
    "Iterating over the elements of a dictionary is a fundamental technique for working with structured data in Python. Depending on your specific needs, you can choose the appropriate method to access and manipulate the data within the dictionary.\n",
    "\n",
    "- **Iterating Over Keys**: You can use a `for` loop to iterate over the keys of a dictionary. In this case, you iterate through the dictionary's keys, and then you can access the corresponding values using these keys. Here's an example:"
   ]
  },
  {
   "cell_type": "code",
   "execution_count": 97,
   "id": "4812c22e",
   "metadata": {},
   "outputs": [
    {
     "name": "stdout",
     "output_type": "stream",
     "text": [
      "Alice\n",
      "Bob\n",
      "Charlie\n",
      "David\n"
     ]
    }
   ],
   "source": [
    "# Define a dictionary of student grades\n",
    "student_grades = {\n",
    "    \"Alice\": 95,\n",
    "    \"Bob\": 89,\n",
    "    \"Charlie\": 92,\n",
    "    \"David\": 88\n",
    "}\n",
    "\n",
    "# Iterate over the keys and print student names and grades\n",
    "\n",
    "for i in student_grades.keys():\n",
    "    print(i)"
   ]
  },
  {
   "cell_type": "markdown",
   "id": "bd904111",
   "metadata": {},
   "source": [
    "- **Iterating Over Key-Value Pairs**: You can use the `items()` method to iterate over both the keys and values of a dictionary simultaneously. This method returns a view object containing tuples of key-value pairs, which you can easily unpack within the loop."
   ]
  },
  {
   "cell_type": "code",
   "execution_count": 103,
   "id": "b9a130cb",
   "metadata": {},
   "outputs": [
    {
     "name": "stdout",
     "output_type": "stream",
     "text": [
      "Alice\n",
      "95\n",
      "Bob\n",
      "89\n",
      "Charlie\n",
      "92\n",
      "David\n",
      "88\n"
     ]
    }
   ],
   "source": [
    "# Define a dictionary of student grades\n",
    "student_grades = {\n",
    "    \"Alice\": 95,\n",
    "    \"Bob\": 89,\n",
    "    \"Charlie\": 92,\n",
    "    \"David\": 88\n",
    "}\n",
    "\n",
    "# Iterate over key-value pairs and print student names and grades\n",
    "\n",
    "for i, x in student_grades.items():\n",
    "    print(i)\n",
    "    print(x)"
   ]
  },
  {
   "cell_type": "markdown",
   "id": "cb6bd705",
   "metadata": {},
   "source": [
    "- **Iterating Over Values**: If you only need to iterate through the values in a dictionary, you can use the values() method. This allows you to access and process the values without needing the associated keys."
   ]
  },
  {
   "cell_type": "code",
   "execution_count": 101,
   "id": "8abaca73",
   "metadata": {},
   "outputs": [
    {
     "name": "stdout",
     "output_type": "stream",
     "text": [
      "95\n",
      "89\n",
      "92\n",
      "88\n"
     ]
    }
   ],
   "source": [
    "# Define a dictionary of student grades\n",
    "student_grades = {\n",
    "    \"Alice\": 95,\n",
    "    \"Bob\": 89,\n",
    "    \"Charlie\": 92,\n",
    "    \"David\": 88\n",
    "}\n",
    "\n",
    "# Iterate over values and print student grades\n",
    "\n",
    "for i in student_grades.values():\n",
    "    print(i)"
   ]
  },
  {
   "cell_type": "markdown",
   "id": "5f8559a8",
   "metadata": {
    "lang": "en"
   },
   "source": [
    "## Summary\n",
    "It's your turn, what have we learned today?\n"
   ]
  },
  {
   "cell_type": "markdown",
   "id": "d276cc0c",
   "metadata": {},
   "source": [
    "### CONDITIONS\n",
    "\n",
    "- `if/elif/else`\n",
    "    - if vs elif\n",
    "        - if & if: more than 1 condition at once: not exclusive\n",
    "        - if & elif: exclusive conditions\n",
    "    - else: useful but be careful not to be too general\n",
    "    \n",
    "- `booleans: data type`\n",
    "    - truthies/falsies\n",
    "        - truthy: the rest\n",
    "        - falsie: empty, 0, False, None\n",
    "    - bool()\n",
    "    - True / False\n",
    "    \n",
    "### LOOP\n",
    "\n",
    "- while (as long as there's a condition not met)\n",
    "    - until a condition is met: keep things running until it happens\n",
    "\n",
    "- for (as long as there's elements to loop)\n",
    "    - iterables:\n",
    "        - data types: strings\n",
    "        - data strucures: lists, tuples, sets, dictionaries\n",
    "            - dictionary: i, .items, .keys, .values\n",
    "            \n",
    "    - elements OR/AND the index\n",
    "        - `for element in iterable:`\n",
    "            - element: element\n",
    "        - `for index in range(len(iterable)):`\n",
    "            - `index`\n",
    "            - element: iterable[index]\n",
    "    \n",
    "    - ranges\n",
    "        - range(4): 0, 1, 2, 3\n",
    "        - range(10, 21, 2): 10, 12, 14, 16, 18, 20\n",
    "    \n",
    "    - enumerate: index & element\n",
    "        - `for index, element in iterable`\n",
    "    \n",
    "    - zip: more than one iterable at once\n",
    "        - `for el1, el2, el3 in zip(iterable1, iterable2, iterable3)`\n",
    "    \n",
    "    - zip & enumerate can be used together\n",
    "    \n",
    "    - loops can be nested: [[[[]]]]\n",
    "        - for i in iterable\n",
    "            - for j in i\n",
    "                - for k in j\n",
    "                       - for l in k ....\n",
    "    \n",
    "    \n",
    "- pass/continue/break\n",
    "    - pass: ignores\n",
    "    - continue: ignores down below and goes forward w/ next iteration\n",
    "    - break: stops the whole loop"
   ]
  },
  {
   "cell_type": "markdown",
   "id": "bec5343f",
   "metadata": {},
   "source": [
    "### Let's play a minigame! ###\n",
    "\n",
    "\n",
    "\n",
    "But before... We will need to form groups! I don't want you to pair with the person next to you, so we will need to make a `random` decision... Any thoughts?"
   ]
  },
  {
   "cell_type": "code",
   "execution_count": 105,
   "id": "de15b569",
   "metadata": {},
   "outputs": [],
   "source": [
    "# The Random Library\n",
    "\n",
    "import random"
   ]
  },
  {
   "cell_type": "code",
   "execution_count": null,
   "id": "a91504f2",
   "metadata": {},
   "outputs": [],
   "source": [
    "nombres=[]"
   ]
  },
  {
   "cell_type": "code",
   "execution_count": 133,
   "id": "07293023-225b-4c01-82c2-cee8298ba8e8",
   "metadata": {},
   "outputs": [
    {
     "data": {
      "text/plain": [
       "0.36798424672245633"
      ]
     },
     "execution_count": 133,
     "metadata": {},
     "output_type": "execute_result"
    }
   ],
   "source": [
    "random.random() #Float entre 0 y 1."
   ]
  },
  {
   "cell_type": "code",
   "execution_count": 155,
   "id": "392d7985-cb2f-4e6d-8a13-8cafcf746193",
   "metadata": {},
   "outputs": [
    {
     "data": {
      "text/plain": [
       "9.839164580710166"
      ]
     },
     "execution_count": 155,
     "metadata": {},
     "output_type": "execute_result"
    }
   ],
   "source": [
    "random.uniform(5, 50) #Float entre valor inicial y valor final."
   ]
  },
  {
   "cell_type": "code",
   "execution_count": 191,
   "id": "a37b2429-bd0e-4934-a7bc-7bd2fbe9bf19",
   "metadata": {},
   "outputs": [
    {
     "data": {
      "text/plain": [
       "7"
      ]
     },
     "execution_count": 191,
     "metadata": {},
     "output_type": "execute_result"
    }
   ],
   "source": [
    "random.randint(4, 15) #Integer entre valor inicial y valor final."
   ]
  },
  {
   "cell_type": "code",
   "execution_count": 195,
   "id": "c13dba7e-2a8e-4816-aafe-cd3bfd200286",
   "metadata": {},
   "outputs": [
    {
     "data": {
      "text/plain": [
       "['Inés', 'Cat', 'Miquel', 'Gabi', 'Lucas', 'Arnau']"
      ]
     },
     "execution_count": 195,
     "metadata": {},
     "output_type": "execute_result"
    }
   ],
   "source": [
    "names = [\"Miquel\", \"Gabi\", \"Cat\", \"Lucas\", \"Arnau\", \"Inés\"]\n",
    "\n",
    "# Métodos sobre listas\n",
    "random.choice(names)\n",
    "random.choices(names, k=2)     # Coje un valor, lo deja....y vuelve a cojer un valor.\n",
    "random.sample(names, k=2)      # Coje los dos un valores a la vez.\n",
    "random.shuffle(names)\n",
    "names"
   ]
  },
  {
   "cell_type": "code",
   "execution_count": 201,
   "id": "7d316943",
   "metadata": {},
   "outputs": [
    {
     "name": "stdout",
     "output_type": "stream",
     "text": [
      "['Gabi', 'Cat'] ['Arnau', 'Miquel'] ['Inés', 'Lucas']\n"
     ]
    }
   ],
   "source": [
    "# ALL: Using this library, try to find a way of dividing the class in 3 groups of 2 people.\n",
    "random.shuffle(names)\n",
    "\n",
    "lista1 = names[:2]\n",
    "lista2 = names[2:4]\n",
    "lista3 = names[4:]\n",
    "\n",
    "print(lista1, lista2, lista3)"
   ]
  },
  {
   "cell_type": "markdown",
   "id": "14af7ca8",
   "metadata": {},
   "source": [
    "### NOW THAT WE HAVE THE GROUPS...\n",
    "Try to print the title of this song using string methods to transform the items of the list below. \n",
    "There are multiple ways of finding a result!\n",
    "\n",
    "https://www.youtube.com/watch?v=dQw4w9WgXcQ"
   ]
  },
  {
   "cell_type": "code",
   "execution_count": 205,
   "id": "704861a1",
   "metadata": {},
   "outputs": [],
   "source": [
    "song=[\"nvr\", \"annog\", \"forgive\", [\"me\", \"you\"], \"soup\"]"
   ]
  },
  {
   "cell_type": "markdown",
   "id": "c5d57784",
   "metadata": {},
   "source": [
    "# NEXT TASK: P-S-R"
   ]
  },
  {
   "cell_type": "code",
   "execution_count": 209,
   "id": "b8fcab91",
   "metadata": {},
   "outputs": [
    {
     "name": "stdout",
     "output_type": "stream",
     "text": [
      "Never\n",
      "gonna\n",
      "give\n",
      "you\n",
      "up\n"
     ]
    }
   ],
   "source": [
    "# Your code here\n",
    "# Never gonna give you up\n",
    "\n",
    "print(\"e\".join(song[0].capitalize()))\n",
    "print(song[1][::-1])\n",
    "print(song[2][3:])\n",
    "print(song[3][1])\n",
    "print(song[4].split(\"o\")[1])"
   ]
  },
  {
   "cell_type": "code",
   "execution_count": null,
   "id": "f4a637db-1071-4b63-9aed-9fdb1b63a902",
   "metadata": {},
   "outputs": [],
   "source": []
  }
 ],
 "metadata": {
  "kernelspec": {
   "display_name": "Python 3 (ipykernel)",
   "language": "python",
   "name": "python3"
  },
  "language_info": {
   "codemirror_mode": {
    "name": "ipython",
    "version": 3
   },
   "file_extension": ".py",
   "mimetype": "text/x-python",
   "name": "python",
   "nbconvert_exporter": "python",
   "pygments_lexer": "ipython3",
   "version": "3.12.4"
  },
  "nbTranslate": {
   "displayLangs": [
    "en",
    "es"
   ],
   "hotkey": "alt-a",
   "langInMainMenu": true,
   "sourceLang": "es",
   "targetLang": "en",
   "useGoogleTranslate": true
  },
  "toc": {
   "base_numbering": 1,
   "nav_menu": {},
   "number_sections": true,
   "sideBar": true,
   "skip_h1_title": true,
   "title_cell": "Table of Contents",
   "title_sidebar": "Contents",
   "toc_cell": true,
   "toc_position": {
    "height": "calc(100% - 180px)",
    "left": "10px",
    "top": "150px",
    "width": "253.097px"
   },
   "toc_section_display": true,
   "toc_window_display": true
  }
 },
 "nbformat": 4,
 "nbformat_minor": 5
}
