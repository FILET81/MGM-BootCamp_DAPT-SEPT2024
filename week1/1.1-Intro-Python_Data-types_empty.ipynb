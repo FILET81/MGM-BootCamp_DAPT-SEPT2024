{
 "cells": [
  {
   "cell_type": "markdown",
   "metadata": {
    "id": "AxWcG_OdT2CI"
   },
   "source": [
    "# Intro Python"
   ]
  },
  {
   "cell_type": "markdown",
   "metadata": {
    "id": "zESx8JCIT2CQ"
   },
   "source": [
    "![elgif](https://media.giphy.com/media/coxQHKASG60HrHtvkt/giphy.gif)"
   ]
  },
  {
   "cell_type": "markdown",
   "metadata": {
    "id": "WetQVEK6T2CS"
   },
   "source": [
    "En este curso utilizaremos cuadernos Jupyter para escribir y ejecutar código Python, por lo que el primer paso será aprender a utilizarlos.\n",
    "Los documentos de cuaderno (o \"notebooks\", todo en minúsculas) son documentos creados por la aplicación Jupyter Notebook, que contienen tanto código informático (por ejemplo, python) como elementos de texto enriquecido (párrafos, ecuaciones, figuras, enlaces, etc...).\n",
    "Los cuadernos están formados por celdas, que son bloques de código o texto enriquecido. Cada una de estas es editable, aunque principalmente estarás modificando las celdas de código para responder a las preguntas.\n",
    "\n",
    "### Descripción técnica de un cuaderno Jupyter\n",
    "\n",
    "La aplicación Jupyter Notebook es una aplicación servidor-cliente que permite editar y ejecutar documentos de cuaderno a través de un navegador web. La versión de IBM de la aplicación Jupyter Notebook está instalada en un servidor remoto y se accede a ella a través de internet.\n",
    "\n",
    "Un kernel de cuaderno es un \"motor computacional\" que ejecuta el código contenido en un documento de cuaderno. El kernel de ipython, mencionado en esta guía, ejecuta código Python. Existen kernels para muchos otros lenguajes (consulta el menú Kernels más arriba).\n",
    "\n",
    "Cuando abres un documento de cuaderno, el kernel asociado se inicia automáticamente. Al ejecutar el cuaderno (ya sea celda por celda o mediante el menú Celda -> Ejecutar todo), el kernel realiza los cálculos y produce los resultados. Dependiendo del tipo de cálculos, el kernel puede consumir una cantidad significativa de CPU y RAM. Ten en cuenta que la RAM no se libera hasta que el kernel se cierra."
   ]
  },
  {
   "cell_type": "markdown",
   "metadata": {
    "id": "nso-oBgIT2CV"
   },
   "source": [
    "### Introducción a PEP-8 y `import this`\n",
    "\n",
    "#### PEP-8\n",
    "\n",
    "[PEP-8](https://peps.python.org/pep-0008/), también conocido como \"Python Enhancement Proposal 8\", es la guía de estilo para escribir código en Python. Fue concebido para facilitar la lectura y comprensión del código, promoviendo la consistencia en la forma en que los programadores de Python escriben su código. Algunos de los principios clave de PEP-8 incluyen la utilización de sangrías con cuatro espacios, líneas que no excedan los 79 caracteres y la definición de funciones y variables en nombres en minúsculas separados por guiones bajos. Es altamente recomendable adherirse a PEP-8 para mantener un código Python limpio y legible.\n",
    "\n",
    "#### `import this`\n",
    "\n",
    "El comando `import this` o [PEP-20](https://peps.python.org/pep-0020/) en Python es una pequeña \"huevito de pascua\" (easter egg) incluido en el lenguaje, que cuando se ejecuta, muestra el **\"Zen de Python\"**. El \"Zen de Python\" es una colección de 19 aforismos que expresan la filosofía de diseño del lenguaje Python. Algunos de estos aforismos hacen hincapié en la importancia de la legibilidad del código y la simplicidad sobre la complejidad. Puedes ver estos aforismos en cualquier momento mientras programas en Python ejecutando el comando `import this` en tu consola o script de Python.\n",
    "\n",
    "Para utilizarlo, simplemente escribe el siguiente comando en tu intérprete de Python:"
   ]
  },
  {
   "cell_type": "code",
   "execution_count": 1,
   "metadata": {
    "id": "si7KVciiT2CW",
    "outputId": "866b5f3d-81dd-43de-afc1-a75445d31b7c"
   },
   "outputs": [
    {
     "name": "stdout",
     "output_type": "stream",
     "text": [
      "The Zen of Python, by Tim Peters\n",
      "\n",
      "Beautiful is better than ugly.\n",
      "Explicit is better than implicit.\n",
      "Simple is better than complex.\n",
      "Complex is better than complicated.\n",
      "Flat is better than nested.\n",
      "Sparse is better than dense.\n",
      "Readability counts.\n",
      "Special cases aren't special enough to break the rules.\n",
      "Although practicality beats purity.\n",
      "Errors should never pass silently.\n",
      "Unless explicitly silenced.\n",
      "In the face of ambiguity, refuse the temptation to guess.\n",
      "There should be one-- and preferably only one --obvious way to do it.\n",
      "Although that way may not be obvious at first unless you're Dutch.\n",
      "Now is better than never.\n",
      "Although never is often better than *right* now.\n",
      "If the implementation is hard to explain, it's a bad idea.\n",
      "If the implementation is easy to explain, it may be a good idea.\n",
      "Namespaces are one honking great idea -- let's do more of those!\n"
     ]
    }
   ],
   "source": [
    "import this"
   ]
  },
  {
   "cell_type": "markdown",
   "metadata": {
    "id": "0ADFrqVcT2CY"
   },
   "source": [
    "![otrogif](https://media.giphy.com/media/MT5UUV1d4CXE2A37Dg/giphy.gif)"
   ]
  },
  {
   "cell_type": "markdown",
   "metadata": {
    "id": "czGA7NDQT2CZ",
    "toc": true
   },
   "source": [
    "<h1>Table of Contents<span class=\"tocSkip\"></span></h1>\n",
    "<div class=\"toc\"><ul class=\"toc-item\"><li><span><a href=\"#Cell-types-in-Jupyter-Notebook\" data-toc-modified-id=\"Cell-types-in-Jupyter-Notebook-1\"><span class=\"toc-item-num\">1&nbsp;&nbsp;</span>Cell types in Jupyter Notebook</a></span></li><li><span><a href=\"#Sub-título\" data-toc-modified-id=\"Sub-título-2\"><span class=\"toc-item-num\">2&nbsp;&nbsp;</span>Sub-título</a></span><ul class=\"toc-item\"><li><span><a href=\"#Sub-título\" data-toc-modified-id=\"Sub-título-2.1\"><span class=\"toc-item-num\">2.1&nbsp;&nbsp;</span>Sub título</a></span></li><li><span><a href=\"#Code\" data-toc-modified-id=\"Code-2.2\"><span class=\"toc-item-num\">2.2&nbsp;&nbsp;</span>Code</a></span></li><li><span><a href=\"#Shortcuts\" data-toc-modified-id=\"Shortcuts-2.3\"><span class=\"toc-item-num\">2.3&nbsp;&nbsp;</span>Shortcuts</a></span></li></ul></li><li><span><a href=\"#Integer-numbers\" data-toc-modified-id=\"Integer-numbers-3\"><span class=\"toc-item-num\">3&nbsp;&nbsp;</span>Integer numbers</a></span></li><li><span><a href=\"#Real-numbers-(floats)\" data-toc-modified-id=\"Real-numbers-(floats)-4\"><span class=\"toc-item-num\">4&nbsp;&nbsp;</span>Real numbers (floats)</a></span></li><li><span><a href=\"#Basic-operations\" data-toc-modified-id=\"Basic-operations-5\"><span class=\"toc-item-num\">5&nbsp;&nbsp;</span>Basic operations</a></span><ul class=\"toc-item\"><li><span><a href=\"#built-in-and-imported-things\" data-toc-modified-id=\"built-in-and-imported-things-5.1\"><span class=\"toc-item-num\">5.1&nbsp;&nbsp;</span>built-in and imported things</a></span></li></ul></li><li><span><a href=\"#Strings-(character-strings)\" data-toc-modified-id=\"Strings-(character-strings)-6\"><span class=\"toc-item-num\">6&nbsp;&nbsp;</span>Strings (character strings)</a></span><ul class=\"toc-item\"><li><ul class=\"toc-item\"><li><span><a href=\"#icons\" data-toc-modified-id=\"icons-6.0.1\"><span class=\"toc-item-num\">6.0.1&nbsp;&nbsp;</span>icons</a></span></li></ul></li></ul></li><li><span><a href=\"#Casting-in-Python\" data-toc-modified-id=\"Casting-in-Python-7\"><span class=\"toc-item-num\">7&nbsp;&nbsp;</span>Casting in Python</a></span><ul class=\"toc-item\"><li><span><a href=\"#Implicit-conversion\" data-toc-modified-id=\"Implicit-conversion-7.1\"><span class=\"toc-item-num\">7.1&nbsp;&nbsp;</span>Implicit conversion</a></span></li><li><span><a href=\"#explicit-conversion\" data-toc-modified-id=\"explicit-conversion-7.2\"><span class=\"toc-item-num\">7.2&nbsp;&nbsp;</span>explicit conversion</a></span><ul class=\"toc-item\"><li><span><a href=\"#Convert-float-to-int\" data-toc-modified-id=\"Convert-float-to-int-7.2.1\"><span class=\"toc-item-num\">7.2.1&nbsp;&nbsp;</span>Convert float to int</a></span></li><li><span><a href=\"#Convert-a-float-to-a-string\" data-toc-modified-id=\"Convert-a-float-to-a-string-7.2.2\"><span class=\"toc-item-num\">7.2.2&nbsp;&nbsp;</span>Convert a float to a string</a></span></li><li><span><a href=\"#Convert-int-to-str\" data-toc-modified-id=\"Convert-int-to-str-7.2.3\"><span class=\"toc-item-num\">7.2.3&nbsp;&nbsp;</span>Convert int to str</a></span></li></ul></li></ul></li><li><span><a href=\"#Input-and-output-data\" data-toc-modified-id=\"Input-and-output-data-8\"><span class=\"toc-item-num\">8&nbsp;&nbsp;</span>Input and output data</a></span><ul class=\"toc-item\"><li><span><a href=\"#Input\" data-toc-modified-id=\"Input-8.1\"><span class=\"toc-item-num\">8.1&nbsp;&nbsp;</span>Input</a></span></li><li><span><a href=\"#Print\" data-toc-modified-id=\"Print-8.2\"><span class=\"toc-item-num\">8.2&nbsp;&nbsp;</span>Print</a></span></li></ul></li><li><span><a href=\"#Format\" data-toc-modified-id=\"Format-9\"><span class=\"toc-item-num\">9&nbsp;&nbsp;</span>Format</a></span><ul class=\"toc-item\"><li><span><a href=\"#Format---1\" data-toc-modified-id=\"Format---1-9.1\"><span class=\"toc-item-num\">9.1&nbsp;&nbsp;</span>Format - 1</a></span></li><li><span><a href=\"#Format---2\" data-toc-modified-id=\"Format---2-9.2\"><span class=\"toc-item-num\">9.2&nbsp;&nbsp;</span>Format - 2</a></span></li></ul></li><li><span><a href=\"#Strings\" data-toc-modified-id=\"Strings-10\"><span class=\"toc-item-num\">10&nbsp;&nbsp;</span>Strings</a></span><ul class=\"toc-item\"><li><span><a href=\"#String-methods\" data-toc-modified-id=\"String-methods-10.1\"><span class=\"toc-item-num\">10.1&nbsp;&nbsp;</span>String methods</a></span></li></ul></li><li><span><a href=\"#Data-structures\" data-toc-modified-id=\"Data-structures-11\"><span class=\"toc-item-num\">11&nbsp;&nbsp;</span>Data structures</a></span><ul class=\"toc-item\"><li><span><a href=\"#Lists\" data-toc-modified-id=\"Lists-11.1\"><span class=\"toc-item-num\">11.1&nbsp;&nbsp;</span>Lists</a></span><ul class=\"toc-item\"><li><span><a href=\"#list-methods\" data-toc-modified-id=\"list-methods-11.1.1\"><span class=\"toc-item-num\">11.1.1&nbsp;&nbsp;</span>list methods</a></span></li></ul></li><li><span><a href=\"#Tuples\" data-toc-modified-id=\"Tuples-11.2\"><span class=\"toc-item-num\">11.2&nbsp;&nbsp;</span>Tuples</a></span></li><li><span><a href=\"#sets\" data-toc-modified-id=\"sets-11.3\"><span class=\"toc-item-num\">11.3&nbsp;&nbsp;</span>sets</a></span></li><li><span><a href=\"#Dictionaries\" data-toc-modified-id=\"Dictionaries-11.4\"><span class=\"toc-item-num\">11.4&nbsp;&nbsp;</span>Dictionaries</a></span></li></ul></li><li><span><a href=\"#Summary\" data-toc-modified-id=\"Summary-12\"><span class=\"toc-item-num\">12&nbsp;&nbsp;</span>Summary</a></span></li></ul></div>"
   ]
  },
  {
   "cell_type": "markdown",
   "metadata": {
    "id": "GJox55nBT2Cc",
    "lang": "en"
   },
   "source": [
    "## 1. Cell types in Jupyter Notebook"
   ]
  },
  {
   "cell_type": "markdown",
   "metadata": {
    "id": "rzMBuHwbT2Cd"
   },
   "source": [
    "`ctrl-enter`: ejecuta la celda activa y permanece en esa celda\n",
    "\n",
    "`shift-enter`: ejecuta la celda activa y se desplaza a la siguiente celda\n",
    "\n",
    "*Pruébalo* Ejecuta las siguientes celdas:"
   ]
  },
  {
   "cell_type": "code",
   "execution_count": null,
   "metadata": {
    "colab": {
     "base_uri": "https://localhost:8080/"
    },
    "executionInfo": {
     "elapsed": 10,
     "status": "ok",
     "timestamp": 1705325498410,
     "user": {
      "displayName": "Sabi Bercovich",
      "userId": "17500405398689621505"
     },
     "user_tz": -60
    },
    "id": "xUL1Z30wT2Ce",
    "outputId": "2c4a4c4f-8957-461c-abf5-106e05e9017c"
   },
   "outputs": [],
   "source": [
    "print (\"Hola Mundo\")"
   ]
  },
  {
   "cell_type": "code",
   "execution_count": null,
   "metadata": {
    "colab": {
     "base_uri": "https://localhost:8080/"
    },
    "executionInfo": {
     "elapsed": 8,
     "status": "ok",
     "timestamp": 1705325498411,
     "user": {
      "displayName": "Sabi Bercovich",
      "userId": "17500405398689621505"
     },
     "user_tz": -60
    },
    "id": "1KApgcuDT2Ce",
    "outputId": "1e1c02db-15fe-4ea5-fd91-9a09ed1fba58",
    "scrolled": true
   },
   "outputs": [],
   "source": [
    "print (\"Segunda línea\")"
   ]
  },
  {
   "cell_type": "markdown",
   "metadata": {
    "id": "U4r3sFkbT2Cf"
   },
   "source": [
    "**Insertando nuevas celdas:**\n",
    "Cuando una celda está seleccionada en azul (haz clic en el margen izquierdo de la celda) o, si estás editando la celda, pulsa la tecla de escape, se muestra un cuadro azul alrededor.\n",
    "\n",
    "Escribe:\n",
    "- `a` (above/arriba) para crear una nueva celda vacía encima de la celda activa en ese momento\n",
    "- `b` (below/abajo) para crear una nueva celda vacía debajo de la celda activa en ese momento\n",
    "\n",
    "*Pruébalo: Añade una celda debajo y luego una celda encima*"
   ]
  },
  {
   "cell_type": "markdown",
   "metadata": {
    "id": "4Tb72N2cT2Cf"
   },
   "source": [
    "**Código de Markdown**:\n",
    "El atajo `m` (con la selección azul) cambia la celda de computación a markdown. Esto permite crear elementos de texto enriquecido para documentar el código.\n",
    "Recíprocamente, puedes convertir una celda en una celda de código utilizando el atajo `y`.\n",
    "\n",
    "*Pruébalo: Convierte la primera celda de abajo en una celda de código y ejecútala, y la celda de abajo en una celda de markdown*"
   ]
  },
  {
   "cell_type": "markdown",
   "metadata": {
    "id": "wI8n-Sh0T2Cf"
   },
   "source": [
    "#### **No es una celda de codigo ahora mismo:**\n",
    "print(\"Ahora si que es una celda de codigo :)\")"
   ]
  },
  {
   "cell_type": "code",
   "execution_count": null,
   "metadata": {
    "id": "7mX4mIoNT2Cf"
   },
   "outputs": [],
   "source": [
    "#### **Es una celda de codigo ahora mismo**"
   ]
  },
  {
   "cell_type": "markdown",
   "metadata": {
    "id": "P1uNpu3BT2Cg"
   },
   "source": [
    "#### **Ejercicio: Convertir Códigos a Markdown**\n",
    "\n",
    "En este ejercicio, tu tarea será convertir las siguientes celdas de código que contienen encabezados (headings) y texto enriquecido a celdas de markdown. De esta manera, en lugar de verse como un bloque de código, se visualizarán como texto con formato.\n",
    "\n",
    "1. Selecciona la primera celda que contiene los encabezados y el texto enriquecido escrito como código.\n",
    "2. Utiliza el atajo `m` (asegurándote de que la celda está resaltada en azul) para convertir la celda de código a una celda de markdown.\n",
    "3. Presiona `Shift+Enter` o `Ctrl+Enter` para ejecutar la celda y ver el resultado.\n",
    "4. Si has realizado el paso correctamente, deberías ver los encabezados y el texto enriquecido (negritas, cursivas, etc.) aplicados en lugar de como un bloque de código.\n",
    "\n",
    "*Inténtalo: Convierte las celdas con los encabezados y el texto enriquecido de código a markdown y ejecútalas para ver el resultado.*\n",
    "\n",
    "Recuerda, las celdas deben verse igual que las celdas de ejemplo proporcionadas más abajo.\n",
    "\n",
    "¡Buena suerte!\n"
   ]
  },
  {
   "cell_type": "markdown",
   "metadata": {
    "id": "cdhEDRyCT2Cg",
    "outputId": "b14007ca-c867-497c-c583-954bfc36312e",
    "scrolled": true
   },
   "source": [
    "# Encabezado 1\n",
    "## Encabezado 2\n",
    "### Encabezado 3\n",
    "#### Encabezado 4\n",
    "\n",
    "**negrita**\n",
    "\n",
    "*cursiva*\n",
    "\n",
    "una línea vacía es un párrafo\n",
    "\n",
    "esto es un nuevo párrafo"
   ]
  },
  {
   "cell_type": "code",
   "execution_count": null,
   "metadata": {
    "id": "s5sVp6iKT2Cg"
   },
   "outputs": [],
   "source": [
    "Si has convertido la celda a una celda de markdown con éxito, debería mostrarse igual que la celda de abajo."
   ]
  },
  {
   "cell_type": "markdown",
   "metadata": {
    "id": "Lq5ZlNCHT2Cg"
   },
   "source": [
    "# Encabezado 1\n",
    "## Encabezado 2\n",
    "### Encabezado 3\n",
    "#### Encabezado 4\n",
    "\n",
    "**negrita**\n",
    "\n",
    "*cursiva*\n",
    "\n",
    "una línea vacía es un párrafo\n",
    "\n",
    "esto es un nuevo párrafo"
   ]
  },
  {
   "cell_type": "markdown",
   "metadata": {
    "id": "mB20cS4iT2Cg"
   },
   "source": [
    "### Explicación de Elementos Markdown\n",
    "\n",
    "En el ejemplo proporcionado, hay dos tipos de elementos Markdown muy útiles y comunes: enlaces y imágenes.\n",
    "\n",
    "1. **Enlace**\n",
    "   La primera línea `[nombre](url)` es un enlace. La sintaxis para crear un enlace es colocar el texto del enlace entre corchetes `[]` y la URL entre paréntesis `()`. Al hacer clic en el texto \"Esto es Google\", te llevará a la página web de Google España.\n",
    "\n",
    "2. **Imagen**\n",
    "   La segunda línea `![nombre](url image)` es una imagen. La sintaxis para insertar una imagen es muy similar a la de un enlace, pero lleva un signo de exclamación `!` al principio. El texto entre corchetes `[]` sirve como descripción alternativa para la imagen, que se muestra si la imagen no puede renderizarse por cualquier motivo. En este caso, al ejecutar la celda, verás el texto \"Esto es una imagen (que no se va a renderizar)\" si la imagen no se puede cargar desde la URL proporcionada.\n",
    "\n",
    "Puedes probar estos elementos por ti mismo en cualquier celda de markdown. ¡Inténtalo!"
   ]
  },
  {
   "cell_type": "code",
   "execution_count": null,
   "metadata": {
    "id": "76thQFW0T2Ch"
   },
   "outputs": [],
   "source": [
    "**Enlace**\n",
    "[Esto es google](https://www.google.es)"
   ]
  },
  {
   "cell_type": "code",
   "execution_count": null,
   "metadata": {
    "id": "Z6n2cEHET2Ch"
   },
   "outputs": [],
   "source": [
    "**Image**:\n",
    "![Esto es una imagen (que no se va a renderizar)](https://m.facebook.com/IronhackSpain/photos/a.644771729221628/1108169482881848/?type=3&source=44&ref=py_c)"
   ]
  },
  {
   "cell_type": "markdown",
   "metadata": {
    "id": "jyU05K7OT2Ch"
   },
   "source": [
    "### Shortcuts"
   ]
  },
  {
   "cell_type": "markdown",
   "metadata": {
    "id": "bC4Yv_9bT2Ch"
   },
   "source": [
    "**Recordatorio Final de Atajos de Teclado**\n",
    "\n",
    "Para ejecutar la celda:\n",
    "\n",
    "- `ctrl + enter`\n",
    "- `shift + enter` # este ejecuta la celda y pasa a la siguiente\n",
    "\n",
    "Para insertar nuevas celdas:\n",
    "\n",
    "- `a` para nueva celda arriba\n",
    "- `b` para nueva celda abajo\n",
    "- `d + d` para modo de atajo (elimina la celda seleccionada)\n",
    "\n",
    "Para alternar entre markdown y código:\n",
    "\n",
    "- `m` o `y` para cambiar entre markdown y código"
   ]
  },
  {
   "cell_type": "markdown",
   "metadata": {
    "id": "IThy1eG7T2Ch",
    "lang": "en"
   },
   "source": [
    "# Type of data\n",
    "En esta sección, exploraremos diferentes tipos de datos que puedes encontrar y utilizar en Python. Comprender los diferentes tipos de datos es fundamental para trabajar eficazmente con Python.\n",
    "\n",
    "- **Números enteros (Integer)**: Son números sin decimales, pueden ser tanto positivos como negativos. Por ejemplo, -3, 0, 42 son todos números enteros.\n",
    "\n",
    "- **Números reales (Float)**: Son números que contienen puntos decimales o están escritos en notación científica. Incluyen valores como 3.14, -0.001 o 2.5e2.\n",
    "\n",
    "- **Cadenas de caracteres (Strings)**: Las cadenas son secuencias de caracteres (letras, números, símbolos, emojis) encerrados entre comillas simples (`'`) o dobles (`\"`). Por ejemplo, \"Hola, Mundo\" o 'Python3' son cadenas.\n",
    "\n",
    "- **Booleanos (Boolean)**: Los valores booleanos solo pueden ser `True` (verdadero) o `False` (falso), y representan el resultado de operaciones lógicas.\n",
    "\n",
    "Recuerda que Python es un lenguaje de programación dinámico y de tipado fuerte, lo que significa que no necesitas declarar el tipo de datos de una variable explícitamente; Python lo inferirá por ti.\n",
    "\n",
    "\n",
    "## Integer numbers\n",
    "Los números enteros, también conocidos como \"integers\" en inglés, son un tipo de datos que representa números enteros, es decir, sin decimales. Pueden ser tanto positivos como negativos. En Python, puedes asignar un valor entero a una variable simplemente escribiendo el número sin ningún decimal o comillas. Por ejemplo:"
   ]
  },
  {
   "cell_type": "code",
   "execution_count": null,
   "metadata": {
    "id": "PqpOgHO-T2Ch"
   },
   "outputs": [],
   "source": [
    "un_entero = 4"
   ]
  },
  {
   "cell_type": "markdown",
   "metadata": {
    "id": "NO3VBQmdT2Ci"
   },
   "source": [
    "En esta celda, estamos declarando una variable llamada `un_entero` y le asignamos el valor 4, que es un número entero."
   ]
  },
  {
   "cell_type": "code",
   "execution_count": null,
   "metadata": {
    "id": "_3oJJZR9T2Ci",
    "outputId": "25e9a372-f06c-4948-c79f-bce963aa0fe7",
    "scrolled": true
   },
   "outputs": [],
   "source": [
    "un_entero"
   ]
  },
  {
   "cell_type": "markdown",
   "metadata": {
    "id": "Y5mdF8jnT2Ci"
   },
   "source": [
    "Aquí, simplemente estamos escribiendo el nombre de la variable. Esto hará que el cuaderno Jupyter imprima su valor, que es 4."
   ]
  },
  {
   "cell_type": "code",
   "execution_count": null,
   "metadata": {
    "id": "U3cohjHjT2Ci",
    "outputId": "0af08a0a-93cb-4385-a8e1-339702b811ca",
    "scrolled": true
   },
   "outputs": [],
   "source": [
    "print(un_entero)"
   ]
  },
  {
   "cell_type": "markdown",
   "metadata": {
    "id": "GGMllzoNT2Cj"
   },
   "source": [
    "En esta celda, estamos utilizando la función `print()` para imprimir el valor de la variable `un_entero`. También verás 4 como salida aquí, pero a diferencia de la celda anterior, estás utilizando específicamente una función para imprimir el valor."
   ]
  },
  {
   "cell_type": "code",
   "execution_count": null,
   "metadata": {
    "id": "um95HEjPT2Cj",
    "outputId": "8e6c7afe-8606-4175-ba69-341533717d70"
   },
   "outputs": [],
   "source": [
    "a = 10\n",
    "b = 20\n",
    "a\n",
    "b # Notebook imprime el último valor"
   ]
  },
  {
   "cell_type": "markdown",
   "metadata": {
    "id": "ca29QzclT2Cj"
   },
   "source": [
    "En este conjunto de líneas, primero asignamos 10 a `a` y 20 a `b`. Luego, escribimos `a` y `b` en líneas separadas, pero el cuaderno Jupyter solo imprimirá el valor de `b`, ya que es el último en la celda. Esto se indica con el comentario # Notebook imprime el último valor."
   ]
  },
  {
   "cell_type": "code",
   "execution_count": null,
   "metadata": {
    "id": "dxSb3ix6T2Ck",
    "outputId": "d52a0f3e-9ea0-4bce-aa65-97b5e5cc4b9f",
    "scrolled": true
   },
   "outputs": [],
   "source": [
    "a = 10\n",
    "b = 20\n",
    "print(a)\n",
    "b # Notebook imprime el último valor"
   ]
  },
  {
   "cell_type": "markdown",
   "metadata": {
    "id": "kfjJpixgT2Ck"
   },
   "source": [
    "Aquí, es similar a la celda anterior, pero esta vez estamos utilizando la función `print()` para imprimir el valor de `a` antes de escribir simplemente `b`. Verás tanto 10 (la salida de `print(a)`) como 20 (el valor de `b`) en la salida."
   ]
  },
  {
   "cell_type": "code",
   "execution_count": null,
   "metadata": {
    "id": "hUuX9NJVT2Ck",
    "outputId": "4178d648-ebb6-4433-d06e-8b17e4319e56"
   },
   "outputs": [],
   "source": [
    "type(a)"
   ]
  },
  {
   "cell_type": "markdown",
   "metadata": {
    "id": "AlV3Pj7GT2Ck"
   },
   "source": [
    "Finalmente, estamos utilizando la función `type()` para imprimir el tipo de datos de la variable `a`, que en este caso es `<class 'int'>`, indicando que es un número entero."
   ]
  },
  {
   "cell_type": "markdown",
   "metadata": {
    "id": "zzGP4CDRT2Ck",
    "lang": "en"
   },
   "source": [
    "## Real numbers (floats)\n",
    "En esta sección, vamos a explorar otro tipo de datos en Python: los números reales, también conocidos como \"flotantes\" o \"floats\" en inglés. Los números flotantes pueden representar números fraccionarios, es decir, números que tienen tanto una parte entera como una parte decimal. Pueden ser tanto positivos como negativos.\n",
    "\n",
    "En Python, puedes crear un número flotante simplemente incluyendo un punto decimal en el número, o utilizando notación científica para números muy grandes o muy pequeños. Aquí hay algunos ejemplos:\n",
    "\n",
    "x = 5.67\n",
    "\n",
    "y = -0.23\n",
    "\n",
    "z = 3.0e8\n",
    "\n",
    "En este código:\n",
    "- `x` es un número flotante que representa el número 5.67.\n",
    "- `y` es un número flotante que representa el número -0.23.\n",
    "- `z` es un número flotante que representa el número 300,000,000 (o 3.0 × 10^8, utilizando notación científica).\n",
    "\n",
    "Al igual que con los números enteros, puedes usar la función `type()` para verificar el tipo de datos de una variable. Por ejemplo, `type(x)` devolverá `<class 'float'>`, indicando que `x` es un número flotante.\n",
    "\n",
    "Los números flotantes son útiles cuando necesitas realizar cálculos que requieren precisión decimal. Ahora, vamos a practicar trabajando con números flotantes en Python con algunos ejercicios.\n"
   ]
  },
  {
   "cell_type": "code",
   "execution_count": null,
   "metadata": {
    "id": "ooH0NR-1T2Cl"
   },
   "outputs": [],
   "source": [
    "a = 12.34"
   ]
  },
  {
   "cell_type": "markdown",
   "metadata": {
    "id": "dfD5DkN-T2Cq"
   },
   "source": [
    "En la celda anterior, hemos asignado el número float 12.34 a la variable `a`. Ahora, vamos a imprimir el valor de `a` para verificarlo."
   ]
  },
  {
   "cell_type": "code",
   "execution_count": null,
   "metadata": {
    "id": "R5KNdvLiT2Cq",
    "outputId": "a772f43b-4064-4ce1-b584-be866f3fa65b"
   },
   "outputs": [],
   "source": [
    "print(a)"
   ]
  },
  {
   "cell_type": "markdown",
   "metadata": {
    "id": "ZUCLY8AtT2Cr"
   },
   "source": [
    "Ahora, vamos a usar la función `type()` para verificar el tipo de datos de la variable `a`. Esto debería confirmar que es un número flotante."
   ]
  },
  {
   "cell_type": "code",
   "execution_count": null,
   "metadata": {
    "id": "I7bxqMjIT2Cs",
    "outputId": "ae09d140-577b-4ccd-b27a-c0217a46e8e7"
   },
   "outputs": [],
   "source": [
    "type(a)"
   ]
  },
  {
   "cell_type": "code",
   "execution_count": null,
   "metadata": {
    "id": "2Rh3Ko9QT2Ct"
   },
   "outputs": [],
   "source": [
    "b = 12.0"
   ]
  },
  {
   "cell_type": "markdown",
   "metadata": {
    "id": "M9OihowsT2Ct"
   },
   "source": [
    "Ahora, intenta predecir el tipo de dato de la variable `b` antes de verificarlo con la función `type()`. ¿Crees que es:\n",
    "- **int?**\n",
    "- **float?**"
   ]
  },
  {
   "cell_type": "code",
   "execution_count": null,
   "metadata": {
    "id": "WT7qauP9T2Ct",
    "scrolled": true
   },
   "outputs": [],
   "source": [
    "# type(b)"
   ]
  },
  {
   "cell_type": "markdown",
   "metadata": {
    "id": "bDUrtWGdT2Ct"
   },
   "source": [
    "En esta última celda, verificamos el tipo de datos de `b` usando la función `type()`. Aunque `b` tiene un valor que podría ser un entero, se considera un float porque incluye un punto decimal.\n"
   ]
  },
  {
   "cell_type": "markdown",
   "metadata": {
    "id": "h4SVjPW1T2Ct",
    "lang": "en"
   },
   "source": [
    "## Basic operations\n",
    "En esta sección, exploraremos algunas operaciones básicas en Python. Aprenderemos a realizar sumas, restas, divisiones, y cómo obtener el módulo y la floor division. También veremos cómo podemos usar el módulo para determinar si un número es par o impar. ¡Empecemos con algunos ejercicios prácticos!"
   ]
  },
  {
   "cell_type": "code",
   "execution_count": null,
   "metadata": {
    "id": "l98lRWScT2Ct"
   },
   "outputs": [],
   "source": [
    "a = 10\n",
    "b = 3"
   ]
  },
  {
   "cell_type": "code",
   "execution_count": null,
   "metadata": {
    "id": "ClmZisZBT2Cu",
    "outputId": "edd8dbd9-7328-4b26-e996-a5e4eb793217",
    "scrolled": true
   },
   "outputs": [],
   "source": [
    "10 + 3"
   ]
  },
  {
   "cell_type": "markdown",
   "metadata": {
    "id": "DHPNff9NT2Cu"
   },
   "source": [
    "En la celda anterior, simplemente hemos sumado 10 y 3 directamente en una celda de código. Ahora, haremos lo mismo, pero utilizando las variables `a` y `b` que hemos definido previamente."
   ]
  },
  {
   "cell_type": "code",
   "execution_count": null,
   "metadata": {
    "id": "UbL3MmDST2Cu",
    "outputId": "d2c290bf-ec81-4cbe-844f-e222df57e5ab",
    "scrolled": true
   },
   "outputs": [],
   "source": [
    "# Suma\n",
    "a + b"
   ]
  },
  {
   "cell_type": "markdown",
   "metadata": {
    "id": "spxK4ROQT2Cu"
   },
   "source": [
    "Ahora procederemos a realizar una resta utilizando las mismas variables, `a` y `b`."
   ]
  },
  {
   "cell_type": "code",
   "execution_count": null,
   "metadata": {
    "id": "TJJHkLt-T2Cu",
    "outputId": "3f4c1ad9-efd5-4bc3-9908-7a5d727a4243"
   },
   "outputs": [],
   "source": [
    "# resta\n",
    "a - b"
   ]
  },
  {
   "cell_type": "markdown",
   "metadata": {
    "id": "pNwiVUt3T2Cv"
   },
   "source": [
    "A continuación, exploraremos cómo hacer divisiones en Python. Primero, realizaremos una división normal y luego verificararemos el tipo de dato del resultado."
   ]
  },
  {
   "cell_type": "code",
   "execution_count": null,
   "metadata": {
    "id": "VQOxXlhCT2Cv"
   },
   "outputs": [],
   "source": [
    "# divisiones\n",
    "division = a / b"
   ]
  },
  {
   "cell_type": "code",
   "execution_count": null,
   "metadata": {
    "id": "hMaYElt_T2Cv",
    "outputId": "c633de59-9cfb-44da-e1fc-d9baf9de1366"
   },
   "outputs": [],
   "source": [
    "type(division)"
   ]
  },
  {
   "cell_type": "markdown",
   "metadata": {
    "id": "zMqZL6NxT2Cw"
   },
   "source": [
    "Ahora, vamos a aprender sobre la \"floor division\", que redondea el resultado de la división hacia abajo al número entero más cercano. También comprobaremos el tipo de dato del resultado."
   ]
  },
  {
   "cell_type": "code",
   "execution_count": null,
   "metadata": {
    "id": "WAnupowbT2Cw",
    "outputId": "6276e221-20d3-4a69-86c3-3823234dc02f"
   },
   "outputs": [],
   "source": [
    "# divisiones: floor division: división redondeada hacia abajo\n",
    "floor_division = a // b\n",
    "floor_division"
   ]
  },
  {
   "cell_type": "code",
   "execution_count": null,
   "metadata": {
    "id": "1UfQ0ScqT2Cw",
    "outputId": "7d558ac4-21c4-44bd-82de-48f3d73fafca"
   },
   "outputs": [],
   "source": [
    "type(floor_division)"
   ]
  },
  {
   "cell_type": "markdown",
   "metadata": {
    "id": "n_FFRTbyT2Cx"
   },
   "source": [
    "A continuación, exploraremos el operador módulo (`%`), que nos da el resto de una división. Primero, encontraremos el módulo de `a` dividido por `b`."
   ]
  },
  {
   "cell_type": "code",
   "execution_count": null,
   "metadata": {
    "id": "3GBxxEPKT2Cx",
    "outputId": "879d27d2-26f2-4bad-d1a3-feb7b3999fa0"
   },
   "outputs": [],
   "source": [
    "#Módulo: resto de la división\n",
    "a % b"
   ]
  },
  {
   "cell_type": "markdown",
   "metadata": {
    "id": "StQjM4K0T2Cx"
   },
   "source": [
    "Para comprender mejor cómo funcionan las divisiones y el operador módulo, imprimiremos los valores de `a` y `b`."
   ]
  },
  {
   "cell_type": "code",
   "execution_count": null,
   "metadata": {
    "id": "MbKIymviT2Cx",
    "outputId": "028ec11b-a079-4d75-a0ef-75f0516638ab"
   },
   "outputs": [],
   "source": [
    "a"
   ]
  },
  {
   "cell_type": "code",
   "execution_count": null,
   "metadata": {
    "id": "-093mjaWT2Cx",
    "outputId": "f96cd531-742e-44e9-f882-d4c560ce9a4e"
   },
   "outputs": [],
   "source": [
    "b"
   ]
  },
  {
   "cell_type": "markdown",
   "metadata": {
    "id": "u9kUB4x5T2Cx"
   },
   "source": [
    "A continuación, utilizaremos el operador módulo para determinar si los números en una lista son pares o impares. Si un número dividido por 2 da un resto de 0, entonces es par. Vamos a crear un bucle que recorra una lista de números y nos indique si cada número es par o impar."
   ]
  },
  {
   "cell_type": "code",
   "execution_count": 6,
   "metadata": {
    "id": "q6U8HO7qT2Cy",
    "outputId": "4497d705-5b5e-4e0b-aaf3-7306df4dac64"
   },
   "outputs": [
    {
     "name": "stdout",
     "output_type": "stream",
     "text": [
      "El numero 1 NO es par\n",
      "El numero 2 es par\n",
      "El numero 3 NO es par\n",
      "El numero 4 es par\n",
      "El numero 5 NO es par\n",
      "El numero 6 es par\n"
     ]
    }
   ],
   "source": [
    "# Par / impar -> módulo (resto)\n",
    "# Si el resto de una división entre dos es cero: par\n",
    "\n",
    "list_ = [1, 2, 3, 4, 5, 6]\n",
    "\n",
    "for i in list_:\n",
    "    if i % 2 == 0:\n",
    "        print(f\"El numero {i} es par\")\n",
    "    else:\n",
    "        print(f\"El numero {i} NO es par\")"
   ]
  },
  {
   "cell_type": "markdown",
   "metadata": {
    "id": "MxJYyfnCT2Cy"
   },
   "source": [
    "### \n",
    "Ejercicio Práctico\n",
    "Ahora que hemos explorado algunas operaciones básicas en Python, es tu turno de intentarlo.\n",
    "\n",
    "**Instrucciones:**\n",
    "1. Crea dos nuevas variables, `x` e `y`, y asigna cualquier número entero a cada una de ellas.\n",
    "2. Realiza las siguientes operaciones usando estas variables:\n",
    "   - Suma\n",
    "   - Resta\n",
    "   - Multiplicación\n",
    "   - División y comprobar el tipo de resultado\n",
    "   - floor division y comprobar el tipo de resultado\n",
    "   - Encuentra el módulo (resto de la división)\n",
    "3. Usa un bucle `for` para iterar sobre una lista de números del 1 al 10 e imprime si cada número es par o impar.\n",
    "\n",
    "No olvides imprimir los resultados para verificar tus soluciones."
   ]
  },
  {
   "cell_type": "code",
   "execution_count": 8,
   "metadata": {
    "id": "HxCyoTLoT2Cy"
   },
   "outputs": [
    {
     "name": "stdout",
     "output_type": "stream",
     "text": [
      "115\n",
      "85\n",
      "1500\n",
      "6.666666666666667\n",
      "6\n",
      "10\n"
     ]
    }
   ],
   "source": [
    "# tu solución aquí\n",
    "\n",
    "y = 100\n",
    "x = 15\n",
    "\n",
    "sum = y + x\n",
    "print(sum)\n",
    "\n",
    "sub = y - x\n",
    "print(sub)\n",
    "\n",
    "mult = y * x\n",
    "print(mult)\n",
    "\n",
    "div = y / x\n",
    "print(div)\n",
    "\n",
    "floor_div = y // x\n",
    "print(floor_div)\n",
    "\n",
    "mod = y % x\n",
    "print(mod)\n"
   ]
  },
  {
   "cell_type": "markdown",
   "metadata": {
    "id": "9QTdzNM-T2Cy"
   },
   "source": [
    "### built-in and imported things\n",
    "\n",
    "En el mundo de Python, a menudo trabajarás con diferentes métodos y funciones para realizar tareas específicas en tu código. Los \"métodos\" y las \"funciones\" son esencialmente cosas que realizan acciones (o, como decimos coloquialmente, \"cosas que hacen cosas\"). A continuación, vamos a explorar dos categorías principales de estos: las cosas incorporadas y las cosas importadas (*resumen methods = functions = things that do things*).\n",
    "\n",
    "- **Métodos incorporados (built-in methods):**\n",
    "Son funciones o cosas que ya están incluidas en Python cuando lo instalas. No necesitas instalar nada extra para usarlos. Algunos ejemplos son los métodos `print` y `sum`.\n",
    "\n",
    "- **Cosas importadas (imported things):**\n",
    "A veces, podrías necesitar usar funciones o cosas que no están incorporadas directamente en Python. En estos casos, necesitarás importarlos desde una biblioteca externa. Antes de poder usar estas funciones, deberás instalar la biblioteca correspondiente con un comando `pip install` o `conda install`, y luego importarla en tu script.\n",
    "\n",
    "A continuación, exploraremos algunos ejemplos de ambos tipos de \"cosas\":"
   ]
  },
  {
   "cell_type": "code",
   "execution_count": 10,
   "metadata": {
    "id": "z4U5zFDpT2Cy",
    "outputId": "9008ba0e-d6b9-40ba-8c47-25d8d0593486"
   },
   "outputs": [
    {
     "name": "stdout",
     "output_type": "stream",
     "text": [
      "Se llama built-in\n"
     ]
    }
   ],
   "source": [
    "# Primero, vamos a explorar un método incorporado: print\n",
    "# El método print nos permite imprimir mensajes en la consola.\n",
    "print(\"Se llama built-in\")"
   ]
  },
  {
   "cell_type": "code",
   "execution_count": 12,
   "metadata": {
    "id": "fXbPoqusT2Cy",
    "outputId": "1067cb55-c861-4f0f-b927-5db23f05d11c"
   },
   "outputs": [
    {
     "data": {
      "text/plain": [
       "'ESTO ES UNA STRING'"
      ]
     },
     "execution_count": 12,
     "metadata": {},
     "output_type": "execute_result"
    }
   ],
   "source": [
    "# Otro ejemplo de un método incorporado es upper.\n",
    "# Este método convierte una cadena de texto (string) en mayúsculas.\n",
    "\"Esto es una string\".upper()"
   ]
  },
  {
   "cell_type": "code",
   "execution_count": 14,
   "metadata": {
    "id": "Mu_vOQHnT2Cz"
   },
   "outputs": [],
   "source": [
    "# Ahora, vamos a explorar cómo importar y usar cosas de una biblioteca externa.\n",
    "# Primero, necesitamos importar la biblioteca. En este caso, estamos importando la biblioteca math.\n",
    "import math"
   ]
  },
  {
   "cell_type": "code",
   "execution_count": 16,
   "metadata": {
    "id": "yrZtDQywT2Cz",
    "outputId": "f4f33e94-9a17-4512-ce84-44fb7d280cb1"
   },
   "outputs": [
    {
     "data": {
      "text/plain": [
       "8789"
      ]
     },
     "execution_count": 16,
     "metadata": {},
     "output_type": "execute_result"
    }
   ],
   "source": [
    "# A continuación, usamos una función de la biblioteca math: floor.\n",
    "# La función floor redondea un número hacia abajo al entero más cercano.\n",
    "math.floor(8789.098767)"
   ]
  },
  {
   "cell_type": "code",
   "execution_count": 18,
   "metadata": {},
   "outputs": [
    {
     "data": {
      "text/plain": [
       "8790"
      ]
     },
     "execution_count": 18,
     "metadata": {},
     "output_type": "execute_result"
    }
   ],
   "source": [
    "# A continuación, usamos una función de la biblioteca math: ceil.\n",
    "# La función ceil redondea un número hacia arriba al entero más cercano.\n",
    "math.ceil(8789.098767)"
   ]
  },
  {
   "cell_type": "markdown",
   "metadata": {
    "id": "69N1wZQjT2Cz",
    "lang": "en"
   },
   "source": [
    "## Strings (character strings)\n",
    "\n",
    "Las cadenas de caracteres, también conocidas como \"strings\", son una secuencia de caracteres, que pueden incluir letras, números, símbolos, y hasta emojis. Las cadenas pueden estar encerradas en comillas dobles o simples, y podemos incluso definir cadenas de varias líneas utilizando comillas triples. A continuación, vamos a explorar varios ejemplos y características de las cadenas en Python.\n",
    "\n",
    "Ejemplos de cómo definir una cadena con diferentes tipos de comillas:"
   ]
  },
  {
   "cell_type": "code",
   "execution_count": null,
   "metadata": {
    "id": "n7xpbuXzT2Cz",
    "outputId": "fe9a1e97-a9dc-4eec-c043-e7b9a4a890f7",
    "scrolled": true
   },
   "outputs": [],
   "source": [
    "\"Esto es una string\""
   ]
  },
  {
   "cell_type": "code",
   "execution_count": null,
   "metadata": {
    "id": "d_o-K473T2Cz",
    "outputId": "4d55bd77-b24a-4b9f-d91e-77d42030a537"
   },
   "outputs": [],
   "source": [
    "'Esto es una string con comillas simples'"
   ]
  },
  {
   "cell_type": "code",
   "execution_count": null,
   "metadata": {
    "id": "U3UCJ-fXT2C0",
    "outputId": "02e9a92d-d8fe-4ce0-bf54-0f854b8d9335",
    "scrolled": true
   },
   "outputs": [],
   "source": [
    "\"Esto es una string con comillas dobles\" #End Of Line"
   ]
  },
  {
   "cell_type": "markdown",
   "metadata": {
    "id": "NAMh2HAeT2C0"
   },
   "source": [
    "Podemos asignar un `string` a una variable, como se muestra aquí:"
   ]
  },
  {
   "cell_type": "code",
   "execution_count": 20,
   "metadata": {
    "id": "RmsGXif-T2C0",
    "outputId": "7b3b2c1d-ffb1-43d7-8efc-9cec89259a66"
   },
   "outputs": [
    {
     "data": {
      "text/plain": [
       "'4'"
      ]
     },
     "execution_count": 20,
     "metadata": {},
     "output_type": "execute_result"
    }
   ],
   "source": [
    "esto_es_string_tambien = \"4\"\n",
    "esto_es_string_tambien"
   ]
  },
  {
   "cell_type": "markdown",
   "metadata": {
    "id": "2x4eFf_UT2C0"
   },
   "source": [
    "Podemos verificar el tipo de una variable utilizando la función `type`:"
   ]
  },
  {
   "cell_type": "code",
   "execution_count": 22,
   "metadata": {
    "id": "rKsM4YotT2C0",
    "outputId": "24c7fcec-383e-445c-f117-50276d135e92"
   },
   "outputs": [
    {
     "data": {
      "text/plain": [
       "str"
      ]
     },
     "execution_count": 22,
     "metadata": {},
     "output_type": "execute_result"
    }
   ],
   "source": [
    "type(esto_es_string_tambien)"
   ]
  },
  {
   "cell_type": "markdown",
   "metadata": {
    "id": "CTae_Hc7T2C0"
   },
   "source": [
    "Intentando crear un `string` de varias líneas sin comillas triples resultará en un error:"
   ]
  },
  {
   "cell_type": "code",
   "execution_count": 2,
   "metadata": {
    "id": "iJnX6UgjT2C1",
    "outputId": "005734d0-3d71-4825-c114-1187388aa4be"
   },
   "outputs": [
    {
     "ename": "SyntaxError",
     "evalue": "unterminated string literal (detected at line 1) (415538447.py, line 1)",
     "output_type": "error",
     "traceback": [
      "\u001b[1;36m  Cell \u001b[1;32mIn[2], line 1\u001b[1;36m\u001b[0m\n\u001b[1;33m    \"Esto es una string\u001b[0m\n\u001b[1;37m    ^\u001b[0m\n\u001b[1;31mSyntaxError\u001b[0m\u001b[1;31m:\u001b[0m unterminated string literal (detected at line 1)\n"
     ]
    }
   ],
   "source": [
    "\"Esto es una string\n",
    "con varias lineas\""
   ]
  },
  {
   "cell_type": "markdown",
   "metadata": {
    "id": "jN8T3lEOT2C1"
   },
   "source": [
    "Para crear un `string` de varias líneas correctamente, debemos usar comillas triples:"
   ]
  },
  {
   "cell_type": "code",
   "execution_count": 24,
   "metadata": {
    "id": "PxjF7VfhT2C1",
    "outputId": "71cb6ec4-f68c-403c-933d-7979c3b41c66"
   },
   "outputs": [
    {
     "data": {
      "text/plain": [
       "'\\nEsto es una string\\ncon varias lineas'"
      ]
     },
     "execution_count": 24,
     "metadata": {},
     "output_type": "execute_result"
    }
   ],
   "source": [
    "\"\"\"\n",
    "Esto es una string\n",
    "con varias lineas\"\"\""
   ]
  },
  {
   "cell_type": "markdown",
   "metadata": {
    "id": "idG0OC1NT2C1"
   },
   "source": [
    "También podemos imprimir un `string` de varias líneas usando la función print y comillas triples:"
   ]
  },
  {
   "cell_type": "code",
   "execution_count": 26,
   "metadata": {
    "id": "Rhqh2Q14T2C2",
    "outputId": "e39c1211-923b-4aec-e795-7d2c9973b3af"
   },
   "outputs": [
    {
     "name": "stdout",
     "output_type": "stream",
     "text": [
      "\n",
      "Esto es una string\n",
      "con varias lineas\n"
     ]
    }
   ],
   "source": [
    "print(\"\"\"\n",
    "Esto es una string\n",
    "con varias lineas\"\"\")"
   ]
  },
  {
   "cell_type": "markdown",
   "metadata": {
    "id": "1-Fnf8sAT2C2"
   },
   "source": [
    "#### icons\n",
    "Los strings pueden contener emojis, como se muestra aquí:"
   ]
  },
  {
   "cell_type": "code",
   "execution_count": 4,
   "metadata": {
    "id": "7KspfE8AT2C2",
    "outputId": "c17c84b3-5845-4da8-ba1d-c4f05d68a037"
   },
   "outputs": [
    {
     "data": {
      "text/plain": [
       "'😍'"
      ]
     },
     "execution_count": 4,
     "metadata": {},
     "output_type": "execute_result"
    }
   ],
   "source": [
    "\"😍\" #emojis -> son strings"
   ]
  },
  {
   "cell_type": "code",
   "execution_count": 6,
   "metadata": {
    "id": "Ymxz2Bl4T2C2"
   },
   "outputs": [],
   "source": [
    "cara_corazones = \"😍\""
   ]
  },
  {
   "cell_type": "code",
   "execution_count": 8,
   "metadata": {
    "id": "E9Zv0t03T2C2",
    "outputId": "6d321996-a543-4f5b-e965-60287543d0a9"
   },
   "outputs": [
    {
     "data": {
      "text/plain": [
       "'😍'"
      ]
     },
     "execution_count": 8,
     "metadata": {},
     "output_type": "execute_result"
    }
   ],
   "source": [
    "cara_corazones"
   ]
  },
  {
   "cell_type": "code",
   "execution_count": 10,
   "metadata": {
    "id": "CTWlZ7p1T2C2",
    "outputId": "12a9878a-8096-45da-c315-da79f80f4845"
   },
   "outputs": [
    {
     "data": {
      "text/plain": [
       "str"
      ]
     },
     "execution_count": 10,
     "metadata": {},
     "output_type": "execute_result"
    }
   ],
   "source": [
    "type(cara_corazones)"
   ]
  },
  {
   "cell_type": "markdown",
   "metadata": {
    "id": "-gXjkGtLT2C2",
    "lang": "en"
   },
   "source": [
    "## Casting in Python\n",
    "\n",
    "La conversión de tipos, también conocida como \"casting\", se refiere al proceso de convertir un tipo de dato a otro. Previamente hemos visto tipos de datos como `int`, `string` o `float`. Bueno, resulta que es posible convertir de un tipo a otro. Pero antes que nada, veamos los diferentes tipos de conversiones o transformaciones de tipo que se pueden realizar. Existen dos:\n",
    "\n",
    "**Conversión implícita:** Esto es realizado automáticamente por Python. Ocurre cuando realizamos ciertas operaciones con dos tipos diferentes, Python hace la conversión en el fondo sin necesidad de que el programador lo indique explícitamente.\n",
    "\n",
    "**Conversión explícita:** Nosotros realizamos esto de manera explícita, como convertir un `str` a `int` con `int()` o a `float` con `float()`. Este tipo de conversión es realizado mediante el uso de funciones predefinidas de Python.\n",
    "\n",
    "Es importante tener en cuenta que no todos los tipos de datos pueden convertirse entre sí de forma segura. Por ejemplo, intentar convertir una cadena de texto que contiene letras a un entero producirá un error. Por lo tanto, siempre es una buena práctica manejar posibles errores usando estructuras de control de excepciones, lo que veremos más adelante en el curso.\n",
    "\n",
    "¡Vamos a ver algunos ejemplos de cada uno para entender mejor cómo funcionan!\n"
   ]
  },
  {
   "cell_type": "markdown",
   "metadata": {
    "id": "2dYFB_zET2C3",
    "lang": "en"
   },
   "source": [
    "### Implicit conversion\n",
    "Este tipo de conversión es realizado automáticamente por Python, prácticamente sin que nos demos cuenta. Aún así, es importante conocer lo que está sucediendo debajo del capó para evitar problemas futuros.\n",
    "\n",
    "El ejemplo más sencillo donde podemos ver este comportamiento es el siguiente:\n",
    "- `a` es un `int`\n",
    "- `b` es un `float`\n",
    "\n",
    "Pero si sumamos `a` y `b` y almacenamos el resultado en `a`, podemos ver cómo internamente Python ha convertido el `int` a `float` para realizar la operación, y la variable resultante es `float`. Sin embargo, hay otros casos donde Python no es tan inteligente y no es capaz de realizar la conversión. Si intentamos añadir un `int` a una `string`, obtendremos un `TypeError`."
   ]
  },
  {
   "cell_type": "code",
   "execution_count": null,
   "metadata": {
    "id": "0jHglnf_T2C3"
   },
   "outputs": [],
   "source": [
    "a = 5       # Esto es un int\n",
    "b = 4.5     # Esto es un float"
   ]
  },
  {
   "cell_type": "code",
   "execution_count": null,
   "metadata": {
    "id": "Uf73fxNOT2C3",
    "outputId": "c194de00-6deb-48c0-a457-754ede6ac441"
   },
   "outputs": [],
   "source": [
    "c = a + b   # Python convierte automáticamente a a float para realizar la operación\n",
    "print(c)    # El resultado, 9.5, es un float"
   ]
  },
  {
   "cell_type": "code",
   "execution_count": null,
   "metadata": {
    "id": "ydmS1A_5T2C3",
    "outputId": "2f0d9fb1-6a4b-474f-8d71-4c8a0d7d756b"
   },
   "outputs": [],
   "source": [
    "# Pero, si intentamos hacer una operación entre un string y un entero:\n",
    "d = \"Hola\" + a  # Esto provocará un TypeError"
   ]
  },
  {
   "cell_type": "markdown",
   "metadata": {
    "id": "Wm6TkZ8oT2C3",
    "lang": "en"
   },
   "source": [
    "### explicit conversion\n",
    "Por otro lado, podemos realizar conversiones entre tipos o castings de manera explícita utilizando diferentes funciones que Python proporciona. Las más utilizadas son las siguientes:\n",
    "\n",
    "`float()`, `str()`, `int()`, `list()`, `set()`"
   ]
  },
  {
   "cell_type": "markdown",
   "metadata": {
    "id": "4-O3QLqQT2C3"
   },
   "source": [
    "#### Convert float to int\n",
    "Para convertir de float a int debemos usar `int()`. Pero cuidado, porque el tipo entero no puede almacenar decimales, así que perderemos lo que esté después del punto decimal."
   ]
  },
  {
   "cell_type": "code",
   "execution_count": null,
   "metadata": {
    "id": "Zvrk25ZfT2C3"
   },
   "outputs": [],
   "source": [
    "# Ejemplo de conversión explícita\n",
    "numero_float = 5.7\n",
    "numero_int = int(numero_float)"
   ]
  },
  {
   "cell_type": "code",
   "execution_count": null,
   "metadata": {
    "id": "8xL5XHTJT2C3",
    "outputId": "d979c5de-b44d-4c87-c522-08e14e3dc815"
   },
   "outputs": [],
   "source": [
    "print(numero_int)  # El resultado será 5, perdiendo la parte decimal."
   ]
  },
  {
   "cell_type": "markdown",
   "metadata": {
    "id": "NTpgF5AKT2C4",
    "lang": "en"
   },
   "source": [
    "#### Convert a float to a string\n",
    "Podemos convertir un float a un string de texto utilizando `str()`. Podemos ver en el siguiente código cómo cambia el tipo de `a` después de la conversión."
   ]
  },
  {
   "cell_type": "code",
   "execution_count": null,
   "metadata": {
    "id": "KyabAkhTT2C4",
    "outputId": "0308408f-5508-4504-e285-5318c782e4d7"
   },
   "outputs": [],
   "source": [
    "# Ejemplo de convertir un float a un string\n",
    "a = 3.14159\n",
    "print(type(a))  # Esto imprimirá: <class 'float'>"
   ]
  },
  {
   "cell_type": "code",
   "execution_count": null,
   "metadata": {
    "id": "fJ-Er8lVT2C4",
    "outputId": "ff64fff3-2b5c-45a0-e012-50a7a776897e"
   },
   "outputs": [],
   "source": [
    "a = str(a)\n",
    "print(type(a))  # Esto imprimirá: <class 'str'>\n",
    "print(a)        # Esto imprimirá: 3.14159, pero ahora como una cadena de texto."
   ]
  },
  {
   "cell_type": "markdown",
   "metadata": {
    "id": "_wAPNIjFT2C4",
    "lang": "en"
   },
   "source": [
    "#### Convert int to str\n",
    "Al igual que la conversión a float que vimos anteriormente, podemos convertir de int a str utilizando `str()`. Veamos un ejemplo a continuación:"
   ]
  },
  {
   "cell_type": "code",
   "execution_count": null,
   "metadata": {
    "id": "gfVx-63IT2C4",
    "outputId": "f85aeb8e-60bd-42fc-9390-93ac584033d2"
   },
   "outputs": [],
   "source": [
    "# Ejemplo de convertir un entero a una cadena de texto\n",
    "a = 42\n",
    "print(type(a))  # Esto imprimirá: <class 'int'>"
   ]
  },
  {
   "cell_type": "code",
   "execution_count": null,
   "metadata": {
    "id": "xPyLuX01T2C4",
    "outputId": "76b1e80e-fc3c-49b8-bf3d-06d88f6686d4",
    "scrolled": true
   },
   "outputs": [],
   "source": [
    "a = str(a)\n",
    "print(type(a))  # Esto imprimirá: <class 'str'>\n",
    "print(a)        # Esto imprimirá: \"42\", pero ahora como una cadena de texto."
   ]
  },
  {
   "cell_type": "markdown",
   "metadata": {
    "id": "swaQBQe9T2C5"
   },
   "source": [
    "#### Ejercicio\n",
    "Ahora es tu turno de probar la conversión de int a str. Realiza las siguientes tareas:\n",
    "\n",
    "1. Crea una variable `edad` y asígnale tu edad como un entero.\n",
    "2. Convierte la variable `edad` a un string utilizando la función `str()`.\n",
    "3. Concatena la cadena \"Mi edad es: \" con la variable `edad` (ahora una cadena) y almacena el resultado en una nueva variable llamada `mensaje`.\n",
    "4. Imprime la variable `mensaje` en la consola.\n",
    "\n",
    "A continuación, te dejo un esquema básico que puedes utilizar:"
   ]
  },
  {
   "cell_type": "code",
   "execution_count": 12,
   "metadata": {
    "id": "Ls2EU1hzT2C5",
    "outputId": "795ccc82-c114-4cec-e5d7-e0524c5fb07a"
   },
   "outputs": [
    {
     "name": "stdout",
     "output_type": "stream",
     "text": [
      "Mi edad es: 42\n"
     ]
    }
   ],
   "source": [
    "# Paso 1: Crea una variable edad con tu edad como un entero\n",
    "edad = 42\n",
    "\n",
    "# Paso 2: Convierte la variable edad a un string\n",
    "edad = str(edad)\n",
    "\n",
    "# Paso 3: Concatena \"Mi edad es: \" con la variable edad y almacena el resultado en una nueva variable llamada mensaje\n",
    "mensaje = \"Mi edad es: \" + edad\n",
    "\n",
    "# Paso 4: Imprime la variable mensaje\n",
    "print(mensaje)"
   ]
  },
  {
   "cell_type": "markdown",
   "metadata": {
    "id": "2K9_-8-2T2C5",
    "lang": "en"
   },
   "source": [
    "## Input and output data\n",
    "En el desarrollo de programas, a menudo necesitamos interactuar con los usuarios permitiéndoles introducir datos (input) y mostrándoles resultados o mensajes (output). Python proporciona métodos sencillos y directos para lograr esto, facilitando la creación de scripts interactivos y amigables. A continuación, exploraremos cómo podemos lograr esto utilizando Python.\n",
    "\n",
    "### Input\n",
    "\n",
    "Para asignar una variable a un valor ingresado por el usuario desde la consola, utilizamos la función `input()`. Esta función puede llevar un argumento opcional: el mensaje o la indicación que se desea mostrar en pantalla para guiar al usuario sobre qué tipo de información se espera que ingrese. Es fundamental tener en cuenta que, independientemente del tipo de datos que el usuario ingrese, la función `input()` siempre devolverá un string. Aquí está el esquema básico de cómo funciona:\n",
    "\n",
    "`input(message)` : Muestra el mensaje en la terminal y devuelve una cadena con la entrada del usuario.\n",
    "\n",
    "A menudo, puede ser necesario convertir esta cadena a un tipo de datos diferente, dependiendo de cómo planeas usar el valor ingresado en tu script. Esto lo podríamos hacer utilizando técnicas de conversión de tipos, o \"casting\", que discutimos en secciones anteriores."
   ]
  },
  {
   "cell_type": "code",
   "execution_count": null,
   "metadata": {
    "id": "Kwh5OWeTT2C5"
   },
   "outputs": [],
   "source": [
    "saludo = input()\n",
    "saludo"
   ]
  },
  {
   "cell_type": "markdown",
   "metadata": {
    "id": "BUNf9v8xT2C5"
   },
   "source": [
    "Ahora, vamos a personalizar el mensaje que aparece cuando pedimos una entrada al usuario utilizando el argumento `prompt` de la función `input()`."
   ]
  },
  {
   "cell_type": "code",
   "execution_count": null,
   "metadata": {
    "id": "lh-jri6YT2C5"
   },
   "outputs": [],
   "source": [
    "saludo = input(prompt = \"Esto es el prompt\")"
   ]
  },
  {
   "cell_type": "markdown",
   "metadata": {
    "id": "W2iuvoDdT2C6"
   },
   "source": [
    "Continuemos solicitando más información al usuario, como su nombre y un número. Luego, experimentaremos con las operaciones que podemos realizar con estas entradas."
   ]
  },
  {
   "cell_type": "code",
   "execution_count": null,
   "metadata": {
    "id": "B_d6ueBgT2C6"
   },
   "outputs": [],
   "source": [
    "nombre = input(\"Escribe aquí tu nombre: \")\n",
    "nombre"
   ]
  },
  {
   "cell_type": "code",
   "execution_count": 16,
   "metadata": {
    "id": "VSMsQOBbT2C6"
   },
   "outputs": [
    {
     "name": "stdin",
     "output_type": "stream",
     "text": [
      "Escribe aquí tu número:  42\n"
     ]
    },
    {
     "data": {
      "text/plain": [
       "'42'"
      ]
     },
     "execution_count": 16,
     "metadata": {},
     "output_type": "execute_result"
    }
   ],
   "source": [
    "number = input(\"Escribe aquí tu número: \")\n",
    "number"
   ]
  },
  {
   "cell_type": "markdown",
   "metadata": {
    "id": "EhfB2yY-T2C6"
   },
   "source": [
    "Al intentar operar con un string que representa un número, veremos que no se comporta como un número real. Por ejemplo, si intentamos multiplicarlo por 10 o dividirlo por 2, obtendremos errores o comportamientos no deseados."
   ]
  },
  {
   "cell_type": "code",
   "execution_count": 18,
   "metadata": {
    "id": "RhDGYdZeT2C7"
   },
   "outputs": [
    {
     "data": {
      "text/plain": [
       "'42424242424242424242'"
      ]
     },
     "execution_count": 18,
     "metadata": {},
     "output_type": "execute_result"
    }
   ],
   "source": [
    "number * 10"
   ]
  },
  {
   "cell_type": "code",
   "execution_count": 26,
   "metadata": {
    "id": "VF3pGkj9T2C7"
   },
   "outputs": [
    {
     "ename": "TypeError",
     "evalue": "unsupported operand type(s) for /: 'str' and 'int'",
     "output_type": "error",
     "traceback": [
      "\u001b[1;31m---------------------------------------------------------------------------\u001b[0m",
      "\u001b[1;31mTypeError\u001b[0m                                 Traceback (most recent call last)",
      "Cell \u001b[1;32mIn[26], line 2\u001b[0m\n\u001b[0;32m      1\u001b[0m \u001b[38;5;66;03m# Esto generará un error porque estamos intentando dividir un string\u001b[39;00m\n\u001b[1;32m----> 2\u001b[0m number \u001b[38;5;241m/\u001b[39m \u001b[38;5;241m2\u001b[39m\n",
      "\u001b[1;31mTypeError\u001b[0m: unsupported operand type(s) for /: 'str' and 'int'"
     ]
    }
   ],
   "source": [
    "# Esto generará un error porque estamos intentando dividir un string\n",
    "number / 2"
   ]
  },
  {
   "cell_type": "markdown",
   "metadata": {
    "id": "CN5BjaGnT2C7"
   },
   "source": [
    "Para evitar estos problemas, podemos convertir la entrada a un número utilizando la función `int()`. Una vez que la entrada es un entero, podemos realizar operaciones numéricas con ella."
   ]
  },
  {
   "cell_type": "code",
   "execution_count": null,
   "metadata": {
    "id": "VwuIolv5T2C7"
   },
   "outputs": [],
   "source": [
    "numero = int(input(\"Escribe aquí tu número: \"))\n",
    "numero"
   ]
  },
  {
   "cell_type": "code",
   "execution_count": null,
   "metadata": {
    "id": "fl_yR_w0T2C8"
   },
   "outputs": [],
   "source": [
    "type(numero)"
   ]
  },
  {
   "cell_type": "code",
   "execution_count": null,
   "metadata": {
    "id": "mnEg5aJHT2C9"
   },
   "outputs": [],
   "source": [
    "int(numero / 2)"
   ]
  },
  {
   "cell_type": "markdown",
   "metadata": {
    "id": "LgaszcQRT2C-"
   },
   "source": [
    "**Reflexiones Finales**\n",
    "\n",
    "Es importante anticipar posibles problemas en las entradas de los usuarios y gestionarlos adecuadamente para evitar errores durante la ejecución. Una forma de hacerlo es a través de la programación defensiva, donde se verifica la validez de las entradas antes de proceder con las operaciones. Además, podemos utilizar estructuras de control de flujo, como `if/else`, y gestión de errores con `try/except` para manejar situaciones inesperadas de manera más elegante.\n",
    "\n",
    "A Considerar:\n",
    "- Anticipar un posible problema -> Programación defensiva.\n",
    "- Asegurarse de que el número es un entero antes de realizar operaciones que requieren enteros.\n",
    "- Utilizar lógica condicional (`if/else`) para gestionar diferentes casos.\n",
    "- Manejar errores de forma proactiva utilizando `try/except` para prevenir fallos durante la ejecución.\n"
   ]
  },
  {
   "cell_type": "markdown",
   "metadata": {
    "id": "ZOSsHAYOT2C-",
    "lang": "en"
   },
   "source": [
    "### Print\n",
    "\n",
    "La función `print()` se utiliza para escribir el mensaje especificado en la pantalla o en otro dispositivo de salida estándar.\n",
    "\n",
    "El mensaje puede ser una cadena (string) o cualquier otro objeto; el objeto se convertirá en un string antes de ser escrito en la pantalla. A continuación, vamos a explorar algunas de las funcionalidades y particularidades de la función `print()`.\n",
    "\n",
    "**Observaciones**:\n",
    "\n",
    "- **NUESTRO AMIGO**: La función `print()` es una herramienta fundamental para la depuración de código. Nos permite visualizar los valores de diferentes variables en varios puntos de nuestro código, lo que facilita la identificación de errores o \"bugs\".\n",
    "- **Depuración**: Es el proceso de identificar y corregir errores en el código. Utilizar `print()` es una de las formas más simples de \"debuggear\", es decir, buscar y corregir errores en el código.\n",
    "\n",
    "Vamos a ver cómo funciona en el siguiente fragmento de código:\n"
   ]
  },
  {
   "cell_type": "code",
   "execution_count": 28,
   "metadata": {
    "id": "_MG4EKfPT2C-",
    "outputId": "68547d54-cc0a-4fc2-c87c-062a20e9b80d"
   },
   "outputs": [
    {
     "data": {
      "text/plain": [
       "str"
      ]
     },
     "execution_count": 28,
     "metadata": {},
     "output_type": "execute_result"
    }
   ],
   "source": [
    "greeting = \"Hellooooo\"\n",
    "type(greeting)"
   ]
  },
  {
   "cell_type": "code",
   "execution_count": 30,
   "metadata": {
    "id": "kY3N5VKoT2C_"
   },
   "outputs": [
    {
     "name": "stdout",
     "output_type": "stream",
     "text": [
      "Hellooooo\n"
     ]
    },
    {
     "data": {
      "text/plain": [
       "NoneType"
      ]
     },
     "execution_count": 30,
     "metadata": {},
     "output_type": "execute_result"
    }
   ],
   "source": [
    "type(print(greeting))"
   ]
  },
  {
   "cell_type": "code",
   "execution_count": 32,
   "metadata": {
    "id": "oCWVXi1nT2C_"
   },
   "outputs": [
    {
     "data": {
      "text/plain": [
       "str"
      ]
     },
     "execution_count": 32,
     "metadata": {},
     "output_type": "execute_result"
    }
   ],
   "source": [
    "type(greeting)"
   ]
  },
  {
   "cell_type": "markdown",
   "metadata": {
    "id": "5iNOrHS8T2C_"
   },
   "source": [
    "#### Reflexiones\n",
    "Notarás que cuando utilizamos `print()`, el tipo que devuelve es `NoneType`. Esto es porque `print()` es una función que realiza una acción (imprimir algo en la consola) pero no devuelve ningún valor (su retorno es `None`). Esta es una distinción importante, especialmente cuando se compara con funciones que sí devuelven valores.\n",
    "\n",
    "#### Advertencia\n",
    "- Es fundamental recordar que `print()` imprime en la consola pero no retorna un valor que pueda ser utilizado en operaciones subsecuentes en el código."
   ]
  },
  {
   "cell_type": "markdown",
   "metadata": {
    "id": "jx449CPYT2C_"
   },
   "source": [
    "## Format\n",
    "En esta sección, exploraremos diferentes formas de formatear strings en Python, lo que puede ser especialmente útil cuando queremos incluir valores variables dentro de un string. Existen varias formas de hacer esto en Python, incluyendo la concatenación de strings usando `+`, usando una coma `,`, utilizando el método `.format()` o a través de las f-strings. A continuación, veremos ejemplos de cada uno de estos métodos y analizaremos los tipos de datos resultantes."
   ]
  },
  {
   "cell_type": "markdown",
   "metadata": {
    "id": "ma1uKJM_T2C_"
   },
   "source": [
    "### Format - 1"
   ]
  },
  {
   "cell_type": "code",
   "execution_count": null,
   "metadata": {
    "id": "Tkj4ZR6MT2DA"
   },
   "outputs": [],
   "source": [
    "# Primer caso: esto podría ser un caso de uso para las funciones input y output\n",
    "name = \"Santi\"\n",
    "age = 24"
   ]
  },
  {
   "cell_type": "code",
   "execution_count": null,
   "metadata": {
    "id": "qgyAKRQ7T2DA"
   },
   "outputs": [],
   "source": [
    "# Usando concatenación con '+'\n",
    "greeting = \"Hello my name is \" + name + \" and my age is \" + str(age)\n",
    "greeting"
   ]
  },
  {
   "cell_type": "code",
   "execution_count": null,
   "metadata": {
    "id": "m9H4BESdT2DA"
   },
   "outputs": [],
   "source": [
    "# Usando coma para concatenar\n",
    "greeting = \"Hello my name is \", name, \" and my age is \", str(age)\n",
    "greeting"
   ]
  },
  {
   "cell_type": "code",
   "execution_count": null,
   "metadata": {
    "id": "sk4uc7bYT2DA"
   },
   "outputs": [],
   "source": [
    "# Verificando el tipo de la variable greeting\n",
    "type(greeting)"
   ]
  },
  {
   "cell_type": "code",
   "execution_count": null,
   "metadata": {
    "id": "1Dp4wSTiT2DA"
   },
   "outputs": [],
   "source": [
    "# Añadiendo algunas opciones para reflexionar sobre qué tipo de datos tenemos aquí:\n",
    "# 1. String\n",
    "# 2. List\n",
    "# 3. Tuple\n",
    "# 4. CSV: comma separated values?"
   ]
  },
  {
   "cell_type": "code",
   "execution_count": null,
   "metadata": {
    "id": "DFpQSK4kT2DB"
   },
   "outputs": [],
   "source": [
    "# Utilizando f-strings para una formateación más limpia\n",
    "greeting = f\"Hello my name is {name} and my age is {age}\"\n",
    "greeting"
   ]
  },
  {
   "cell_type": "markdown",
   "metadata": {
    "id": "XyIm5R1OT2DB"
   },
   "source": [
    "### Format - 2"
   ]
  },
  {
   "cell_type": "code",
   "execution_count": null,
   "metadata": {
    "id": "ExH_HrjUT2DB"
   },
   "outputs": [],
   "source": [
    "# Segundo caso:\n",
    "name = \"Laura\"\n",
    "age = 30"
   ]
  },
  {
   "cell_type": "code",
   "execution_count": null,
   "metadata": {
    "id": "M-9WCkcZT2DB"
   },
   "outputs": [],
   "source": [
    "# Usando el método .format() para insertar valores en un string\n",
    "greeting = \"Hello my name is {} and my age is {}\".format(name, age)\n",
    "greeting"
   ]
  },
  {
   "cell_type": "markdown",
   "metadata": {
    "id": "7BpNEwf4T2DB"
   },
   "source": [
    "**Ejercicio**\n",
    "\n",
    "Ahora que hemos aprendido varias formas de formatear strings en Python, es momento de poner en práctica lo aprendido. En este ejercicio, te pediremos que utilices la función `input()` para solicitar cierta información al usuario y luego formatea esa información utilizando al menos dos de los métodos que hemos discutido anteriormente (concatenación con '+', usando comas, f-strings o el método `.format()`).\n",
    "\n",
    "Instrucciones:\n",
    "1. Pide al usuario que ingrese su nombre y su edad utilizando la función `input()`.\n",
    "2. Crea un mensaje de saludo que incluya el nombre y la edad del usuario, utilizando dos métodos diferentes de formateo de strings.\n",
    "3. Imprime ambos mensajes en la consola para verificar tu trabajo.\n"
   ]
  },
  {
   "cell_type": "code",
   "execution_count": 11,
   "metadata": {
    "id": "SAGsvY03T2DB"
   },
   "outputs": [
    {
     "name": "stdin",
     "output_type": "stream",
     "text": [
      "Please enter your name:  Miquel\n",
      "Please enter your age:  42\n"
     ]
    },
    {
     "name": "stdout",
     "output_type": "stream",
     "text": [
      "Hello! Your name is Miquel and your age is 42.\n",
      "('Hello! Your name is ', 'Miquel', ' and your age is ', '42', '.')\n",
      "Hello! Your name is Miquel and your age is 42.\n",
      "Hello! Your name is Miquel and your age is 42.\n",
      "<class 'str'>\n",
      "<class 'tuple'>\n",
      "<class 'str'>\n",
      "<class 'str'>\n"
     ]
    }
   ],
   "source": [
    "# tu codigo aquí\n",
    "\n",
    "name = input(\"Please enter your name: \")\n",
    "age = input(\"Please enter your age: \")\n",
    "\n",
    "greeting_1 = \"Hello! Your name is \" + name + \" and your age is \" + age + \".\"\n",
    "greeting_2 = \"Hello! Your name is \", name, \" and your age is \", age, \".\"\n",
    "greeting_3 = f\"Hello! Your name is {name} and your age is {age}.\"                 #Better to use this structure\n",
    "greeting_4 = \"Hello! Your name is {} and your age is {}.\".format(name, age)       #Better to use this structure\n",
    "\n",
    "print(greeting_1)\n",
    "print(greeting_2)\n",
    "print(greeting_3)\n",
    "print(greeting_4)\n",
    "\n",
    "print(type(greeting_1))\n",
    "print(type(greeting_2))\n",
    "print(type(greeting_3))\n",
    "print(type(greeting_4))"
   ]
  },
  {
   "cell_type": "markdown",
   "metadata": {
    "id": "zWAIG4kqT2DC",
    "lang": "es"
   },
   "source": [
    "## Strings\n",
    "\n",
    "En Python, como ya hemos visto antes, un string, es una secuencia de caracteres encerrada entre comillas simples (`'`), dobles (`\"`) o triples (`'''` o `\"\"\"`). Los strings son inmutables, lo que significa que una vez creadas, no podemos modificar su contenido directamente, aunque sí podemos crear nuevas cadenas a partir de manipulaciones de la original mediante varios métodos y operaciones. Estas pueden contener letras, números, caracteres especiales, espacios o una combinación de todos ellos."
   ]
  },
  {
   "cell_type": "markdown",
   "metadata": {
    "id": "cnnztOoLT2DC",
    "lang": "en"
   },
   "source": [
    "### String methods\n",
    "\n",
    "Los métodos son acciones o funciones que un objeto puede realizar. Al igual que Python nos ofrece una serie de funciones \"integradas\", también nos brinda una serie de métodos ya creados. Estos métodos dependen del tipo de objeto con el que estemos trabajando, y en el caso de las cadenas, nos permiten realizar una variedad de operaciones para manipular e inspeccionarlas.\n",
    "\n",
    "En esta sección, vamos a explorar algunos de los métodos de cadena más utilizados durante el bootcamp, utilizando un`sample_string` para demostrar su funcionalidad. A medida que avanzamos en el bootcamp, es esencial familiarizarse con estos métodos, ya que pueden facilitar considerablemente tu proceso de codigo.\n",
    "\n",
    "Para obtener una visión más completa de los métodos para string, no dudes en consultar la [documentación de Python](https://docs.python.org/3/library/stdtypes.html#string-methods). Yo siempre uso Google :)\n"
   ]
  },
  {
   "cell_type": "code",
   "execution_count": null,
   "metadata": {
    "id": "8uE35GD9T2DC"
   },
   "outputs": [],
   "source": [
    "sample_string = \"this is a string\""
   ]
  },
  {
   "cell_type": "markdown",
   "metadata": {
    "id": "Tbt1jRngT2DC"
   },
   "source": [
    "- `capitalize` Devuelve una copia de la cadena con su primer carácter en mayúsculas y el resto en minúsculas. Es ideal para cuando queremos que una oración o título comience con un toque más formal. ¡Probémoslo con el ejemplo!"
   ]
  },
  {
   "cell_type": "code",
   "execution_count": null,
   "metadata": {
    "id": "a2efu9gNT2DC",
    "outputId": "cee8293e-8b71-4d06-8806-0c6c45d0fca0"
   },
   "outputs": [],
   "source": [
    "sample_string.capitalize()"
   ]
  },
  {
   "cell_type": "markdown",
   "metadata": {
    "id": "a1dQ0--vT2DD"
   },
   "source": [
    "- `upper` Nos devuelve una copia de la cadena pero con todos los caracteres en mayúsculas. Es perfecto para destacar algo con fuerza o simplemente para igualar el formato de diferentes textos. ¡Vamos a ponerlo a prueba con una cadena que tenemos por aquí!"
   ]
  },
  {
   "cell_type": "code",
   "execution_count": null,
   "metadata": {
    "id": "NrfRf_ysT2DD",
    "outputId": "1a7f4b96-2ef1-43d2-93ff-672d9f790b7d"
   },
   "outputs": [],
   "source": [
    "sample_string.upper()"
   ]
  },
  {
   "cell_type": "code",
   "execution_count": null,
   "metadata": {
    "id": "WMrnk0xGT2DE",
    "outputId": "467073a8-9db3-4552-a9bd-89719e931c06",
    "scrolled": true
   },
   "outputs": [],
   "source": [
    "# También podemos comprobar si el string está en formato upper (letras mayúsculas)\n",
    "sample_string.upper().isupper()"
   ]
  },
  {
   "cell_type": "markdown",
   "metadata": {
    "id": "tFPK0t3fT2DF"
   },
   "source": [
    "- `lower` Te devuelve una copia de la string pero con todos los caracteres en minúsculas. Este método es genial para cuando queremos mantener la uniformidad en nuestro texto o simplemente para evitar \"GRITAR\" en una conversación digital. ¡Veamos cómo funciona con un ejemplo práctico!"
   ]
  },
  {
   "cell_type": "code",
   "execution_count": null,
   "metadata": {
    "id": "dUsu2p0IT2DG",
    "outputId": "3f7de8bf-5778-4b19-e792-0ab5f5ff053b"
   },
   "outputs": [],
   "source": [
    "sample_string.lower()"
   ]
  },
  {
   "cell_type": "code",
   "execution_count": null,
   "metadata": {
    "id": "ylWvS0zbT2DH",
    "outputId": "dbadf98d-a872-4b87-d905-78f9f495f74c"
   },
   "outputs": [],
   "source": [
    "sample_string.lower().islower()"
   ]
  },
  {
   "cell_type": "markdown",
   "metadata": {
    "id": "ukGscrMYT2DH"
   },
   "source": [
    "- `swapcase` Este método es como el intercambio de ropas en una fiesta de disfraces: convierte todos los caracteres en mayúsculas a minúsculas y viceversa en la string. Es especialmente útil si queremos invertir la capitalización de un string de texto rápidamente. ¡Probémoslo con un ejemplo!"
   ]
  },
  {
   "cell_type": "code",
   "execution_count": null,
   "metadata": {
    "id": "0pgVnOaCT2DI"
   },
   "outputs": [],
   "source": [
    "sample_string.swapcase()"
   ]
  },
  {
   "cell_type": "markdown",
   "metadata": {
    "id": "7KG8pV9KT2DI"
   },
   "source": [
    "- `title` Este método devuelve una versión de la string donde cada palabra comienza con un carácter en mayúscula, y el resto de los caracteres están en minúscula. Es como si convirtiera la string en un título de un libro o una película, otorgándole un aspecto más formal y cuidado. ¡Vamos a ver cómo funciona con un ejemplo práctico!"
   ]
  },
  {
   "cell_type": "code",
   "execution_count": null,
   "metadata": {
    "id": "381XDigdT2DI",
    "outputId": "5959caec-eaa8-4c3a-b80c-b5c35c45e64f"
   },
   "outputs": [],
   "source": [
    "sample_string.title()"
   ]
  },
  {
   "cell_type": "markdown",
   "metadata": {
    "id": "NnzKR9fhT2DI"
   },
   "source": [
    "- `join(iterable)`Este método devuelve una string que es la concatenación de las strings en el iterable. Cabe señalar que se generará un TypeError si hay valores no string en el iterable, incluidos los objetos bytes. El separador entre los elementos es la string proporcionada por este método. Es una forma efectiva de unir múltiples strings en una sola, utilizando un separador específico que define la propia string. ¡Observemos cómo lo podemos utilizar con algunos ejemplos!"
   ]
  },
  {
   "cell_type": "code",
   "execution_count": null,
   "metadata": {
    "id": "6MtwdYG2T2DI",
    "outputId": "94491999-8758-4c40-a2d5-827cf1129a67"
   },
   "outputs": [],
   "source": [
    "# Nuevo ejemplo\n",
    "list_of_strings = [\"Santi\", \"Clara\", \"Laura\", \"Albert\"]\n",
    "\" 🥸 \".join(list_of_strings)"
   ]
  },
  {
   "cell_type": "markdown",
   "metadata": {
    "id": "QC5IvSQwT2DI"
   },
   "source": [
    "- `startswith` Este método devuelve `True` si la string comienza con el prefijo especificado; de lo contrario, devuelve `False`. Es interesante mencionar que el prefijo también puede ser una tupla de prefijos para buscar. Además, cuenta con dos parámetros opcionales: `start`, que permite especificar desde qué posición de la string empezar a comprobar, y `end`, que indica dónde detener la comprobación. Veamos algunos ejemplos para entender mejor su funcionamiento:\n"
   ]
  },
  {
   "cell_type": "code",
   "execution_count": null,
   "metadata": {
    "id": "ea2udqxaT2DJ"
   },
   "outputs": [],
   "source": [
    "number = \"3434567\""
   ]
  },
  {
   "cell_type": "code",
   "execution_count": null,
   "metadata": {
    "id": "eVGrypWzT2DJ",
    "outputId": "929209d7-a592-4cc7-ba59-dd4adef6aca4"
   },
   "outputs": [],
   "source": [
    "number.startswith(\"+\")"
   ]
  },
  {
   "cell_type": "code",
   "execution_count": null,
   "metadata": {
    "id": "RRPI9qD9T2DJ",
    "outputId": "4a7e5eba-dcd6-4fb4-d79d-3a08c4f2afb0"
   },
   "outputs": [],
   "source": [
    "number.startswith(\"34\")"
   ]
  },
  {
   "cell_type": "markdown",
   "metadata": {
    "id": "ZthPZ1lnT2DJ"
   },
   "source": [
    "- `endswith` Este método funciona de manera similar al método `startswith`, pero en este caso verifica si la string termina con el sufijo especificado. Si es así, devuelve `True`; de lo contrario, devuelve `False`. Al igual que `startswith`, este método permite especificar los parámetros opcionales `start` y `end` para definir el rango de la string donde realizar la comprobación. A continuación, te presentamos algunos ejemplos para ilustrar cómo funciona:"
   ]
  },
  {
   "cell_type": "code",
   "execution_count": null,
   "metadata": {
    "id": "0OJZWAqzT2DJ",
    "outputId": "289aa4a3-b617-425a-cbae-66455c297871"
   },
   "outputs": [],
   "source": [
    "number.endswith(\"67\")"
   ]
  },
  {
   "cell_type": "markdown",
   "metadata": {
    "id": "2iX8E-JmT2DJ"
   },
   "source": [
    "- `str.lstrip([chars])` Este método retorna una copia de la string original pero sin los caracteres especificados en el argumento `chars` que se encuentren al inicio de la misma. Si no se especifica ningún argumento (o sea, se omite o no hay ninguno presente), se eliminarán los espacios en blanco por defecto. Es importante tener en cuenta que el argumento `chars` no actúa como un prefijo; en lugar de ello, elimina todas las combinaciones posibles de los valores que se encuentren dentro de él. Aquí te mostramos algunos ejemplos para entender mejor cómo funciona este método:"
   ]
  },
  {
   "cell_type": "code",
   "execution_count": null,
   "metadata": {
    "id": "LomizyZLT2DK",
    "outputId": "53c82923-4b54-4324-c02c-2b0a60ffe4f0"
   },
   "outputs": [],
   "source": [
    "# Definimos una string con algunos espacios y caracteres al inicio\n",
    "cadena_original = \"   ##Este es un ejemplo.\"\n",
    "\n",
    "# Usamos el método lstrip para remover los espacios en blanco al inicio\n",
    "cadena_modificada = cadena_original.lstrip()\n",
    "print(cadena_modificada)\n",
    "# Salida: \"##Este es un ejemplo.\""
   ]
  },
  {
   "cell_type": "code",
   "execution_count": null,
   "metadata": {
    "id": "L23gi7w7T2DK",
    "outputId": "6607e919-d125-4899-e42b-c87e4ef40f43"
   },
   "outputs": [],
   "source": [
    "# También podemos utilizar lstrip para remover otros caracteres especificando un argumento\n",
    "cadena_modificada2 = cadena_original.lstrip(\" #\")\n",
    "print(cadena_modificada2)\n",
    "# Salida: \"Este es un ejemplo.\""
   ]
  },
  {
   "cell_type": "markdown",
   "metadata": {
    "id": "pCOSj594T2DK"
   },
   "source": [
    "- `lstrip` El método `lstrip` en Python es utilizado para eliminar caracteres no deseados que se encuentran al principio de una string. Puedes usarlo de dos maneras: sin argumentos, lo que eliminará todos los espacios en blanco al inicio de la string; o con un conjunto de caracteres específicos como argumento (indicados entre paréntesis), lo que eliminará todas las instancias de esos caracteres que encuentre al principio de la string.\n",
    "\n",
    "- `rstrip` De forma análoga, el método `rstrip` se utiliza para eliminar caracteres al final de una string. Funciona de la misma manera que `lstrip`, pero afecta al final de la string en lugar del principio. Si no se especifica ningún conjunto de caracteres, eliminará todos los espacios en blanco que se encuentren al final de la string.\n",
    "\n",
    "- `replace` El método `replace` es utilizado para reemplazar todas las ocurrencias de una subcadena específica (`old`) por una nueva subcadena (`new`). Puedes usarlo de dos maneras: sin el argumento opcional `count`, lo que reemplazará todas las ocurrencias encontradas en la string; o especificando el argumento `count`, lo que limitará el número de reemplazos a la cantidad indicada. Este método devuelve una copia de la string original con las sustituciones realizadas, dejando la string original intacta."
   ]
  },
  {
   "cell_type": "code",
   "execution_count": null,
   "metadata": {
    "id": "eixl_nPeT2DK",
    "outputId": "fbb64381-9d1c-4949-d47b-6af0d0992800"
   },
   "outputs": [],
   "source": [
    "cadena_original.replace(\"#\", \"\")"
   ]
  },
  {
   "cell_type": "markdown",
   "metadata": {
    "id": "_GIRSMy-T2DM"
   },
   "source": [
    "- `split` El método `split` se utiliza para dividir una string en una lista de palabras basándose en un delimitador especificado (el parámetro `sep`). Si no se especifica ningún delimitador (o se establece como `None`), se utilizarán espacios en blanco (espacios, tabulaciones, nuevas líneas, etc.) como delimitadores predeterminados. Este método es especialmente útil cuando deseas descomponer una string en componentes más pequeños para realizar operaciones adicionales o análisis en cada fragmento individual."
   ]
  },
  {
   "cell_type": "code",
   "execution_count": 9,
   "metadata": {
    "id": "TzWJtsSBT2DM",
    "outputId": "8f6f05b8-297c-49a5-d898-0d690f8f11b7"
   },
   "outputs": [
    {
     "data": {
      "text/plain": [
       "['Hello', 'my', 'name', 'is', 'Santo']"
      ]
     },
     "execution_count": 9,
     "metadata": {},
     "output_type": "execute_result"
    }
   ],
   "source": [
    "sentence = \"Hello my name is Santo\"\n",
    "sentence.split(\" \")"
   ]
  },
  {
   "cell_type": "code",
   "execution_count": 11,
   "metadata": {
    "id": "zuCWUrWrT2DN",
    "outputId": "81143a21-3c64-4c00-e14f-4b383b67a05d"
   },
   "outputs": [
    {
     "data": {
      "text/plain": [
       "['H', 'llo my nam', ' is Santo']"
      ]
     },
     "execution_count": 11,
     "metadata": {},
     "output_type": "execute_result"
    }
   ],
   "source": [
    "sentence.split(\"e\")"
   ]
  },
  {
   "cell_type": "markdown",
   "metadata": {
    "id": "800luCj-T2DN",
    "lang": "en"
   },
   "source": [
    "## Data structures\n",
    "\n",
    "En Python, disponemos de cuatro estructuras principales para almacenar colecciones de datos, cada una con sus propias características y utilidades. Estas estructuras nos facilitan la organización y manipulación de los datos de una manera más eficiente. A continuación, te presentamos las cuatro estructuras de datos fundamentales en Python:\n",
    "\n",
    "- **Listas (Lists)**: Colecciones ordenadas y modificables que pueden almacenar una variedad de tipos de datos, incluyendo otras listas. **usamos -> []**\n",
    "- **Tuplas (Tuples)**: Colecciones ordenadas e inmutables, similares a las listas, pero que no pueden ser modificadas una vez creadas. **usamos -> ()**\n",
    "- **Conjuntos (Sets)**: Colecciones desordenadas y sin índices, que no permiten elementos duplicados, lo que las hace ideales para almacenar conjuntos únicos de datos. **usamos -> {}**\n",
    "- **Diccionarios (Dictionaries)**: Colecciones desordenadas, modificables e indexadas, donde los datos se almacenan en pares clave-valor, facilitando la organización y recuperación de información compleja. **usamos -> {key:values, key2:value2}**\n",
    "\n",
    "A lo largo de esta sección, exploraremos cada una de estas estructuras de datos en detalle, descubriendo cómo pueden ayudarnos a trabajar con datos de manera más efectiva en Python."
   ]
  },
  {
   "cell_type": "markdown",
   "metadata": {
    "id": "r1Eg6lFCT2DN"
   },
   "source": [
    "### Lists\n",
    "Las listas en Python son estructuras de datos que pueden contener diferentes tipos de datos, desde números hasta cadenas de texto, e incluso otras listas. Esto las convierte en herramientas extremadamente versátiles y útiles en la programación. Los elementos en una lista están ordenados y tienen un índice específico, lo que nos permite acceder, modificar, añadir o eliminar elementos de manera sencilla. A continuación, presentamos varios ejemplos de listas junto con la sintaxis para acceder a los datos dentro de ellas."
   ]
  },
  {
   "cell_type": "code",
   "execution_count": null,
   "metadata": {
    "id": "LySDrLW5T2DN"
   },
   "outputs": [],
   "source": [
    "# 1. Lista de números enteros\n",
    "numeros = [1, 2, 3, 4, 5]\n",
    "\n",
    "# 2. Lista de cadenas de texto (strings)\n",
    "frutas = [\"manzana\", \"banana\", \"cereza\"]\n",
    "\n",
    "# 3. Lista mixta (conteniendo diferentes tipos de datos)\n",
    "mixta = [1, \"Hola\", 3.14, True]\n",
    "\n",
    "# 4. Lista anidada (una lista dentro de otra lista)\n",
    "anidada = [[1, 2, 3], [\"a\", \"b\", \"c\"]]"
   ]
  },
  {
   "cell_type": "code",
   "execution_count": null,
   "metadata": {
    "id": "lpiifnJRT2DN",
    "outputId": "16e896de-6c53-4661-c944-ded0af75ad09"
   },
   "outputs": [],
   "source": [
    "# Acceder a los datos dentro de una lista\n",
    "# Accediendo al primer elemento de la lista de números\n",
    "numeros[0]"
   ]
  },
  {
   "cell_type": "code",
   "execution_count": null,
   "metadata": {
    "id": "XatnuVh-T2DO",
    "outputId": "90ae6dc9-a182-42fb-aca7-8083da9f8854"
   },
   "outputs": [],
   "source": [
    "# Accediendo al último elemento de la lista de frutas\n",
    "frutas[-1]"
   ]
  },
  {
   "cell_type": "code",
   "execution_count": null,
   "metadata": {
    "id": "ia50u328T2DO",
    "outputId": "6ad43eab-3d8c-469c-95a4-45f68368fa03"
   },
   "outputs": [],
   "source": [
    "# Accediendo a un elemento de una lista dentro de otra lista (lista anidada)\n",
    "anidada[1][2]"
   ]
  },
  {
   "cell_type": "code",
   "execution_count": null,
   "metadata": {
    "id": "J131swiJT2DO",
    "outputId": "52abbc82-c671-48f7-ad56-89d9a418455d"
   },
   "outputs": [],
   "source": [
    "# Para saber el tamaño de una lista\n",
    "len(mixta)"
   ]
  },
  {
   "cell_type": "markdown",
   "metadata": {
    "id": "3tp2Zw3aT2DO",
    "lang": "en"
   },
   "source": [
    "#### list methods\n",
    "\n",
    "A continuación, describiremos algunos de los métodos más comunes que puedes utilizar para manipular listas. Además, te invitamos a consultar la [documentación oficial](https://docs.python.org/3/tutorial/datastructures.html) para una guía completa de todos los métodos disponibles.\n",
    "\n",
    "Existen varios métodos que facilitan la gestión de las listas, aquí te presentamos algunos de los más utilizados:"
   ]
  },
  {
   "cell_type": "markdown",
   "metadata": {
    "id": "zoNuDWeST2DO"
   },
   "source": [
    "- `append()`: Añade un elemento al final de la lista."
   ]
  },
  {
   "cell_type": "code",
   "execution_count": null,
   "metadata": {
    "id": "cgYMSdctT2DO",
    "outputId": "b7402c88-0566-45b9-941b-cfd671e57297"
   },
   "outputs": [],
   "source": [
    "# 1. append()\n",
    "lista = []\n",
    "lista.append('A')\n",
    "print(lista)"
   ]
  },
  {
   "cell_type": "markdown",
   "metadata": {
    "id": "Rc8Lfw5dT2DP"
   },
   "source": [
    "- `extend()`: Extiende la lista agregando todos los elementos de la lista dada."
   ]
  },
  {
   "cell_type": "code",
   "execution_count": null,
   "metadata": {
    "id": "g2Go4Yj8T2DP",
    "outputId": "89841e90-767b-46e4-8d8f-775769754522"
   },
   "outputs": [],
   "source": [
    "# 2. extend()\n",
    "lista1 = [1, 2, 3]\n",
    "lista2 = [4, 5, 6]\n",
    "lista1.extend(lista2)\n",
    "print(lista1)"
   ]
  },
  {
   "cell_type": "markdown",
   "metadata": {
    "id": "m6BQNCeOT2DP"
   },
   "source": [
    "- `insert()`: Inserta un elemento en la lista en el índice especificado."
   ]
  },
  {
   "cell_type": "code",
   "execution_count": null,
   "metadata": {
    "id": "DVECTcmkT2DP",
    "outputId": "6c3ace0a-26b0-45fb-b9c6-9ec33016cd9f"
   },
   "outputs": [],
   "source": [
    "# 3. insert()\n",
    "lista = [1, 2, 3]\n",
    "lista.insert(1, 'B')\n",
    "print(lista)"
   ]
  },
  {
   "cell_type": "markdown",
   "metadata": {
    "id": "pz1iCQB2T2DP"
   },
   "source": [
    "- `remove()`: Elimina el primer elemento de la lista cuyo valor sea igual al valor especificado."
   ]
  },
  {
   "cell_type": "code",
   "execution_count": null,
   "metadata": {
    "id": "t15dXdyOT2DP",
    "outputId": "13acfae5-ad93-45ff-f6b0-1f8b952447b1"
   },
   "outputs": [],
   "source": [
    "# 4. remove()\n",
    "lista = [1, 2, 3, 2]\n",
    "lista.remove(2)\n",
    "print(lista)"
   ]
  },
  {
   "cell_type": "markdown",
   "metadata": {
    "id": "pFHUbvneT2DP"
   },
   "source": [
    "- `pop()`: Elimina el elemento en la posición dada de la lista, y lo devuelve."
   ]
  },
  {
   "cell_type": "code",
   "execution_count": null,
   "metadata": {
    "id": "vhyjQy3TT2DQ",
    "outputId": "81c950ee-208d-4916-bea1-5cb1792588a5"
   },
   "outputs": [],
   "source": [
    "# 5. pop()\n",
    "lista = [1, 2, 3]\n",
    "lista.pop(1)\n",
    "print(lista)"
   ]
  },
  {
   "cell_type": "markdown",
   "metadata": {
    "id": "1rQODur-T2DQ"
   },
   "source": [
    "- `clear()`: Elimina todos los elementos de la lista."
   ]
  },
  {
   "cell_type": "code",
   "execution_count": null,
   "metadata": {
    "id": "2LEY_ZtNT2DQ",
    "outputId": "d1540bc1-1ba6-4e00-865d-6cf9da6f0000"
   },
   "outputs": [],
   "source": [
    "# 6. clear()\n",
    "lista = [1, 2, 3]\n",
    "lista.clear()\n",
    "print(lista)"
   ]
  },
  {
   "cell_type": "markdown",
   "metadata": {
    "id": "uJXVmAlMT2DQ"
   },
   "source": [
    "- `index()`: Devuelve el índice del primer elemento con el valor especificado."
   ]
  },
  {
   "cell_type": "code",
   "execution_count": null,
   "metadata": {
    "id": "JKm15WUWT2DR",
    "outputId": "794fad36-7200-4feb-dd13-60a7f33db30e"
   },
   "outputs": [],
   "source": [
    "# 7. index()\n",
    "lista = [1, 2, 3, 2]\n",
    "print(lista.index(2))"
   ]
  },
  {
   "cell_type": "markdown",
   "metadata": {
    "id": "6WD7yU9OT2DR"
   },
   "source": [
    "- `count()`: Devuelve el número de veces que el valor especificado aparece en la lista."
   ]
  },
  {
   "cell_type": "code",
   "execution_count": null,
   "metadata": {
    "id": "mq8-oZb4T2DS",
    "outputId": "805f47c1-6dc3-475f-91c5-214a56cd2213"
   },
   "outputs": [],
   "source": [
    "# 8. count()\n",
    "lista = [1, 2, 3, 2]\n",
    "print(lista.count(2))"
   ]
  },
  {
   "cell_type": "markdown",
   "metadata": {
    "id": "yZfhvGvRT2DS"
   },
   "source": [
    "- `sort()`: Ordena los elementos de la lista."
   ]
  },
  {
   "cell_type": "code",
   "execution_count": null,
   "metadata": {
    "id": "XPS5TCFuT2DT",
    "outputId": "ddb57731-5d99-485a-963e-da23883044e4"
   },
   "outputs": [],
   "source": [
    "# 9. sort()\n",
    "lista = [3, 1, 2]\n",
    "lista.sort()\n",
    "print(lista)"
   ]
  },
  {
   "cell_type": "markdown",
   "metadata": {
    "id": "RBxn3tF2T2DT"
   },
   "source": [
    "-  `reverse()`: Invierte el orden de los elementos de la lista."
   ]
  },
  {
   "cell_type": "code",
   "execution_count": null,
   "metadata": {
    "id": "KqLgYvSjT2DT",
    "outputId": "e9e4c125-93f8-4a3d-e791-2b8ea4b11ffd"
   },
   "outputs": [],
   "source": [
    "# 10. reverse()\n",
    "lista = [1, 2, 3]\n",
    "lista.reverse()\n",
    "print(lista)"
   ]
  },
  {
   "cell_type": "markdown",
   "metadata": {
    "id": "Wx3W-Z88T2DT"
   },
   "source": [
    "- `copy()`: Devuelve una copia de la lista."
   ]
  },
  {
   "cell_type": "code",
   "execution_count": null,
   "metadata": {
    "id": "LJSvxeqVT2DT",
    "outputId": "9b5640fd-8cfe-455c-d49c-aca7472e527c"
   },
   "outputs": [],
   "source": [
    "# 11. copy()\n",
    "lista1 = [1, 2, 3]\n",
    "lista2 = lista1.copy()\n",
    "print(lista2)"
   ]
  },
  {
   "cell_type": "markdown",
   "metadata": {
    "id": "Lz2yds3IT2DU"
   },
   "source": [
    "**Slicing y Start, Stop, Step en Listas**\n",
    "\n",
    "El \"slicing\", no es un método como tal, pero nos permite jugar con los elementos de las listas y sus posiciones. Esencialmente, nos permite seleccionar una \"rebanada\" de la lista utilizando tres parámetros: inicio (start), fin (stop) y paso (step). La sintaxis para esto es `lista[start:stop:step]`, donde:\n",
    "\n",
    "- **start**: representa el índice del primer elemento que queremos incluir en nuestra selección. Es importante recordar que los índices en Python comienzan en 0.\n",
    "- **stop**: representa el índice del primer elemento que NO queremos incluir en nuestra selección. La selección incluirá elementos hasta el índice `stop`-1.\n",
    "- **step**: define el incremento entre los índices seleccionados. Si se omite, el valor predeterminado será 1, lo que significa que se seleccionarán todos los elementos desde `start` hasta `stop`-1.\n",
    "\n",
    "A continuación, veremos ejemplos prácticos de cómo utilizar estos parámetros para seleccionar diferentes segmentos de una lista en Python."
   ]
  },
  {
   "cell_type": "code",
   "execution_count": null,
   "metadata": {
    "id": "sWyf_h4KT2DU",
    "outputId": "b0accaa3-b1b1-4025-af6a-72e2281b6824"
   },
   "outputs": [],
   "source": [
    "nombres = [\"Ana\", \"Beto\", \"Carla\", \"David\", \"Elena\", \"Fernando\"]\n",
    "\n",
    "# Seleccionar elementos desde el índice 2 hasta el final\n",
    "print(nombres[2:])"
   ]
  },
  {
   "cell_type": "code",
   "execution_count": null,
   "metadata": {
    "id": "NRSOXKU4T2DU",
    "outputId": "d9138161-962f-4b78-c513-14a12c255b3d"
   },
   "outputs": [],
   "source": [
    "# Seleccionar elementos desde el índice 4 hasta el final\n",
    "print(nombres[4:])"
   ]
  },
  {
   "cell_type": "code",
   "execution_count": null,
   "metadata": {
    "id": "TVi9E_-iT2DU",
    "outputId": "52e5cab4-e44a-4b98-a8d1-d691b2f15287"
   },
   "outputs": [],
   "source": [
    "# Invertir el orden de los elementos en la lista\n",
    "print(nombres[::-1])"
   ]
  },
  {
   "cell_type": "code",
   "execution_count": null,
   "metadata": {
    "id": "PwyMQ88JT2DV",
    "outputId": "284a9f0e-4512-44cf-b656-f24cbb403896",
    "scrolled": true
   },
   "outputs": [],
   "source": [
    "lista_numeros = [0, 1, 2, 3, 4, 5, 6, 7, 8, 9, 10]\n",
    "\n",
    "# Seleccionar elementos desde el índice 0 hasta el 10, saltando 2 elementos cada vez\n",
    "print(lista_numeros[0:10:2])"
   ]
  },
  {
   "cell_type": "markdown",
   "metadata": {
    "id": "huMwUixuT2DV"
   },
   "source": [
    "**Ejercicio: Trabajando con Listas**\n",
    "\n",
    "1. Crea una lista llamada `meses` que contenga los nombres de todos los meses del año.\n",
    "2. Utiliza el método `append` para añadir un elemento extra en la lista que sea \"Fin de año\".\n",
    "3. Utiliza el método `remove` para eliminar este último elemento que has añadido.\n",
    "4. Usando `slicing`, crea una nueva lista que contenga solo los meses del segundo trimestre (abril, mayo y junio).\n",
    "5. Usa el método `reverse` para invertir el orden de los elementos en la lista original de meses.\n",
    "6. Encuentra el método apropiado para ordenar la lista de meses en orden alfabético y aplícalo.\n",
    "7. Utiliza el método `index` para encontrar la posición de tu mes de nacimiento en la lista ordenada alfabéticamente.\n",
    "\n",
    "**Extra**:\n",
    "\n",
    "- Crea una lista de listas, donde cada sublista contenga los meses de cada trimestre.\n",
    "- Utiliza un bucle `for` para imprimir cada mes de cada trimestre, formateando la salida de la siguiente manera: \"El {número de mes}° mes del año es {nombre del mes}\".\n",
    "\n",
    "Recuerda revisar la [documentación de Python](https://docs.python.org/3/tutorial/datastructures.html#more-on-lists) o usar la función `help()` para obtener detalles sobre cómo usar cada uno de los métodos de la lista."
   ]
  },
  {
   "cell_type": "code",
   "execution_count": 17,
   "metadata": {
    "id": "cc4wRzBcT2DV"
   },
   "outputs": [
    {
     "name": "stdout",
     "output_type": "stream",
     "text": [
      "['January', 'February', 'March', 'April', 'May', 'June', 'July', 'August', 'September', 'October', 'November', 'December', 'End of the Year']\n",
      "['January', 'February', 'March', 'April', 'May', 'June', 'July', 'August', 'September', 'October', 'November', 'December']\n",
      "['April', 'May', 'June']\n",
      "['December', 'November', 'October', 'September', 'August', 'July', 'June', 'May', 'April', 'March', 'February', 'January']\n",
      "['April', 'August', 'December', 'February', 'January', 'July', 'June', 'March', 'May', 'November', 'October', 'September']\n",
      "2\n",
      "[['January', 'February', 'March'], ['April', 'May', 'June'], ['July', 'August', 'September'], ['October', 'November', 'December']]\n"
     ]
    }
   ],
   "source": [
    "# Aquí tu codigo\n",
    "\n",
    "# 1\n",
    "months = [\"January\", \"February\", \"March\", \"April\", \"May\", \"June\", \"July\", \"August\", \"September\", \"October\", \"November\", \"December\"]\n",
    "# 2\n",
    "months.append(\"End of the Year\")\n",
    "print(months)\n",
    "# 3\n",
    "months.remove(\"End of the Year\")\n",
    "print(months)\n",
    "# 4\n",
    "months_2 = months[3:6]\n",
    "print(months_2)\n",
    "# 5\n",
    "months.reverse()\n",
    "print(months)\n",
    "# 6\n",
    "months.sort()\n",
    "print(months)\n",
    "# 7\n",
    "print(months.index(\"December\"))    \n",
    "\n",
    "# Extra\n",
    "months = [\"January\", \"February\", \"March\", \"April\", \"May\", \"June\", \"July\", \"August\", \"September\", \"October\", \"November\", \"December\"]\n",
    "months_quarters = [months[0:3], months[3:6], months[6:9], months[9:12]]\n",
    "print(months_quarters)"
   ]
  },
  {
   "cell_type": "code",
   "execution_count": 39,
   "metadata": {},
   "outputs": [
    {
     "name": "stdout",
     "output_type": "stream",
     "text": [
      "El 1° mes del año es January.\n",
      "El 2° mes del año es February.\n",
      "El 3° mes del año es March.\n",
      "El 4° mes del año es April.\n",
      "El 5° mes del año es May.\n",
      "El 6° mes del año es June.\n",
      "El 7° mes del año es July.\n",
      "El 8° mes del año es August.\n",
      "El 9° mes del año es September.\n",
      "El 10° mes del año es October.\n",
      "El 11° mes del año es November.\n",
      "El 12° mes del año es December.\n",
      "El 1° mes del año es January.\n",
      "El 2° mes del año es February.\n",
      "El 3° mes del año es March.\n",
      "El 4° mes del año es April.\n",
      "El 5° mes del año es May.\n",
      "El 6° mes del año es June.\n",
      "El 7° mes del año es July.\n",
      "El 8° mes del año es August.\n",
      "El 9° mes del año es September.\n",
      "El 10° mes del año es October.\n",
      "El 11° mes del año es November.\n",
      "El 12° mes del año es December.\n"
     ]
    }
   ],
   "source": [
    "# Aquí tu codigo\n",
    "\n",
    "# Extra_1\n",
    "months_quarters_1 = [[\"January\", \"February\", \"March\"], [\"April\", \"May\", \"June\"], [\"July\", \"August\", \"September\"], [\"October\", \"November\", \"December\"]]\n",
    "\n",
    "i = 0\n",
    "for quarter in months_quarters:\n",
    "    for month in quarter:\n",
    "        i += 1\n",
    "        print(f\"El {i}° mes del año es {month}.\")\n",
    "\n",
    "#Extra_2\n",
    "months_quarters_2 = [\"January\", \"February\", \"March\", \"April\", \"May\", \"June\", \"July\", \"August\", \"September\", \"October\", \"November\", \"December\"]\n",
    "\n",
    "for month in months_quarters_2:\n",
    "    print(f\"El {months_quarters_2.index(month)+1}° mes del año es {month}.\") "
   ]
  },
  {
   "cell_type": "markdown",
   "metadata": {
    "id": "_M39yj9KT2DV"
   },
   "source": [
    "### Tuples\n",
    "\n",
    "Las tuplas son una estructura de datos muy similar a las listas, con la principal diferencia de que son inmutables. Lo que significa que no puedes cambiar los elementos de una tupla una vez que ha sido creada. A pesar de esta característica, las tuplas son bastante flexibles y pueden almacenar diferentes tipos de datos, incluyendo otros contenedores como listas o diccionarios. Al igual que las listas, las tuplas permiten la indexación y el desempaquetado, facilitando así el acceso y la manipulación de los datos contenidos en ellas.\n",
    "\n",
    "Las tuplas se definen utilizando paréntesis `()` y los elementos se separan por comas. Vamos a explorar algunos ejemplos y métodos asociados con las tuplas."
   ]
  },
  {
   "cell_type": "code",
   "execution_count": null,
   "metadata": {
    "id": "xooj_Vj6T2DV"
   },
   "outputs": [],
   "source": [
    "# Crear una tupla\n",
    "mi_tupla = (1, 2, 3, \"Hola\", True)"
   ]
  },
  {
   "cell_type": "code",
   "execution_count": null,
   "metadata": {
    "id": "26S1NLLTT2DV",
    "outputId": "f30bae02-27af-467b-b94c-bf5ae5aa7526"
   },
   "outputs": [],
   "source": [
    "# Acceder a elementos de una tupla\n",
    "mi_tupla[0]"
   ]
  },
  {
   "cell_type": "code",
   "execution_count": null,
   "metadata": {
    "id": "t1D3RwvrT2DV",
    "outputId": "e03eac4d-a206-401c-8e98-321fc8e0d6d2"
   },
   "outputs": [],
   "source": [
    "# Acceder al ultimo elemento\n",
    "mi_tupla[-1]"
   ]
  },
  {
   "cell_type": "code",
   "execution_count": null,
   "metadata": {
    "id": "CoH9Q-udT2DV",
    "outputId": "68c3f4a1-e7f2-4cdd-ef5a-6aa52d2dba64"
   },
   "outputs": [],
   "source": [
    "# Desempaquetar una tupla\n",
    "a, b, c, d, e = mi_tupla\n",
    "c"
   ]
  },
  {
   "cell_type": "code",
   "execution_count": null,
   "metadata": {
    "id": "5rXc2pGlT2DW",
    "outputId": "6f7946b0-5874-4f07-e496-da78874c3ab1"
   },
   "outputs": [],
   "source": [
    "# Métodos disponibles en una tupla\n",
    "# Contar la cantidad de veces que aparece un elemento\n",
    "mi_tupla.count(2)"
   ]
  },
  {
   "cell_type": "code",
   "execution_count": null,
   "metadata": {
    "id": "jmH0qjBUT2DW",
    "outputId": "dbebb6a0-1b96-4f31-feb4-79feb00ede2f"
   },
   "outputs": [],
   "source": [
    "# Encontrar el índice de un elemento\n",
    "mi_tupla.index(\"Hola\")"
   ]
  },
  {
   "cell_type": "code",
   "execution_count": null,
   "metadata": {
    "id": "YcWqJebYT2DW",
    "outputId": "02867f9f-03d5-4edd-c426-061aef6ad0e5"
   },
   "outputs": [],
   "source": [
    "# Intentando modificar un elemento de la tupla (esto generará un error, porque las tuplas son inmutables)\n",
    "try:\n",
    "    mi_tupla[1] = 10\n",
    "except TypeError as e:\n",
    "    print(f\"Error: {e}\")\n",
    "\n",
    "# Mostrando que la tupla no ha cambiado\n",
    "print(mi_tupla)"
   ]
  },
  {
   "cell_type": "markdown",
   "metadata": {
    "id": "GSQJrpFpT2DW"
   },
   "source": [
    "**Métodos de las Tuplas**: Las tuplas, a diferencia de las listas, son inmutables, lo que significa que no podemos agregar, modificar o eliminar elementos una vez que la tupla ha sido definida. Sin embargo, las tuplas cuentan con varios métodos que pueden resultar muy útiles. A continuación, te presento algunos de ellos:"
   ]
  },
  {
   "cell_type": "markdown",
   "metadata": {
    "id": "lcJRH5H-T2DW"
   },
   "source": [
    "- `tuple.index(x)`: Este método devuelve el índice del primer elemento igual a x."
   ]
  },
  {
   "cell_type": "code",
   "execution_count": null,
   "metadata": {
    "id": "7ELL5f8tT2DW",
    "outputId": "adf28dc3-2b7f-4c01-979b-e9aec7ade2b7"
   },
   "outputs": [],
   "source": [
    "# Creación de una tupla\n",
    "mi_tupla = (1, 2, 3, 4, 3, 2, 1)\n",
    "\n",
    "# Uso del método index\n",
    "indice = mi_tupla.index(3)\n",
    "print(f\"El índice del primer elemento igual a 3 es: {indice}\")"
   ]
  },
  {
   "cell_type": "markdown",
   "metadata": {
    "id": "MyGIWsNoT2DW"
   },
   "source": [
    "- `tuple.count(x)`: Este método cuenta el número de veces que x aparece en la tupla."
   ]
  },
  {
   "cell_type": "code",
   "execution_count": null,
   "metadata": {
    "id": "3FRH1Gb-T2DW",
    "outputId": "a7ab323e-33b4-4014-d6b4-dae21ac36025"
   },
   "outputs": [],
   "source": [
    "# Uso del método count\n",
    "conteo = mi_tupla.count(2)\n",
    "print(f\"El número 2 aparece {conteo} veces en la tupla\")"
   ]
  },
  {
   "cell_type": "markdown",
   "metadata": {
    "id": "rvplDSCWT2DW"
   },
   "source": [
    "- `tuple.__len__()`: Este método devuelve la longitud de la tupla."
   ]
  },
  {
   "cell_type": "code",
   "execution_count": null,
   "metadata": {
    "id": "O7GxVkvZT2DX"
   },
   "outputs": [],
   "source": [
    "# Uso del método len para obtener la longitud\n",
    "longitud = len(mi_tupla)\n",
    "print(f\"La longitud de la tupla es: {longitud}\")"
   ]
  },
  {
   "cell_type": "markdown",
   "metadata": {
    "id": "U0b6l7SLT2DX"
   },
   "source": [
    "- `tuple.__contains__(x)`: Este método verifica si un elemento x está presente en la tupla."
   ]
  },
  {
   "cell_type": "code",
   "execution_count": null,
   "metadata": {
    "id": "j8eb5LYxT2DX"
   },
   "outputs": [],
   "source": [
    "# Verificar si un elemento está en la tupla\n",
    "if 5 in mi_tupla:\n",
    "    print(\"El número 5 está en la tupla.\")\n",
    "else:\n",
    "    print(\"El número 5 no está en la tupla.\")"
   ]
  },
  {
   "cell_type": "markdown",
   "metadata": {
    "id": "PIKZCt40T2DX"
   },
   "source": [
    "- `tuple.__getitem__(i)`: Este método permite acceder a un elemento de la tupla mediante su índice i."
   ]
  },
  {
   "cell_type": "code",
   "execution_count": null,
   "metadata": {
    "id": "YHKyMI_rT2DX",
    "outputId": "b010212d-dc27-40ee-8bd2-d722ed2aeb2d"
   },
   "outputs": [],
   "source": [
    "# Acceder a un elemento por índice\n",
    "elemento = mi_tupla[3]\n",
    "print(f\"El elemento en el índice 3 es: {elemento}\")"
   ]
  },
  {
   "cell_type": "markdown",
   "metadata": {
    "id": "QwTeYLcDT2DX"
   },
   "source": [
    "- `tuple.__reversed__()`: Este método devuelve una versión invertida de la tupla."
   ]
  },
  {
   "cell_type": "code",
   "execution_count": null,
   "metadata": {
    "id": "t0-Hfp_mT2DX",
    "outputId": "76d00d64-d4ba-49e4-8a29-585314a4e8c4"
   },
   "outputs": [],
   "source": [
    "# Obtener una versión invertida de la tupla\n",
    "tupla_invertida = tuple(reversed(mi_tupla))\n",
    "print(f\"Tupla invertida: {tupla_invertida}\")"
   ]
  },
  {
   "cell_type": "markdown",
   "metadata": {
    "id": "--vXovBeT2DY"
   },
   "source": [
    "Puedes aprender más sobre los métodos de tuplas en la [documentación oficial](https://docs.python.org/3/tutorial/datastructures.html#tuples-and-sequences)."
   ]
  },
  {
   "cell_type": "markdown",
   "metadata": {
    "id": "Ktu_T7H_T2DY",
    "lang": "en"
   },
   "source": [
    "### sets\n",
    "\n",
    "En Python, un conjunto (set) es una colección desordenada de elementos únicos. A diferencia de las listas y las tuplas, los conjuntos no permiten elementos duplicados. Los conjuntos son útiles cuando necesitas almacenar elementos en los que el orden no es importante y quieres asegurarte de que no haya duplicados.\n",
    "\n",
    "Los conjuntos se definen utilizando llaves `{}` o la función `set()`, y los elementos se separan por comas. A lo largo de esta sección, exploraremos cómo trabajar con conjuntos en Python y algunos de los métodos disponibles para ellos.\n"
   ]
  },
  {
   "cell_type": "code",
   "execution_count": null,
   "metadata": {
    "id": "zID-c7DvT2DY"
   },
   "outputs": [],
   "source": [
    "# Creación de un conjunto\n",
    "mi_conjunto = {1, 2, 3, 4, 5}"
   ]
  },
  {
   "cell_type": "code",
   "execution_count": null,
   "metadata": {
    "id": "5scL050uT2DY",
    "outputId": "aca42952-8b39-4407-e007-3cc708d27fee"
   },
   "outputs": [],
   "source": [
    "# Mostrar el conjunto\n",
    "print(mi_conjunto)"
   ]
  },
  {
   "cell_type": "code",
   "execution_count": null,
   "metadata": {
    "id": "26i0nNdsT2DY",
    "outputId": "868016da-5a05-4f29-d85c-f8bc1b080aa4",
    "scrolled": true
   },
   "outputs": [],
   "source": [
    "# Los conjuntos no permiten elementos duplicados\n",
    "mi_conjunto = {1, 2, 2, 3, 3, 4, 5}\n",
    "print(mi_conjunto)"
   ]
  },
  {
   "cell_type": "markdown",
   "metadata": {
    "id": "L_ku7hGAT2DY"
   },
   "source": [
    "El constructor `set()` en Python se utiliza para crear un conjunto vacío o para convertir otros objetos iterables (como listas o tuplas) en conjuntos. Aquí tienes algunos ejemplos de cómo funciona:"
   ]
  },
  {
   "cell_type": "code",
   "execution_count": null,
   "metadata": {
    "id": "-Ei6cCieT2DY",
    "outputId": "16703aa3-12e0-484e-d36c-31fac213a160"
   },
   "outputs": [],
   "source": [
    "# También puedes crear un conjunto vacío con set()\n",
    "conjunto_vacio = set()\n",
    "print(conjunto_vacio)  # Salida: set()"
   ]
  },
  {
   "cell_type": "code",
   "execution_count": null,
   "metadata": {
    "id": "JAfnub9TT2DY"
   },
   "outputs": [],
   "source": [
    "# Convertir una lista en un conjunto:\n",
    "mi_lista = [1, 2, 2, 3, 4, 4]\n",
    "mi_conjunto = set(mi_lista)\n",
    "print(mi_conjunto)  # Salida: {1, 2, 3, 4}"
   ]
  },
  {
   "cell_type": "code",
   "execution_count": null,
   "metadata": {
    "id": "s3OAZvp9T2DZ"
   },
   "outputs": [],
   "source": [
    "# Convertir una tupla en un conjunto:\n",
    "mi_tupla = (1, 2, 3, 3, 4, 5)\n",
    "mi_conjunto = set(mi_tupla)\n",
    "print(mi_conjunto)  # Salida: {1, 2, 3, 4, 5}"
   ]
  },
  {
   "cell_type": "markdown",
   "metadata": {
    "id": "T-5n_d3LT2DZ"
   },
   "source": [
    "**Operaciones de Conjunto en Python**: Los conjuntos (sets) en Python no solo son útiles para almacenar elementos únicos, sino que también permiten realizar diversas operaciones de conjunto, como la unión, la intersección y la diferencia. Estas operaciones son muy útiles para trabajar con conjuntos de datos y realizar análisis.\n",
    "\n",
    "A continuación, exploraremos tres de las operaciones de conjunto más comunes en Python: la unión, la intersección y la diferencia. A través de ejemplos prácticos, veremos cómo realizar estas operaciones y cómo pueden ser beneficiosas en diferentes situaciones.\n",
    "\n",
    "![sets are venn diagrams](https://mathworld.wolfram.com/images/eps-svg/VennDiagram_900.svg)"
   ]
  },
  {
   "cell_type": "code",
   "execution_count": null,
   "metadata": {
    "id": "I3sMbYW0T2DZ"
   },
   "outputs": [],
   "source": [
    "# Operaciones de conjunto: unión, intersección y diferencia\n",
    "conjunto1 = {1, 2, 3, 4, 5}\n",
    "conjunto2 = {3, 4, 5, 6, 7}"
   ]
  },
  {
   "cell_type": "code",
   "execution_count": null,
   "metadata": {
    "id": "TkeNK_a9T2DZ",
    "outputId": "4a3ae94f-f68a-437f-fadb-4e93e92b85ee"
   },
   "outputs": [],
   "source": [
    "# Unión\n",
    "union = conjunto1 | conjunto2\n",
    "print(union)"
   ]
  },
  {
   "cell_type": "code",
   "execution_count": null,
   "metadata": {
    "id": "CwjedLnTT2DZ",
    "outputId": "b7e03b59-6c5a-42db-e9ba-5c7963fd06ec"
   },
   "outputs": [],
   "source": [
    "# Intersección\n",
    "interseccion = conjunto1 & conjunto2\n",
    "print(interseccion)"
   ]
  },
  {
   "cell_type": "code",
   "execution_count": null,
   "metadata": {
    "id": "6P5CMV1PT2DZ",
    "outputId": "4689a82b-339f-4989-96e3-b7476315d191"
   },
   "outputs": [],
   "source": [
    "# Diferencia\n",
    "diferencia = conjunto1 - conjunto2\n",
    "print(diferencia)  # Salida: {1, 2}"
   ]
  },
  {
   "cell_type": "markdown",
   "metadata": {
    "id": "E09XeA2WT2DZ"
   },
   "source": [
    "**Métodos Disponibles para Conjuntos en Python** :En Python, los conjuntos (sets) son una estructura de datos útil que proporciona una serie de métodos incorporados para realizar operaciones y manipulaciones. Aquí hay algunos de los métodos más comunes que puedes utilizar con conjuntos:\n",
    "\n",
    "- `add(elemento)`: Agrega un elemento al conjunto."
   ]
  },
  {
   "cell_type": "code",
   "execution_count": null,
   "metadata": {
    "id": "-d3k2jJcT2Da"
   },
   "outputs": [],
   "source": [
    "mi_conjunto = {1, 2, 3}\n",
    "mi_conjunto.add(4)\n",
    "print(mi_conjunto)"
   ]
  },
  {
   "cell_type": "markdown",
   "metadata": {
    "id": "GgT6w88oT2Da"
   },
   "source": [
    "- `remove(elemento)`: Elimina un elemento específico del conjunto. Genera un error si el elemento no está presente."
   ]
  },
  {
   "cell_type": "code",
   "execution_count": null,
   "metadata": {
    "id": "yvkGXnVJT2Da"
   },
   "outputs": [],
   "source": [
    "mi_conjunto = {1, 2, 3}\n",
    "mi_conjunto.remove(2)\n",
    "print(mi_conjunto)"
   ]
  },
  {
   "cell_type": "markdown",
   "metadata": {
    "id": "pE_c51F1T2Da"
   },
   "source": [
    "- `discard(elemento)`: Elimina un elemento del conjunto si está presente, pero no genera un error si el elemento no existe."
   ]
  },
  {
   "cell_type": "code",
   "execution_count": null,
   "metadata": {
    "id": "aKlmY_oMT2Da"
   },
   "outputs": [],
   "source": [
    "mi_conjunto = {1, 2, 3}\n",
    "mi_conjunto.discard(4)\n",
    "print(mi_conjunto)"
   ]
  },
  {
   "cell_type": "markdown",
   "metadata": {
    "id": "S5r24ZfjT2Da"
   },
   "source": [
    "- `pop()`: Elimina y devuelve un elemento aleatorio del conjunto."
   ]
  },
  {
   "cell_type": "code",
   "execution_count": null,
   "metadata": {
    "id": "VDsQYyFcT2Db"
   },
   "outputs": [],
   "source": [
    "mi_conjunto = {1, 2, 3}\n",
    "elemento = mi_conjunto.pop()\n",
    "print(elemento)"
   ]
  },
  {
   "cell_type": "markdown",
   "metadata": {
    "id": "OMN50IDPT2Db"
   },
   "source": [
    "-`clear()`: Elimina todos los elementos del conjunto, dejándolo vacío."
   ]
  },
  {
   "cell_type": "code",
   "execution_count": null,
   "metadata": {
    "id": "lj9tJ4M9T2Db",
    "outputId": "63db16b4-d218-4554-aa91-b15dc43173fe"
   },
   "outputs": [],
   "source": [
    "mi_conjunto = {1, 2, 3}\n",
    "mi_conjunto.clear()\n",
    "print(mi_conjunto)"
   ]
  },
  {
   "cell_type": "markdown",
   "metadata": {
    "id": "aLfqHq4IT2Dc"
   },
   "source": [
    "- `union(otro_conjunto)`: Devuelve un nuevo conjunto que es la unión de dos conjuntos."
   ]
  },
  {
   "cell_type": "code",
   "execution_count": null,
   "metadata": {
    "id": "3LdV82A3T2Dc",
    "outputId": "9b3ec05f-e244-41a6-8a2d-001bfecfa4de"
   },
   "outputs": [],
   "source": [
    "conjunto1 = {1, 2, 3}\n",
    "conjunto2 = {3, 4, 5}\n",
    "union = conjunto1.union(conjunto2)\n",
    "print(union)"
   ]
  },
  {
   "cell_type": "markdown",
   "metadata": {
    "id": "YgoMb1L4T2Dc"
   },
   "source": [
    "- `intersection(otro_conjunto)`: Devuelve un nuevo conjunto que es la intersección de dos conjuntos."
   ]
  },
  {
   "cell_type": "code",
   "execution_count": null,
   "metadata": {
    "id": "M23CEajVT2Dc"
   },
   "outputs": [],
   "source": [
    "conjunto1 = {1, 2, 3}\n",
    "conjunto2 = {3, 4, 5}\n",
    "interseccion = conjunto1.intersection(conjunto2)\n",
    "print(interseccion)"
   ]
  },
  {
   "cell_type": "markdown",
   "metadata": {
    "id": "5f7E45CKT2Dd"
   },
   "source": [
    "- `difference(otro_conjunto)`: Devuelve un nuevo conjunto que es la diferencia entre dos conjuntos."
   ]
  },
  {
   "cell_type": "code",
   "execution_count": null,
   "metadata": {
    "id": "c1Y3N7JNT2Dd"
   },
   "outputs": [],
   "source": [
    "conjunto1 = {1, 2, 3}\n",
    "conjunto2 = {3, 4, 5}\n",
    "diferencia = conjunto1.difference(conjunto2)\n",
    "print(diferencia)"
   ]
  },
  {
   "cell_type": "markdown",
   "metadata": {
    "id": "QmW46awZT2De"
   },
   "source": [
    "- `issubset(otro_conjunto)`: Verifica si el conjunto es un subconjunto de otro conjunto."
   ]
  },
  {
   "cell_type": "code",
   "execution_count": null,
   "metadata": {
    "id": "tsvtvGLJT2De"
   },
   "outputs": [],
   "source": [
    "conjunto1 = {1, 2}\n",
    "conjunto2 = {1, 2, 3, 4}\n",
    "es_subconjunto = conjunto1.issubset(conjunto2)\n",
    "print(es_subconjunto)"
   ]
  },
  {
   "cell_type": "markdown",
   "metadata": {
    "id": "B_QN8qh5T2Df"
   },
   "source": [
    "- `issuperset(otro_conjunto)`: Verifica si el conjunto es un superconjunto de otro conjunto."
   ]
  },
  {
   "cell_type": "code",
   "execution_count": null,
   "metadata": {
    "id": "VX_54DQpT2Df"
   },
   "outputs": [],
   "source": [
    "conjunto1 = {1, 2, 3, 4}\n",
    "conjunto2 = {1, 2}\n",
    "es_superconjunto = conjunto1.issuperset(conjunto2)\n",
    "print(es_superconjunto)  # Salida: True\n"
   ]
  },
  {
   "cell_type": "markdown",
   "metadata": {
    "id": "b_J9WNngT2Df"
   },
   "source": [
    "Estos son solo algunos de los métodos disponibles para trabajar con conjuntos en Python. Puedes utilizarlos para realizar una variedad de operaciones y manipulaciones en tus datos."
   ]
  },
  {
   "cell_type": "markdown",
   "metadata": {
    "id": "Sye_C0OvT2Df",
    "lang": "en"
   },
   "source": [
    "### Dictionaries\n",
    "\n",
    "En Python, los diccionarios son una estructura de datos que permite almacenar pares clave-valor. Cada elemento en un diccionario consiste en una clave única asociada a un valor correspondiente. Los diccionarios son extremadamente flexibles y versátiles, y se utilizan para representar datos estructurados en forma de tabla de búsqueda.\n",
    "\n",
    "En un diccionario:\n",
    "- Las claves son únicas y no pueden repetirse.\n",
    "- Los valores pueden ser de cualquier tipo de datos, como enteros, cadenas, listas u otros diccionarios.\n",
    "- Los diccionarios son desordenados, lo que significa que no mantienen un orden específico de los elementos.\n",
    "\n",
    "Los diccionarios se definen utilizando llaves `{}` y cada par clave-valor se separa con `:`. Por ejemplo:"
   ]
  },
  {
   "cell_type": "code",
   "execution_count": null,
   "metadata": {
    "id": "Lmb1ezCcT2Dg",
    "outputId": "443c2bef-7f1b-4311-a552-a0507c3746b9"
   },
   "outputs": [],
   "source": [
    "# Creación de un diccionario\n",
    "informacion_estudiante = {\n",
    "    \"nombre\": \"Juan\",\n",
    "    \"edad\": 22,\n",
    "    \"asignaturas\": [\"Matemáticas\", \"Ciencias\", \"Lengua\"],\n",
    "}\n",
    "informacion_estudiante"
   ]
  },
  {
   "cell_type": "code",
   "execution_count": null,
   "metadata": {
    "id": "kGmatbadT2Dg",
    "outputId": "4cbe392b-81cb-4201-d892-41c0b8ce147c"
   },
   "outputs": [],
   "source": [
    "# Accediendo a elementos en el diccionario\n",
    "print(informacion_estudiante[\"nombre\"])\n",
    "print(informacion_estudiante[\"asignaturas\"])"
   ]
  },
  {
   "cell_type": "code",
   "execution_count": null,
   "metadata": {
    "id": "K-0z8uoxT2Dg",
    "outputId": "ae4757e6-185a-4aff-d32e-51e22c5cebf0"
   },
   "outputs": [],
   "source": [
    "# Modificando un valor en el diccionario\n",
    "informacion_estudiante[\"edad\"] = 23\n",
    "informacion_estudiante"
   ]
  },
  {
   "cell_type": "code",
   "execution_count": null,
   "metadata": {
    "id": "KO1kt3HpT2Dh",
    "outputId": "e71c2be5-cc4c-4381-8781-869ae269ea92"
   },
   "outputs": [],
   "source": [
    "# Añadiendo un nuevo par clave-valor al diccionario\n",
    "informacion_estudiante[\"graduacion\"] = 2023\n",
    "informacion_estudiante"
   ]
  },
  {
   "cell_type": "code",
   "execution_count": null,
   "metadata": {
    "id": "fPkziea8T2Di",
    "outputId": "419a6af7-d63a-4ebd-8956-9c0ee1333bf6"
   },
   "outputs": [],
   "source": [
    "# Eliminando un par clave-valor del diccionario\n",
    "del informacion_estudiante[\"asignaturas\"]\n",
    "informacion_estudiante"
   ]
  },
  {
   "cell_type": "markdown",
   "metadata": {
    "id": "Hs-szWIpT2Di"
   },
   "source": [
    "- El método `get()` se utiliza para obtener el valor asociado con una clave específica en el diccionario. Si la clave no existe, devuelve un valor predeterminado opcional."
   ]
  },
  {
   "cell_type": "code",
   "execution_count": null,
   "metadata": {
    "id": "r6sKKq4cT2Dj",
    "outputId": "b10aa026-f267-4f07-afdf-8dc57f50c965",
    "scrolled": true
   },
   "outputs": [],
   "source": [
    "diccionario = {'nombre': 'Ana', 'edad': 25}\n",
    "valor = diccionario.get('nombre')\n",
    "print(valor)"
   ]
  },
  {
   "cell_type": "markdown",
   "metadata": {
    "id": "gSm4r__1T2Dj"
   },
   "source": [
    "- El método `keys()` devuelve una vista de todas las claves presentes en el diccionario."
   ]
  },
  {
   "cell_type": "code",
   "execution_count": null,
   "metadata": {
    "id": "zs-HmNyaT2Dj",
    "outputId": "54dea006-eec0-4091-da08-f6c31f0d4fcd"
   },
   "outputs": [],
   "source": [
    "diccionario = {'nombre': 'Ana', 'edad': 25}\n",
    "claves = diccionario.keys()\n",
    "print(claves)"
   ]
  },
  {
   "cell_type": "markdown",
   "metadata": {
    "id": "qi_k57c6T2Dk"
   },
   "source": [
    "- El método `values()` devuelve una vista de todos los valores presentes en el diccionario."
   ]
  },
  {
   "cell_type": "code",
   "execution_count": null,
   "metadata": {
    "id": "LBcGC1aTT2Dk",
    "outputId": "039788a5-8dbd-41ca-d39f-003a77f4932a"
   },
   "outputs": [],
   "source": [
    "diccionario = {'nombre': 'Ana', 'edad': 25}\n",
    "valores = diccionario.values()\n",
    "print(valores)"
   ]
  },
  {
   "cell_type": "markdown",
   "metadata": {
    "id": "2caQmwibT2Dk"
   },
   "source": [
    "- El método `items()` devuelve una vista de todos los pares clave-valor presentes en el diccionario."
   ]
  },
  {
   "cell_type": "code",
   "execution_count": null,
   "metadata": {
    "id": "g2PQmNCET2Dk",
    "outputId": "103f949d-ea06-4591-b246-9e3f25c3df6a"
   },
   "outputs": [],
   "source": [
    "diccionario = {'nombre': 'Ana', 'edad': 25}\n",
    "items = diccionario.items()\n",
    "print(items)"
   ]
  },
  {
   "cell_type": "markdown",
   "metadata": {
    "id": "-PFHUFgKT2Dk"
   },
   "source": [
    "- El método `update()` se utiliza para actualizar el diccionario con los pares clave-valor de otro diccionario o con pares clave-valor especificados.\n",
    "\n"
   ]
  },
  {
   "cell_type": "code",
   "execution_count": null,
   "metadata": {
    "id": "BWT2tjZ3T2Dk",
    "outputId": "44c751e8-7e0e-4796-95d2-af16f80711ff"
   },
   "outputs": [],
   "source": [
    "diccionario = {'nombre': 'Ana', 'edad': 25}\n",
    "diccionario.update({'edad': 26})\n",
    "print(diccionario)"
   ]
  },
  {
   "cell_type": "markdown",
   "metadata": {
    "id": "aGroQdOvT2Dk"
   },
   "source": [
    "Puedes leer más sobre estos y otros métodos de diccionarios en la [documentación oficial de Python](https://docs.python.org/3/library/stdtypes.html#dict)."
   ]
  },
  {
   "cell_type": "markdown",
   "metadata": {
    "id": "t2nXo6WRT2Dl"
   },
   "source": [
    "## Comparativa de Estructuras de Datos en Python\n",
    "\n",
    "En Python, tienes varias estructuras de datos disponibles para almacenar y manipular información. A continuación, haremos una comparativa entre las listas, las tuplas, los conjuntos y los diccionarios, destacando sus diferencias y cuándo es apropiado usar cada uno:\n",
    "\n",
    "### Listas (Lists):\n",
    "- **Uso**: Utiliza una lista cuando necesites una colección ordenada y mutable de elementos.\n",
    "- **Sintaxis**: Se definen con corchetes `[]`.\n",
    "- **Características Principales**:\n",
    "  - Pueden contener elementos de diferentes tipos.\n",
    "  - Los elementos se pueden cambiar (mutable).\n",
    "  - Se accede a los elementos por índice.\n",
    "  - Pueden contener duplicados.\n",
    "\n",
    "### Tuplas (Tuples):\n",
    "- **Uso**: Utiliza una tupla cuando necesites una colección ordenada e inmutable de elementos.\n",
    "- **Sintaxis**: Se definen con paréntesis `()`.\n",
    "- **Características Principales**:\n",
    "  - Pueden contener elementos de diferentes tipos.\n",
    "  - Los elementos no se pueden cambiar (inmutable).\n",
    "  - Se accede a los elementos por índice.\n",
    "  - Pueden contener duplicados.\n",
    "\n",
    "### Conjuntos (Sets):\n",
    "- **Uso**: Utiliza un conjunto cuando necesites una colección no ordenada y no duplicada de elementos.\n",
    "- **Sintaxis**: Se definen con llaves `{}`.\n",
    "- **Características Principales**:\n",
    "  - Contienen elementos únicos (sin duplicados).\n",
    "  - No son indexables ni ordenados.\n",
    "  - Son útiles para realizar operaciones de conjunto como unión e intersección.\n",
    "\n",
    "### Diccionarios (Dictionaries):\n",
    "- **Uso**: Utiliza un diccionario cuando necesites una colección de pares clave-valor.\n",
    "- **Sintaxis**: Se definen con llaves `{}` y cada par clave-valor se separa por `:`. Ejemplo: `{\"clave\": valor}`.\n",
    "- **Características Principales**:\n",
    "  - Almacenan datos en forma de pares clave-valor.\n",
    "  - Las claves son únicas y no pueden duplicarse.\n",
    "  - Los valores pueden ser de cualquier tipo.\n",
    "  - Son eficientes para búsquedas basadas en claves."
   ]
  },
  {
   "cell_type": "markdown",
   "metadata": {
    "id": "AIWLmrr-T2Dl"
   },
   "source": [
    "## Ejercicio final"
   ]
  },
  {
   "cell_type": "markdown",
   "metadata": {
    "id": "01hLxgeAT2Dl"
   },
   "source": [
    "Vas a crear un programa que simule un sistema de inventario simple para una tienda. Deberás utilizar variables, tipos de datos, operaciones básicas, listas, tuplas, conjuntos, diccionarios, métodos de cadenas, y operaciones de conjuntos para desarrollar este programa. Aquí están las tareas específicas que debes realizar:\n",
    "\n",
    "Tareas\n",
    "\n",
    "- **Paso 1**: Crea un diccionario que represente el inventario de la tienda. El diccionario debe contener productos como claves y tuplas como valores, donde cada tupla contiene la cantidad de unidades disponibles y el precio por unidad. Por ejemplo:"
   ]
  },
  {
   "cell_type": "code",
   "execution_count": null,
   "metadata": {
    "id": "92WuuL0bT2Dl"
   },
   "outputs": [],
   "source": [
    "# Ejemplo\n",
    "inventario = {\n",
    "    \"Producto A\": (30, 20.50),\n",
    "    \"Producto B\": (20, 30.00)\n",
    "}"
   ]
  },
  {
   "cell_type": "markdown",
   "metadata": {
    "id": "tEq2tmuaT2Dl"
   },
   "source": [
    "- **Paso 2**: Usa la función input() para solicitar al usuario que introduzca el nombre de un producto, la cantidad de unidades vendidas y el precio de venta. Utiliza un metodo string para el input().\n",
    "\n",
    "- **Paso 3:** Usa operaciones básicas para actualizar el inventario después de una venta, y calcula el total de ingresos generados por la venta.\n",
    "\n",
    "- **Paso 4:** Utiliza métodos string para formatear y mostrar un recibo de venta que incluya el nombre del producto, la cantidad vendida, el precio por unidad y el total de la venta.\n",
    "\n",
    "- **Paso 5:** Crea una lista que contenga los nombres de todos los productos en el inventario y utiliza operaciones de conjuntos para identificar cualquier producto nuevo que no estaba previamente en el inventario.\n",
    "\n",
    "**Instrucciones Adicionales**:\n",
    "\n",
    "- Utiliza comentarios para documentar tu código de forma clara.\n",
    "- Asegúrate de que tu programa puede manejar múltiples tipos de datos (como strings y números) e implementa conversiones de tipos cuando sea necesario.\n",
    "- Trata de incorporar al menos un ejemplo de cada uno de los métodos de cadenas mencionados en la sección de resumen."
   ]
  },
  {
   "cell_type": "code",
   "execution_count": null,
   "metadata": {
    "id": "X-rzxspAT2Dl"
   },
   "outputs": [],
   "source": [
    "# tu codigo aquí"
   ]
  },
  {
   "cell_type": "markdown",
   "metadata": {
    "id": "d1ombY0CT2Dl",
    "lang": "en"
   },
   "source": [
    "## Summary\n",
    "\n",
    "En este cuaderno de Jupyter, hemos explorado los conceptos fundamentales de Python para principiantes. Aquí hay un resumen de lo que hemos aprendido:\n",
    "\n",
    "#### Variables y Tipos de Datos\n",
    "- Aprendimos cómo declarar variables y explorar tipos de datos como enteros, flotantes, cadenas y booleanos.\n",
    "- Conocimos las conversiones de tipos implícitas y explícitas.\n",
    "\n",
    "#### Operaciones Básicas\n",
    "- Realizamos operaciones aritméticas básicas como suma, resta, multiplicación, división y módulo.\n",
    "- Comprendimos la diferencia entre la división normal y la división entera.\n",
    "\n",
    "#### Entrada y Salida de Datos\n",
    "- Utilizamos `input()` para recibir datos del usuario y `print()` para mostrar información en la consola.\n",
    "\n",
    "#### Listas, Tuplas y Conjuntos\n",
    "- Exploramos listas, tuplas y conjuntos como estructuras de datos para almacenar colecciones de elementos.\n",
    "- Aprendimos a acceder a elementos dentro de estas estructuras y a realizar operaciones comunes.\n",
    "\n",
    "#### Diccionarios\n",
    "- Introducimos los diccionarios como estructuras de datos clave-valor y cómo usarlos para almacenar y recuperar información relacionada.\n",
    "\n",
    "#### Operaciones de Conjuntos\n",
    "- Aprendimos sobre operaciones de conjuntos como unión, intersección y diferencia.\n",
    "\n",
    "#### Métodos string\n",
    "- Exploramos varios métodos para manipular cadenas de texto, incluyendo `capitalize()`, `upper()`, `lower()`, `swapcase()`, `title()`, `join()`, `startswith()`, `endswith()`, `lstrip()`, `rstrip()`, `replace()`, y `split()`.\n",
    "\n",
    "Este cuaderno proporciona una base sólida para principiantes en Python y servirá como referencia útil a medida que continúes aprendiendo y trabajando con el lenguaje."
   ]
  }
 ],
 "metadata": {
  "colab": {
   "provenance": []
  },
  "kernelspec": {
   "display_name": "Python 3 (ipykernel)",
   "language": "python",
   "name": "python3"
  },
  "language_info": {
   "codemirror_mode": {
    "name": "ipython",
    "version": 3
   },
   "file_extension": ".py",
   "mimetype": "text/x-python",
   "name": "python",
   "nbconvert_exporter": "python",
   "pygments_lexer": "ipython3",
   "version": "3.12.5"
  },
  "nbTranslate": {
   "displayLangs": [
    "en",
    "es"
   ],
   "hotkey": "alt-a",
   "langInMainMenu": true,
   "sourceLang": "es",
   "targetLang": "en",
   "useGoogleTranslate": true
  },
  "toc": {
   "base_numbering": 1,
   "nav_menu": {},
   "number_sections": true,
   "sideBar": true,
   "skip_h1_title": true,
   "title_cell": "Table of Contents",
   "title_sidebar": "Contents",
   "toc_cell": true,
   "toc_position": {
    "height": "calc(100% - 180px)",
    "left": "10px",
    "top": "150px",
    "width": "222.891px"
   },
   "toc_section_display": true,
   "toc_window_display": false
  },
  "varInspector": {
   "cols": {
    "lenName": 16,
    "lenType": 16,
    "lenVar": 40
   },
   "kernels_config": {
    "python": {
     "delete_cmd_postfix": "",
     "delete_cmd_prefix": "del ",
     "library": "var_list.py",
     "varRefreshCmd": "print(var_dic_list())"
    },
    "r": {
     "delete_cmd_postfix": ") ",
     "delete_cmd_prefix": "rm(",
     "library": "var_list.r",
     "varRefreshCmd": "cat(var_dic_list()) "
    }
   },
   "types_to_exclude": [
    "module",
    "function",
    "builtin_function_or_method",
    "instance",
    "_Feature"
   ],
   "window_display": false
  }
 },
 "nbformat": 4,
 "nbformat_minor": 4
}
