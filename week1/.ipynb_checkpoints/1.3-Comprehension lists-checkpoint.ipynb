{
 "cells": [
  {
   "cell_type": "markdown",
   "id": "4476bce5",
   "metadata": {
    "lang": "en"
   },
   "source": [
    "# List Comprehensions"
   ]
  },
  {
   "cell_type": "markdown",
   "id": "ambient-dodge",
   "metadata": {},
   "source": [
    "![elgif](https://media.giphy.com/media/8vZY0QZZjJZqmfResk/giphy.gif)"
   ]
  },
  {
   "cell_type": "markdown",
   "id": "2d0ea60c",
   "metadata": {
    "lang": "en"
   },
   "source": [
    "## But what is this?\n",
    "\n",
    "List Comprehensions are like the magic wands of Python programming, allowing us to create and transform lists in the blink of an eye. 🪄 Imagine taking one list, giving it a shake, and, voilà, a brand new list appears, ready to dazzle you with its contents!\n",
    "\n",
    "These concise one-liners are a powerful tool for building lists based on existing ones, all while keeping your code neat and tidy. No more lengthy loops and repetitive lines – List Comprehensions do the heavy lifting for you.\n",
    "\n",
    "So, let's roll up our sleeves and dive into the enchanting world of List Comprehensions. 🚀 Get ready to unlock new levels of coding elegance and efficiency! 💻✨\n",
    "\n",
    "**What we know now:**"
   ]
  },
  {
   "cell_type": "code",
   "execution_count": 1,
   "id": "4a5fbde9",
   "metadata": {},
   "outputs": [
    {
     "data": {
      "text/plain": [
       "['BARCELONA', 'MADRID', 'GIRONA', 'MURCIA']"
      ]
     },
     "execution_count": 1,
     "metadata": {},
     "output_type": "execute_result"
    }
   ],
   "source": [
    "# Define a list of words\n",
    "list_of_words = [\"Barcelona\", \"Madrid\", \"Girona\", \"Murcia\"]\n",
    "\n",
    "# Create an empty list to store uppercase versions of the words\n",
    "upper = []\n",
    "\n",
    "# Loop through each word in the list_of_words\n",
    "for i in list_of_words:\n",
    "    upper.append(i.upper())\n",
    "    # Convert the word to uppercase using the upper() method and append it to the new list\n",
    "\n",
    "# Display the list of uppercase cities\n",
    "upper"
   ]
  },
  {
   "cell_type": "markdown",
   "id": "4d3acae1",
   "metadata": {},
   "source": [
    "What if i tell you this can be simplified into:"
   ]
  },
  {
   "cell_type": "code",
   "execution_count": 9,
   "id": "02c37a8f",
   "metadata": {},
   "outputs": [
    {
     "data": {
      "text/plain": [
       "['BARCELONA', 'MADRID', 'GIRONA', 'MURCIA']"
      ]
     },
     "execution_count": 9,
     "metadata": {},
     "output_type": "execute_result"
    }
   ],
   "source": [
    "# Define a list of words\n",
    "list_of_words = [\"Barcelona\", \"Madrid\", \"Girona\", \"Murcia\"]\n",
    "\n",
    "# Create a list to store uppercase versions of the words\n",
    "upper2 = [i.upper() for i in list_of_words]\n",
    "upper2"
   ]
  },
  {
   "attachments": {},
   "cell_type": "markdown",
   "id": "2737e7d4",
   "metadata": {},
   "source": [
    "![](https://media.tenor.com/Oc4nf8N08jIAAAAC/mind-blow-galaxy.gif)"
   ]
  },
  {
   "cell_type": "markdown",
   "id": "012339ec",
   "metadata": {
    "lang": "en"
   },
   "source": [
    "Okay, but what is the magic behind it?\n",
    "\n",
    "![imagen_compr](https://stsewd.dev/charla-comprension-de-listas/img/listComprehensions.gif)"
   ]
  },
  {
   "cell_type": "markdown",
   "id": "aa4b9751",
   "metadata": {
    "lang": "en"
   },
   "source": [
    "## Easy challenge 🤔\n",
    "We want a list containing the squares of the numbers 1 to 10."
   ]
  },
  {
   "cell_type": "code",
   "execution_count": 11,
   "id": "281ba562",
   "metadata": {},
   "outputs": [
    {
     "data": {
      "text/plain": [
       "100"
      ]
     },
     "execution_count": 11,
     "metadata": {},
     "output_type": "execute_result"
    }
   ],
   "source": [
    "# Remember: How can we obtain the squares?\n",
    "10**2"
   ]
  },
  {
   "cell_type": "markdown",
   "id": "12b0ab16",
   "metadata": {},
   "source": [
    "### For loop"
   ]
  },
  {
   "cell_type": "code",
   "execution_count": 15,
   "id": "de07f372",
   "metadata": {},
   "outputs": [
    {
     "name": "stdout",
     "output_type": "stream",
     "text": [
      "[1]\n",
      "[1, 4]\n",
      "[1, 4, 9]\n",
      "[1, 4, 9, 16]\n",
      "[1, 4, 9, 16, 25]\n",
      "[1, 4, 9, 16, 25, 36]\n",
      "[1, 4, 9, 16, 25, 36, 49]\n",
      "[1, 4, 9, 16, 25, 36, 49, 64]\n",
      "[1, 4, 9, 16, 25, 36, 49, 64, 81]\n",
      "[1, 4, 9, 16, 25, 36, 49, 64, 81, 100]\n"
     ]
    },
    {
     "data": {
      "text/plain": [
       "[1, 4, 9, 16, 25, 36, 49, 64, 81, 100]"
      ]
     },
     "execution_count": 15,
     "metadata": {},
     "output_type": "execute_result"
    }
   ],
   "source": [
    "# Your code:\n",
    "\n",
    "squared = []\n",
    "for i in range(1, 11):\n",
    "    squared.append(i**2)\n",
    "    print(squared)\n",
    "squared"
   ]
  },
  {
   "cell_type": "markdown",
   "id": "e8ec7ee4",
   "metadata": {},
   "source": [
    "### Comprehension list"
   ]
  },
  {
   "cell_type": "code",
   "execution_count": 17,
   "id": "2efdf34e",
   "metadata": {},
   "outputs": [
    {
     "data": {
      "text/plain": [
       "[1, 4, 9, 16, 25, 36, 49, 64, 81, 100]"
      ]
     },
     "execution_count": 17,
     "metadata": {},
     "output_type": "execute_result"
    }
   ],
   "source": [
    "# Your code:\n",
    "\n",
    "[i**2 for i in range(1, 11)]"
   ]
  },
  {
   "cell_type": "markdown",
   "id": "04427900",
   "metadata": {
    "lang": "en"
   },
   "source": [
    "## Easy challenge 🤔\n",
    "Create a new list, substituting \"e's\" for \"a's\" in each word in the original `words` list."
   ]
  },
  {
   "cell_type": "code",
   "execution_count": 25,
   "id": "cee227e9",
   "metadata": {},
   "outputs": [],
   "source": [
    "list_of_words = [\"Barcelona\", \"Madrid\", \"Gerona\", \"Murcia\", \"Guadalajara\"]"
   ]
  },
  {
   "cell_type": "markdown",
   "id": "2c1733cd",
   "metadata": {},
   "source": [
    "### For loop"
   ]
  },
  {
   "cell_type": "code",
   "execution_count": 27,
   "id": "649b9114",
   "metadata": {},
   "outputs": [
    {
     "data": {
      "text/plain": [
       "['Bercelone', 'Medrid', 'Gerone', 'Murcie', 'Guedelejere']"
      ]
     },
     "execution_count": 27,
     "metadata": {},
     "output_type": "execute_result"
    }
   ],
   "source": [
    "#Your Code here:\n",
    "\n",
    "esas = []\n",
    "for i in list_of_words:\n",
    "    esas.append(i.replace(\"a\", \"e\"))\n",
    "esas"
   ]
  },
  {
   "cell_type": "markdown",
   "id": "998fd911",
   "metadata": {},
   "source": [
    "### Comprehension list"
   ]
  },
  {
   "cell_type": "code",
   "execution_count": 29,
   "id": "30c4a62a",
   "metadata": {},
   "outputs": [
    {
     "data": {
      "text/plain": [
       "['Bercelone', 'Medrid', 'Gerone', 'Murcie', 'Guedelejere']"
      ]
     },
     "execution_count": 29,
     "metadata": {},
     "output_type": "execute_result"
    }
   ],
   "source": [
    "# Your Code here:\n",
    "\n",
    "[i.replace(\"a\", \"e\") for i in list_of_words]"
   ]
  },
  {
   "cell_type": "markdown",
   "id": "69146175",
   "metadata": {
    "lang": "en"
   },
   "source": [
    "## Conditions (we put IF in the comprehension)"
   ]
  },
  {
   "cell_type": "markdown",
   "id": "worthy-major",
   "metadata": {},
   "source": [
    "<img width=600 src=\"https://www.mrdbourke.com/content/images/2019/09/python-list-comprehension-article.png\">"
   ]
  },
  {
   "cell_type": "markdown",
   "id": "3a362f88",
   "metadata": {
    "lang": "en"
   },
   "source": [
    "## If / Else in comprehension\n",
    "\n",
    "List comprehensions can also include conditional statements with an `if-else` structure. This allows you to apply different transformations or filters to elements based on specific conditions. In this section, we'll dive into the world of conditional list comprehensions and see how they add even more flexibility to your Python code.\n",
    "\n",
    "**What we know:**"
   ]
  },
  {
   "cell_type": "markdown",
   "id": "c5226e41",
   "metadata": {},
   "source": [
    "In the example provided, the conditional (the if-else statement) is placed before the value that should be included in the new list. This is a common structure for list comprehensions, and it follows the general syntax:\n",
    "\n",
    "```python\n",
    "\n",
    "new_list = [value_if_true if condition else value_if_false for element in iterable]\n",
    "\n",
    "```\n"
   ]
  },
  {
   "cell_type": "markdown",
   "id": "e5430c1d",
   "metadata": {
    "lang": "en"
   },
   "source": [
    "Be careful with the syntax, in this case it will change, the syntax of the comprehension will be:\n",
    "\n",
    "`[element if / else for element in whatever]`"
   ]
  },
  {
   "cell_type": "code",
   "execution_count": 31,
   "id": "03623c32",
   "metadata": {},
   "outputs": [
    {
     "data": {
      "text/plain": [
       "['BARCELONA', 'Madrid', 'Girona', 'Murcia', 'GUADALAJARA']"
      ]
     },
     "execution_count": 31,
     "metadata": {},
     "output_type": "execute_result"
    }
   ],
   "source": [
    "# Define a list of words\n",
    "list_of_words = [\"Barcelona\", \"Madrid\", \"Girona\", \"Murcia\", \"Guadalajara\"]\n",
    "\n",
    "# Create an empty list to store words longer than 6 characters\n",
    "new_list = []\n",
    "\n",
    "\n",
    "# Loop through each word in the list_of_words\n",
    "    # Check if the length of the word is greater than 6\n",
    "\n",
    "        # If the condition is met, append the word to the new_list\n",
    "for i in list_of_words:\n",
    "    if len(i) > 6:\n",
    "        new_list.append(i.upper())\n",
    "    else:\n",
    "        new_list.append(i)\n",
    "\n",
    "# Display the new_list containing words longer than 6 characters\n",
    "new_list"
   ]
  },
  {
   "cell_type": "markdown",
   "id": "98c47162",
   "metadata": {},
   "source": [
    "Again, we can simplify it in: "
   ]
  },
  {
   "cell_type": "code",
   "execution_count": 33,
   "id": "227cc889",
   "metadata": {},
   "outputs": [
    {
     "data": {
      "text/plain": [
       "['BARCELONA', 'Madrid', 'Girona', 'Murcia', 'GUADALAJARA']"
      ]
     },
     "execution_count": 33,
     "metadata": {},
     "output_type": "execute_result"
    }
   ],
   "source": [
    "# Define a list of words_1:\n",
    "list_of_words = [\"Barcelona\", \"Madrid\", \"Girona\", \"Murcia\", \"Guadalajara\"]\n",
    "\n",
    "# Mind blown:\n",
    "[i.upper() if len(i)>6 else i for i in list_of_words]"
   ]
  },
  {
   "cell_type": "code",
   "execution_count": 35,
   "id": "62d7e00e-9f09-466a-89c4-1febfd3b419a",
   "metadata": {},
   "outputs": [
    {
     "ename": "SyntaxError",
     "evalue": "invalid syntax (1504382713.py, line 5)",
     "output_type": "error",
     "traceback": [
      "\u001b[1;36m  Cell \u001b[1;32mIn[35], line 5\u001b[1;36m\u001b[0m\n\u001b[1;33m    [i.upper() for i in list_of_words if len(i)>6 else i]\u001b[0m\n\u001b[1;37m                                                  ^\u001b[0m\n\u001b[1;31mSyntaxError\u001b[0m\u001b[1;31m:\u001b[0m invalid syntax\n"
     ]
    }
   ],
   "source": [
    "# Define a list of words_2:\n",
    "list_of_words = [\"Barcelona\", \"Madrid\", \"Girona\", \"Murcia\", \"Guadalajara\"]\n",
    "\n",
    "# Mind blown:\n",
    "[i.upper() for i in list_of_words if len(i)>6 else i]     # Si hay 'if' + 'else', dicha condición NO puede ir al final!!!"
   ]
  },
  {
   "cell_type": "markdown",
   "id": "6e95c674",
   "metadata": {
    "lang": "es"
   },
   "source": [
    "## Nested list comprehensions\n",
    "\n",
    "List comprehensions are a powerful feature in Python for creating lists based on existing iterables in a concise and readable way. Nested list comprehensions take this concept further by allowing you to create lists of lists, often referred to as \"nested lists,\" in a similarly concise and expressive manner.\n",
    "\n",
    "In nested list comprehensions, you can have one or more `for` clauses and even include conditional expressions. This flexibility allows you to construct complex data structures and perform advanced operations on nested data.\n",
    "\n",
    "Nested list comprehensions are particularly useful when you need to work with multi-dimensional data or transform the structure of nested lists efficiently. In this section, we'll explore how to use nested list comprehensions and demonstrate their applications through examples.\n",
    "\n",
    "**Example:**"
   ]
  },
  {
   "cell_type": "code",
   "execution_count": 45,
   "id": "de405011",
   "metadata": {},
   "outputs": [],
   "source": [
    "nested_list = [[1, 2], [3,4], [5, 6]]\n",
    "#expected output flat_list = [1, 2, 3, 4, 5, 6]"
   ]
  },
  {
   "cell_type": "markdown",
   "id": "18296b82",
   "metadata": {},
   "source": [
    "### For loop"
   ]
  },
  {
   "cell_type": "markdown",
   "id": "3dceac52",
   "metadata": {
    "lang": "en"
   },
   "source": [
    "Let's create a list of lists with a for loop"
   ]
  },
  {
   "cell_type": "code",
   "execution_count": 49,
   "id": "c0921e98",
   "metadata": {},
   "outputs": [
    {
     "data": {
      "text/plain": [
       "[1, 2, 3, 4, 5, 6]"
      ]
     },
     "execution_count": 49,
     "metadata": {},
     "output_type": "execute_result"
    }
   ],
   "source": [
    "# Your Code here:\n",
    "\n",
    "lista_vacia = []\n",
    "for i in nested_list:\n",
    "    for z in i:\n",
    "        lista_vacia.append(z)\n",
    "lista_vacia"
   ]
  },
  {
   "cell_type": "markdown",
   "id": "ac27117f",
   "metadata": {},
   "source": [
    "### Comprehension list: nested lists"
   ]
  },
  {
   "cell_type": "code",
   "execution_count": 51,
   "id": "7b417e31",
   "metadata": {},
   "outputs": [
    {
     "data": {
      "text/plain": [
       "[1, 2, 3, 4, 5, 6]"
      ]
     },
     "execution_count": 51,
     "metadata": {},
     "output_type": "execute_result"
    }
   ],
   "source": [
    "[z for i in nested_list for z in i]"
   ]
  },
  {
   "cell_type": "markdown",
   "id": "e9c37ab7",
   "metadata": {},
   "source": [
    "#### Unflattening a nested list with a comprehension list"
   ]
  },
  {
   "cell_type": "code",
   "execution_count": 53,
   "id": "5f90b48b",
   "metadata": {},
   "outputs": [],
   "source": [
    "nested = [[[[1, 2], [3, 4]]]]"
   ]
  },
  {
   "cell_type": "code",
   "execution_count": null,
   "id": "cfd2c49e",
   "metadata": {},
   "outputs": [],
   "source": [
    "# your code here: \n"
   ]
  },
  {
   "cell_type": "code",
   "execution_count": 55,
   "id": "86fce8b4",
   "metadata": {},
   "outputs": [
    {
     "data": {
      "text/plain": [
       "[1, 2, 3, 4]"
      ]
     },
     "execution_count": 55,
     "metadata": {},
     "output_type": "execute_result"
    }
   ],
   "source": [
    "# Let's try it with Comprehension Lists!\n",
    "[z for i in nested for k in i for l in k for z in l]"
   ]
  },
  {
   "cell_type": "markdown",
   "id": "3cbc2ea4",
   "metadata": {
    "lang": "en"
   },
   "source": [
    "## Dictionary comprehensions\n",
    "\n",
    "Dictionary comprehensions are a concise way to create dictionaries in Python. They allow you to generate dictionaries using a single line of code, making your code more readable and efficient. With dictionary comprehensions, you can iterate over iterable objects, such as lists, and specify both the keys and values for your dictionary. This feature is particularly useful when you need to transform or filter data while constructing a dictionary.\n",
    "\n",
    "In this section, we'll explore how to use dictionary comprehensions to create dictionaries with ease and clarity. Whether you want to construct dictionaries based on existing data or perform data transformations, dictionary comprehensions are a valuable tool in your Python programming toolkit.\n"
   ]
  },
  {
   "cell_type": "markdown",
   "id": "a199d32c",
   "metadata": {
    "lang": "en"
   },
   "source": [
    "How would we do it with a normal loop?"
   ]
  },
  {
   "cell_type": "code",
   "execution_count": 63,
   "id": "33a452d2",
   "metadata": {},
   "outputs": [],
   "source": [
    "names = [\"Gonzalo\", \"Bernardo\", \"Marina\"]\n",
    "emojis = [\"🙃\", \"☝️\", \"😎\"] # Shortcut: Windows Logo Key + \".\""
   ]
  },
  {
   "cell_type": "markdown",
   "id": "11a48040",
   "metadata": {},
   "source": [
    "### For loop"
   ]
  },
  {
   "cell_type": "code",
   "execution_count": 77,
   "id": "250c393e-f297-406b-994c-51d91cc3a77a",
   "metadata": {},
   "outputs": [
    {
     "data": {
      "text/plain": [
       "{'Gonzalo': '🙃', 'Bernardo': '☝️', 'Marina': '😎'}"
      ]
     },
     "execution_count": 77,
     "metadata": {},
     "output_type": "execute_result"
    }
   ],
   "source": [
    "nombres = {}\n",
    "for name, emoji in zip(names, emojis):\n",
    "    nombres[name]=emoji\n",
    "nombres"
   ]
  },
  {
   "cell_type": "code",
   "execution_count": 89,
   "id": "39976f83-9d2d-47be-a583-5c0e262c93d8",
   "metadata": {},
   "outputs": [],
   "source": [
    "nombres[\"Miquel\"]=\"❤\""
   ]
  },
  {
   "cell_type": "code",
   "execution_count": 91,
   "id": "46ab057d-1031-4d72-b405-434075afc6df",
   "metadata": {},
   "outputs": [
    {
     "data": {
      "text/plain": [
       "{'Gonzalo': '🎶', 'Bernardo': '☝️', 'Marina': '😎', 'Miquel': '❤'}"
      ]
     },
     "execution_count": 91,
     "metadata": {},
     "output_type": "execute_result"
    }
   ],
   "source": [
    "nombres"
   ]
  },
  {
   "cell_type": "code",
   "execution_count": 83,
   "id": "9243431b-2738-45f8-886e-114b4c666c22",
   "metadata": {},
   "outputs": [],
   "source": [
    "nombres[\"Gonzalo\"]=\"🎶\""
   ]
  },
  {
   "cell_type": "code",
   "execution_count": 85,
   "id": "55a98c67-821d-48c6-97ee-824a028debcd",
   "metadata": {},
   "outputs": [
    {
     "data": {
      "text/plain": [
       "{'Gonzalo': '🎶', 'Bernardo': '☝️', 'Marina': '😎', 'Miquel': '❤'}"
      ]
     },
     "execution_count": 85,
     "metadata": {},
     "output_type": "execute_result"
    }
   ],
   "source": [
    "nombres"
   ]
  },
  {
   "cell_type": "markdown",
   "id": "c8d2e4fa",
   "metadata": {
    "lang": "en"
   },
   "source": [
    "### Comprehension dict"
   ]
  },
  {
   "cell_type": "code",
   "execution_count": 93,
   "id": "1cd4fc87",
   "metadata": {},
   "outputs": [
    {
     "data": {
      "text/plain": [
       "{'Gonzalo': '🙃', 'Bernardo': '☝️', 'Marina': '😎'}"
      ]
     },
     "execution_count": 93,
     "metadata": {},
     "output_type": "execute_result"
    }
   ],
   "source": [
    "{name:emoji for name, emoji in zip(names, emojis)}"
   ]
  },
  {
   "cell_type": "markdown",
   "id": "19d8a0d8",
   "metadata": {},
   "source": [
    "# RECAP"
   ]
  },
  {
   "cell_type": "markdown",
   "id": "21163bf7",
   "metadata": {},
   "source": [
    "## List Comprehensions\n",
    "\n",
    "List comprehensions are a powerful tool for creating lists based on existing lists, all in a single readable line of code. They are especially useful when you want to transform or filter data from one list into another. \n",
    "\n",
    "### Regular Syntax vs. Comprehension\n",
    "\n",
    "When working with lists, you have two main options: using the regular syntax or using list comprehensions. Each approach has its own advantages and use cases.\n",
    "\n",
    "#### Regular Syntax\n",
    "\n",
    "- **Easier to Write:** Regular loops using for and if statements are more flexible and allow you to have complete control over what you're doing. You can add print statements within the loops for debugging purposes.\n",
    "\n",
    "- **More Control:** You can use regular loops to write more complex logic and conditionals.\n",
    "\n",
    "- **Print Within Loops:** Debugging is easier with regular loops as you can insert print statements to see intermediate results.\n",
    "\n",
    "#### Comprehension\n",
    "\n",
    "- **More Efficient:** List comprehensions are more efficient and computationally less expensive, making them a good choice for simple operations. They can improve code performance.\n",
    "\n",
    "- **Simpler:** List comprehensions simplify code by reducing the number of steps required. There's no need to create a new list and use append statements.\n",
    "\n",
    "- **Quicker:** List comprehensions are quicker to write and often result in more concise code.\n",
    "\n",
    "- **Versatile:** They can be used with lists, dictionaries, sets, and other iterable objects.\n",
    "\n",
    "In summary, list comprehensions are a concise and efficient way to create lists, especially when the data transformation or filtering is straightforward. They can improve both code readability and performance in such cases."
   ]
  }
 ],
 "metadata": {
  "kernelspec": {
   "display_name": "Python 3 (ipykernel)",
   "language": "python",
   "name": "python3"
  },
  "language_info": {
   "codemirror_mode": {
    "name": "ipython",
    "version": 3
   },
   "file_extension": ".py",
   "mimetype": "text/x-python",
   "name": "python",
   "nbconvert_exporter": "python",
   "pygments_lexer": "ipython3",
   "version": "3.12.5"
  },
  "nbTranslate": {
   "displayLangs": [
    "en",
    "es"
   ],
   "hotkey": "alt-a",
   "langInMainMenu": true,
   "sourceLang": "es",
   "targetLang": "en",
   "useGoogleTranslate": true
  },
  "toc": {
   "base_numbering": 1,
   "nav_menu": {},
   "number_sections": true,
   "sideBar": false,
   "skip_h1_title": true,
   "title_cell": "Table of Contents",
   "title_sidebar": "Contents",
   "toc_cell": false,
   "toc_position": {
    "height": "466px",
    "left": "91px",
    "top": "111.125px",
    "width": "256px"
   },
   "toc_section_display": true,
   "toc_window_display": false
  }
 },
 "nbformat": 4,
 "nbformat_minor": 5
}
