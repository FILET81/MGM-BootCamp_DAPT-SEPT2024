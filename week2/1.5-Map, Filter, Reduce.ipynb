{
 "cells": [
  {
   "cell_type": "markdown",
   "id": "6de0b7ec-6760-450c-a2cf-31eb8a500c2c",
   "metadata": {
    "id": "6de0b7ec-6760-450c-a2cf-31eb8a500c2c",
    "lang": "en"
   },
   "source": [
    "# Lambda\n",
    "A lambda function is an anonymous function, with no identifier, that can be declared in place. Since we can take functions as arguments and assign them to variables, the notation that makes it possible to create lambda functions is very handy in many cases.\n",
    "\n",
    "\n",
    "### Syntax of a lambda\n",
    "```python\n",
    "lambda <param list>:<return expression>\n",
    "```\n"
   ]
  },
  {
   "cell_type": "code",
   "execution_count": 1,
   "id": "c6fc8852-e8c4-407c-9725-0a64351923df",
   "metadata": {
    "id": "c6fc8852-e8c4-407c-9725-0a64351923df",
    "tags": []
   },
   "outputs": [],
   "source": [
    "def suma (a, b):\n",
    "    \"\"\"\n",
    "    Esta funcion hace cosas\n",
    "    arg.-.\"\"\"\n",
    "\n",
    "    variable = a + b\n",
    "    return variable"
   ]
  },
  {
   "cell_type": "code",
   "execution_count": 2,
   "id": "707b59b7-e318-4351-9d96-d0291849fb79",
   "metadata": {
    "id": "707b59b7-e318-4351-9d96-d0291849fb79",
    "outputId": "0941024c-ce0d-43a6-8b53-7e98611e7607",
    "tags": []
   },
   "outputs": [
    {
     "data": {
      "text/plain": [
       "<function __main__.<lambda>(a, b)>"
      ]
     },
     "execution_count": 2,
     "metadata": {},
     "output_type": "execute_result"
    }
   ],
   "source": [
    "lambda a, b: a + b"
   ]
  },
  {
   "cell_type": "code",
   "execution_count": 3,
   "id": "c29296ca-3cc4-421c-8b4a-761bcc01d34d",
   "metadata": {
    "id": "c29296ca-3cc4-421c-8b4a-761bcc01d34d",
    "tags": []
   },
   "outputs": [],
   "source": [
    "suma = lambda a, b: a + b"
   ]
  },
  {
   "cell_type": "code",
   "execution_count": 4,
   "id": "ba2e2ea7-d45f-4341-a7ba-3a747d944796",
   "metadata": {
    "id": "ba2e2ea7-d45f-4341-a7ba-3a747d944796",
    "outputId": "7f515e65-ae4c-48c9-cffb-e353bac90c15",
    "tags": []
   },
   "outputs": [
    {
     "data": {
      "text/plain": [
       "8"
      ]
     },
     "execution_count": 4,
     "metadata": {},
     "output_type": "execute_result"
    }
   ],
   "source": [
    "suma(3, 5)"
   ]
  },
  {
   "cell_type": "markdown",
   "id": "6f07b063-9bcf-4d48-acef-f6c2f71830a1",
   "metadata": {
    "id": "6f07b063-9bcf-4d48-acef-f6c2f71830a1"
   },
   "source": [
    "### `lambda`  as the option of some other built-in functions"
   ]
  },
  {
   "cell_type": "markdown",
   "id": "276a249f-99ee-45b3-b231-0b9f426f85f2",
   "metadata": {
    "id": "276a249f-99ee-45b3-b231-0b9f426f85f2",
    "lang": "en"
   },
   "source": [
    "It is also possible to use these anonymous functions as arguments in calls to other functions. For example, in a call to sorted() or list.sort() we can use a lambda function as an argument to the key parameter:"
   ]
  },
  {
   "cell_type": "code",
   "execution_count": 8,
   "id": "65e46ef1-40dd-4535-87bc-47d2924f5b34",
   "metadata": {
    "id": "65e46ef1-40dd-4535-87bc-47d2924f5b34",
    "tags": []
   },
   "outputs": [
    {
     "name": "stdout",
     "output_type": "stream",
     "text": [
      "[('zjg', 34542), ('aaaaa', 30), ('sdsd', 5678)]\n"
     ]
    }
   ],
   "source": [
    "# Example list of tuples\n",
    "list_of_tuples = [(\"zjg\", 34542), (\"aaaaa\", 30), (\"sdsd\", 5678)]\n",
    "\n",
    "# Print the example\n",
    "print(list_of_tuples)"
   ]
  },
  {
   "cell_type": "code",
   "execution_count": 9,
   "id": "af0871f8-93a7-48c1-9d1d-228426d937cf",
   "metadata": {
    "id": "af0871f8-93a7-48c1-9d1d-228426d937cf",
    "outputId": "f0162729-5073-4790-b1ad-bc47aacac045",
    "tags": []
   },
   "outputs": [
    {
     "name": "stdout",
     "output_type": "stream",
     "text": [
      "[('zjg', 34542), ('sdsd', 5678), ('aaaaa', 30)]\n"
     ]
    }
   ],
   "source": [
    "# Pass the lambda function to the sort function\n",
    "new_list = sorted(list_of_tuples, key = lambda tupla: tupla[-1], reverse=True)\n",
    "\n",
    "# Print the new list\n",
    "print(new_list)"
   ]
  },
  {
   "cell_type": "code",
   "execution_count": 10,
   "id": "9a34d5c9-4056-45fa-ac37-45e4f495fc41",
   "metadata": {
    "id": "9a34d5c9-4056-45fa-ac37-45e4f495fc41",
    "tags": []
   },
   "outputs": [
    {
     "ename": "TypeError",
     "evalue": "'int' object is not callable",
     "output_type": "error",
     "traceback": [
      "\u001b[1;31m---------------------------------------------------------------------------\u001b[0m",
      "\u001b[1;31mTypeError\u001b[0m                                 Traceback (most recent call last)",
      "Cell \u001b[1;32mIn[10], line 2\u001b[0m\n\u001b[0;32m      1\u001b[0m \u001b[38;5;66;03m# sorted(list_of_tuples, key = 1, reverse=True)\u001b[39;00m\n\u001b[1;32m----> 2\u001b[0m new_list_2 \u001b[38;5;241m=\u001b[39m \u001b[38;5;28msorted\u001b[39m(list_of_tuples, key \u001b[38;5;241m=\u001b[39m \u001b[38;5;241m1\u001b[39m, reverse\u001b[38;5;241m=\u001b[39m\u001b[38;5;28;01mTrue\u001b[39;00m)\n\u001b[0;32m      4\u001b[0m \u001b[38;5;66;03m# Print the new list 2\u001b[39;00m\n\u001b[0;32m      5\u001b[0m \u001b[38;5;28mprint\u001b[39m(new_list_2)\n",
      "\u001b[1;31mTypeError\u001b[0m: 'int' object is not callable"
     ]
    }
   ],
   "source": [
    "# sorted(list_of_tuples, key = 1, reverse=True)\n",
    "new_list_2 = sorted(list_of_tuples, key = 1, reverse=True)\n",
    "\n",
    "# Print the new list 2\n",
    "print(new_list_2)"
   ]
  },
  {
   "cell_type": "code",
   "execution_count": 11,
   "id": "1da2b2f6-6c89-4f58-852f-59c3a2afb9c4",
   "metadata": {},
   "outputs": [
    {
     "name": "stdout",
     "output_type": "stream",
     "text": [
      "Help on built-in function sorted in module builtins:\n",
      "\n",
      "sorted(iterable, /, *, key=None, reverse=False)\n",
      "    Return a new list containing all items from the iterable in ascending order.\n",
      "\n",
      "    A custom key function can be supplied to customize the sort order, and the\n",
      "    reverse flag can be set to request the result in descending order.\n",
      "\n"
     ]
    }
   ],
   "source": [
    "help(sorted)"
   ]
  },
  {
   "cell_type": "markdown",
   "id": "bottom-commerce",
   "metadata": {
    "id": "bottom-commerce"
   },
   "source": [
    "# Map, Filter, Reduce\n",
    "\n",
    "In the world of programming, data transformation is a fundamental skill. Whether you're dealing with lists, arrays, or any other data structure, you often need to perform operations on the data to extract meaningful insights or manipulate it for various purposes.\n",
    "\n",
    "\"Map, Filter, Reduce\" are three powerful techniques that can help you streamline your data manipulation tasks. These methods allow you to:\n",
    "\n",
    "- **Map:** Apply a given function to each item in a collection (e.g., a list) and return the results as a new collection.\n",
    "- **Filter:** Select elements from a collection that meet a specified condition, creating a new collection that contains only the matching elements.\n",
    "- **Reduce:** Combine elements of a collection into a single value by applying a given function cumulatively.\n",
    "\n",
    "In this notebook, we'll explore these techniques in depth, providing practical examples and real-world scenarios where \"Map, Filter, Reduce\" can greatly simplify your code. Whether you're a beginner or an experienced developer, mastering these techniques will make you more efficient and effective in data manipulation tasks.\n",
    "\n",
    "Let's get started and unlock the full potential of \"Map, Filter, Reduce\"!\n"
   ]
  },
  {
   "cell_type": "markdown",
   "id": "rising-buyer",
   "metadata": {
    "id": "rising-buyer",
    "toc": true
   },
   "source": [
    "<h1>Table of Contents<span class=\"tocSkip\"></span></h1>\n",
    "<div class=\"toc\"><ul class=\"toc-item\"><li><ul class=\"toc-item\"><li><span><a href=\"#Each-student-is-randomly-assigned-a-topic\" data-toc-modified-id=\"Each-student-is-randomly-assigned-a-topic-0.1\"><span class=\"toc-item-num\">0.1&nbsp;&nbsp;</span>Each student is randomly assigned a topic</a></span></li></ul></li><li><span><a href=\"#Let's-start\" data-toc-modified-id=\"Let's-start-1\"><span class=\"toc-item-num\">1&nbsp;&nbsp;</span>Let's start</a></span><ul class=\"toc-item\"><li><span><a href=\"#Create-groups-with-other-people-who-have-studied-the-same-function\" data-toc-modified-id=\"Create-groups-with-other-people-who-have-studied-the-same-function-1.1\"><span class=\"toc-item-num\">1.1&nbsp;&nbsp;</span>Create groups with other people who have studied the same function</a></span></li></ul></li><li><span><a href=\"#Map,-Filter,-Reduce\" data-toc-modified-id=\"Map,-Filter,-Reduce-2\"><span class=\"toc-item-num\">2&nbsp;&nbsp;</span>Map, Filter, Reduce</a></span><ul class=\"toc-item\"><li><span><a href=\"#Map\" data-toc-modified-id=\"Map-2.1\"><span class=\"toc-item-num\">2.1&nbsp;&nbsp;</span>Map</a></span><ul class=\"toc-item\"><li><span><a href=\"#First-we-do-it-with-functions\" data-toc-modified-id=\"First-we-do-it-with-functions-2.1.1\"><span class=\"toc-item-num\">2.1.1&nbsp;&nbsp;</span>First we do it with functions</a></span></li><li><span><a href=\"#Extra:-Do-it-with-lambda!\" data-toc-modified-id=\"Extra:-Do-it-with-lambda!-2.1.2\"><span class=\"toc-item-num\">2.1.2&nbsp;&nbsp;</span>Extra: Do it with lambda!</a></span></li></ul></li><li><span><a href=\"#Filter\" data-toc-modified-id=\"Filter-2.2\"><span class=\"toc-item-num\">2.2&nbsp;&nbsp;</span>Filter</a></span><ul class=\"toc-item\"><li><span><a href=\"#First-we-do-it-with-functions\" data-toc-modified-id=\"First-we-do-it-with-functions-2.2.1\"><span class=\"toc-item-num\">2.2.1&nbsp;&nbsp;</span>First we do it with functions</a></span></li><li><span><a href=\"#Extra:-Do-it-with-lambda!\" data-toc-modified-id=\"Extra:-Do-it-with-lambda!-2.2.2\"><span class=\"toc-item-num\">2.2.2&nbsp;&nbsp;</span>Extra: Do it with lambda!</a></span></li></ul></li><li><span><a href=\"#Reduce\" data-toc-modified-id=\"Reduce-2.3\"><span class=\"toc-item-num\">2.3&nbsp;&nbsp;</span>Reduce</a></span><ul class=\"toc-item\"><li><span><a href=\"#What-happened?\" data-toc-modified-id=\"What-happened?-2.3.1\"><span class=\"toc-item-num\">2.3.1&nbsp;&nbsp;</span>What happened?</a></span></li></ul></li><li><span><a href=\"#First-we-do-it-with-functions\" data-toc-modified-id=\"First-we-do-it-with-functions-2.4\"><span class=\"toc-item-num\">2.4&nbsp;&nbsp;</span>First we do it with functions</a></span></li><li><span><a href=\"#Bonus:-Do-it-with-lambda!\" data-toc-modified-id=\"Bonus:-Do-it-with-lambda!-2.5\"><span class=\"toc-item-num\">2.5&nbsp;&nbsp;</span>Bonus: Do it with lambda!</a></span></li></ul></li><li><span><a href=\"#Summary\" data-toc-modified-id=\"Summary-3\"><span class=\"toc-item-num\">3&nbsp;&nbsp;</span>Summary</a></span></li><li><span><a href=\"#Further-materials\" data-toc-modified-id=\"Further-materials-4\"><span class=\"toc-item-num\">4&nbsp;&nbsp;</span>Further materials</a></span></li></ul></div>"
   ]
  },
  {
   "cell_type": "markdown",
   "id": "07c5496e",
   "metadata": {
    "id": "07c5496e",
    "lang": "en"
   },
   "source": [
    "### Each student is randomly assigned a topic\n",
    "In this exercise, you will form two random groups of students, and each group will explore one of the fundamental concepts in Python: map, reduce, or filter. Your task is to understand these concepts thoroughly and prepare a clear explanation to share with the class."
   ]
  },
  {
   "cell_type": "code",
   "execution_count": 12,
   "id": "161d63c9",
   "metadata": {
    "id": "161d63c9"
   },
   "outputs": [],
   "source": [
    "import random\n",
    "from typing import List, Tuple\n",
    "\n",
    "def assign_students_to_groups(students: List[str], roles: List[str], num_groups: int) -> List[List[Tuple[str, str]]]:\n",
    "    \"\"\"\n",
    "    Assign students to groups randomly, each with a specified role.\n",
    "\n",
    "    Args:\n",
    "    - students (List[str]): A list of student names.\n",
    "    - roles (List[str]): A list of roles to assign to students.\n",
    "    - num_groups (int): The number of groups to create.\n",
    "\n",
    "    Returns:\n",
    "    - List[List[Tuple[str, str]]]: A list of groups, where each group is a list of tuples.\n",
    "      Each tuple contains a student's name and their assigned role.\n",
    "    \"\"\"\n",
    "    # Shuffle the list of students randomly\n",
    "    random.shuffle(students)\n",
    "\n",
    "    # Divide the students into groups\n",
    "    groups = [[] for _ in range(num_groups)]\n",
    "\n",
    "    for i, student in enumerate(students):\n",
    "        group_index = i % num_groups\n",
    "        role = roles[i % len(roles)]\n",
    "        groups[group_index].append((student, role))\n",
    "\n",
    "    return groups"
   ]
  },
  {
   "cell_type": "code",
   "execution_count": 13,
   "id": "8e97a7ba",
   "metadata": {
    "id": "8e97a7ba",
    "outputId": "6c5837e7-10b0-4b88-e769-bdc2bfe2b9ce",
    "tags": []
   },
   "outputs": [
    {
     "name": "stdout",
     "output_type": "stream",
     "text": [
      "Help on function assign_students_to_groups in module __main__:\n",
      "\n",
      "assign_students_to_groups(students: List[str], roles: List[str], num_groups: int) -> List[List[Tuple[str, str]]]\n",
      "    Assign students to groups randomly, each with a specified role.\n",
      "\n",
      "    Args:\n",
      "    - students (List[str]): A list of student names.\n",
      "    - roles (List[str]): A list of roles to assign to students.\n",
      "    - num_groups (int): The number of groups to create.\n",
      "\n",
      "    Returns:\n",
      "    - List[List[Tuple[str, str]]]: A list of groups, where each group is a list of tuples.\n",
      "      Each tuple contains a student's name and their assigned role.\n",
      "\n"
     ]
    }
   ],
   "source": [
    "# What happens, if I click run? (Functions spoiler alert)\n",
    "help(assign_students_to_groups)"
   ]
  },
  {
   "cell_type": "code",
   "execution_count": 31,
   "id": "91b5081e",
   "metadata": {
    "id": "91b5081e",
    "outputId": "615c789f-5a4a-42a3-835b-65d66e337774",
    "tags": []
   },
   "outputs": [
    {
     "name": "stdout",
     "output_type": "stream",
     "text": [
      "Group 1: [('María Gabriela', 'map'), ('Inés', 'map')]\n",
      "Group 2: [('Arnau', 'filter'), ('Caterina', 'filter')]\n",
      "Group 3: [('Lucas', 'reduce'), ('Miquel', 'reduce')]\n"
     ]
    }
   ],
   "source": [
    "# List of students\n",
    "students = [\"Miquel\", \"Caterina\", \"Inés\", \"Lucas\", \"María Gabriela\", \"Arnau\"]\n",
    "\n",
    "# List of roles\n",
    "roles = [\"map\", \"filter\", \"reduce\"]\n",
    "\n",
    "# Number of groups\n",
    "num_groups = 3\n",
    "\n",
    "# Assign students to groups\n",
    "groups = assign_students_to_groups(students, roles, num_groups)\n",
    "\n",
    "# Print the groups\n",
    "for i, group in enumerate(groups, start=1):\n",
    "    print(f\"Group {i}: {group}\")"
   ]
  },
  {
   "cell_type": "markdown",
   "id": "67ba83fd",
   "metadata": {
    "id": "67ba83fd",
    "lang": "en"
   },
   "source": [
    "## Let's start"
   ]
  },
  {
   "cell_type": "markdown",
   "id": "2044e738",
   "metadata": {
    "id": "2044e738",
    "lang": "en"
   },
   "source": [
    "You have 10 minutes to explore and understand the role you have been assigned on your own. You may find these links useful:\n",
    "\n",
    "- [map, filter, reduce - I](https://medium.com/swlh/higher-order-functions-in-python-map-filter-and-reduce-34299fee1b21)\n",
    "- [map, filter, reduce - II](https://www.learnpython.org/en/Map,_Filter,_Reduce)\n",
    "- [map, filter, reduce - III](https://stackabuse.com/map-filter-and-reduce-in-python-with-examples)"
   ]
  },
  {
   "cell_type": "markdown",
   "id": "1494059b",
   "metadata": {
    "id": "1494059b"
   },
   "source": [
    "### Create groups with other people who have studied the same function"
   ]
  },
  {
   "cell_type": "markdown",
   "id": "closing-referral",
   "metadata": {
    "id": "closing-referral"
   },
   "source": [
    "![otrogif](https://media.giphy.com/media/UatRnEUNX8iCQ/giphy.gif)"
   ]
  },
  {
   "cell_type": "markdown",
   "id": "8fd5c1b9",
   "metadata": {
    "id": "8fd5c1b9",
    "lang": "en"
   },
   "source": [
    "## Map, Filter, Reduce"
   ]
  },
  {
   "cell_type": "markdown",
   "id": "55e1da7a",
   "metadata": {
    "id": "55e1da7a",
    "lang": "en"
   },
   "source": [
    "There are three functions that will come in very handy when working with iterators. These functions facilitate certain basic and common operations on iterable collections of data, such as removing elements that do not meet a certain condition, calculating a result from the contained data, or applying a transformation to each element. Let's see them with examples of use:"
   ]
  },
  {
   "cell_type": "markdown",
   "id": "distinct-translator",
   "metadata": {
    "id": "distinct-translator"
   },
   "source": [
    "### Map"
   ]
  },
  {
   "cell_type": "markdown",
   "id": "3bbb0048",
   "metadata": {
    "id": "3bbb0048",
    "lang": "en"
   },
   "source": [
    "The map() function takes a function and a list and applies that function to each element in that list, producing a new list.\n",
    "```python\n",
    "map(function_to_apply, list_of_inputs)\n",
    "```"
   ]
  },
  {
   "cell_type": "markdown",
   "id": "6279886e",
   "metadata": {
    "id": "6279886e"
   },
   "source": [
    "- function\n",
    "    - does things: combine iterables, it can combine\n",
    "    - it can be one\n",
    "    - tell them what to do\n",
    "    \n",
    "    - like a for loop: takes iterables & functions\n",
    "    - returns a map object\n",
    "    - which you can cast into a list"
   ]
  },
  {
   "cell_type": "markdown",
   "id": "3a2fc244",
   "metadata": {
    "id": "3a2fc244"
   },
   "source": [
    "`goal: square of numbers`"
   ]
  },
  {
   "cell_type": "markdown",
   "id": "848ef234",
   "metadata": {
    "id": "848ef234",
    "lang": "en"
   },
   "source": [
    "#### First we do it with functions"
   ]
  },
  {
   "cell_type": "code",
   "execution_count": 1,
   "id": "faca82e0",
   "metadata": {
    "id": "faca82e0"
   },
   "outputs": [
    {
     "data": {
      "text/plain": [
       "[4, 9, 16, 25]"
      ]
     },
     "execution_count": 1,
     "metadata": {},
     "output_type": "execute_result"
    }
   ],
   "source": [
    "# Devuelve una lista con clase map, que es un tipo de clase dirigida a objetos\n",
    "\n",
    "def square(x):\n",
    "    return x**2\n",
    "\n",
    "list_test = [2, 3, 4, 5]\n",
    "\n",
    "result = list(map(square, list_test))\n",
    "result"
   ]
  },
  {
   "cell_type": "markdown",
   "id": "0a921158-0e27-4f81-847c-3dabc5e7722a",
   "metadata": {
    "id": "connected-found"
   },
   "source": [
    "### 2.2. Filter"
   ]
  },
  {
   "cell_type": "markdown",
   "id": "b0fd2478",
   "metadata": {
    "id": "b0fd2478",
    "lang": "en"
   },
   "source": [
    "The filter() function filters a list of items for which a function returns True.\n",
    "```python\n",
    "filter(a_function, a_list)\n",
    "```"
   ]
  },
  {
   "cell_type": "markdown",
   "id": "3ac537c7",
   "metadata": {
    "id": "3ac537c7",
    "lang": "en"
   },
   "source": [
    "Imagine you want to filter a list of numbers to get only even values."
   ]
  },
  {
   "cell_type": "markdown",
   "id": "2904d6f4-315e-4062-aa00-48e29e0a098e",
   "metadata": {
    "id": "1df16233",
    "lang": "en"
   },
   "source": [
    "#### 2.2.1 First we do it with functions"
   ]
  },
  {
   "cell_type": "code",
   "execution_count": 3,
   "id": "630ee78a",
   "metadata": {
    "id": "630ee78a"
   },
   "outputs": [
    {
     "data": {
      "text/plain": [
       "[4, 10]"
      ]
     },
     "execution_count": 3,
     "metadata": {},
     "output_type": "execute_result"
    }
   ],
   "source": [
    "# filter_experts\n",
    "\n",
    "lista = [4, 7, 10, 13]\n",
    "\n",
    "def multiplo (a):\n",
    "    return a % 2 == 0\n",
    "\n",
    "resultado = list(filter(multiplo, lista))\n",
    "resultado"
   ]
  },
  {
   "cell_type": "markdown",
   "id": "24d5f21b",
   "metadata": {
    "id": "24d5f21b",
    "lang": "en"
   },
   "source": [
    "Imagine that you want to filter a list and keep only the groups that start with the letter R"
   ]
  },
  {
   "cell_type": "code",
   "execution_count": null,
   "id": "7ce695c1",
   "metadata": {
    "id": "7ce695c1"
   },
   "outputs": [],
   "source": []
  },
  {
   "cell_type": "markdown",
   "id": "bb36b0d0-5a18-4193-9063-25f60021cc8c",
   "metadata": {
    "id": "9b923a35",
    "lang": "en"
   },
   "source": [
    "### 2.3. Reduce"
   ]
  },
  {
   "cell_type": "markdown",
   "id": "5e2eb96a",
   "metadata": {
    "id": "5e2eb96a",
    "lang": "en"
   },
   "source": [
    "This function is not a built-in function, which means you must first import the functools library for use. The reduce() function cumulatively applies the f() function to the elements of the iterable. The accumulator can be initialized with an optional third argument. The result is the final value of the accumulator.\n",
    "\n",
    "```python\n",
    "reduce(function, iterable[, initial])\n",
    "```"
   ]
  },
  {
   "cell_type": "code",
   "execution_count": null,
   "id": "c731b8db",
   "metadata": {
    "id": "c731b8db"
   },
   "outputs": [],
   "source": [
    "#random.choice(reduce_experts)"
   ]
  },
  {
   "cell_type": "code",
   "execution_count": null,
   "id": "408b7fe6",
   "metadata": {
    "id": "408b7fe6"
   },
   "outputs": [],
   "source": [
    "from functools import reduce"
   ]
  },
  {
   "cell_type": "markdown",
   "id": "54940f3b",
   "metadata": {
    "id": "54940f3b"
   },
   "source": [
    "- one final VALUE\n",
    "- two arguments:\n",
    "    - 1st: function\n",
    "    - 2nd: looped object\n",
    "    - needs to be imported\n",
    "    - flow:\n",
    "        - first item: apply function -> one value\n",
    "        - one value: apply function -> another value\n",
    "        - another value: apply function -> last result\n",
    "        - return last result\n",
    "    - optional argument: initial: first value you want to begin with\n",
    "    "
   ]
  },
  {
   "cell_type": "code",
   "execution_count": null,
   "id": "5600b022",
   "metadata": {
    "id": "5600b022"
   },
   "outputs": [],
   "source": []
  },
  {
   "cell_type": "markdown",
   "id": "be41def2",
   "metadata": {
    "id": "be41def2",
    "lang": "en"
   },
   "source": [
    "⚠️ Reduce is a bit more complicated to understand than map() and filter() so let's walk through the following example ⚠️"
   ]
  },
  {
   "cell_type": "code",
   "execution_count": null,
   "id": "52fcf783",
   "metadata": {
    "id": "52fcf783"
   },
   "outputs": [],
   "source": [
    "from functools import reduce\n",
    "\n",
    "# Define a list of numbers for which we want to calculate the product.\n",
    "numbers = [1, 2, 3, 4, 5]\n",
    "\n",
    "# Create a function that takes two arguments and returns their product.\n",
    "# We will use this function as the \"accumulator\" in reduce().\n",
    "#The reduce() function will apply this function cumulatively to the items in the list.\n",
    "def multiply(x, y):\n",
    "    return x * y\n",
    "\n",
    "# Use the reduce() function to calculate the product of all numbers in the list.\n",
    "# Pass in the multiply function and the list of numbers as arguments to reduce().\n",
    "product = reduce(multiply, numbers)\n",
    "\n",
    "# Print the result\n",
    "print(product)  # Output: 120"
   ]
  },
  {
   "cell_type": "markdown",
   "id": "9bcc559e",
   "metadata": {
    "id": "9bcc559e",
    "lang": "en"
   },
   "source": [
    "#### What happened?\n",
    "- We start with a list [1, 2, 3, 4, 5] and pass the function multiply (x, y) to reduce ( ) along with this list, without an initial value\n",
    "\n",
    "- reduce() calls multiply(1, 2), and multiply() returns 2\n",
    "\n",
    "- It takes the result (2) and the next element from the list (3).\n",
    "\n",
    "- It applies the multiply function again: 2 * 3 = 6.\n",
    "\n",
    "- It continues this process until all elements in the list have been processed.\n",
    "\n",
    "Since there are no more elements left in the sequence, reduce() returns 16"
   ]
  },
  {
   "cell_type": "markdown",
   "id": "04ecdfe8",
   "metadata": {
    "id": "04ecdfe8",
    "lang": "en"
   },
   "source": [
    "Factorial:\n",
    "Amount that results from the multiplication of a certain natural number by all the natural numbers that precede it, excluding zero; is represented by n!"
   ]
  },
  {
   "cell_type": "markdown",
   "id": "0334080d",
   "metadata": {
    "id": "0334080d",
    "lang": "en"
   },
   "source": [
    "### First we do it with functions"
   ]
  },
  {
   "cell_type": "code",
   "execution_count": 4,
   "id": "electrical-knitting",
   "metadata": {
    "id": "electrical-knitting"
   },
   "outputs": [
    {
     "name": "stdout",
     "output_type": "stream",
     "text": [
      "2.7750027750027753e-05\n"
     ]
    }
   ],
   "source": [
    "# Reduce practice\n",
    "# How Reduce technique works: En cada iteración, esta técnica va acumulando el resultado de la operación definida en la función:\n",
    "    #[10/11, 12, 13, 14, 15]\n",
    "    #[10/11/12, 13, 14, 15]\n",
    "    #[10/11/12/13, 14, 15]\n",
    "    #[10/11/12/13/14, 15]\n",
    "    #[10/11/12/13/14/15]\n",
    "\n",
    "from functools import reduce\n",
    "\n",
    "numbers_list = [10, 11, 12, 13, 14, 15]\n",
    "\n",
    "def div(x, y):\n",
    "    return x/y\n",
    "\n",
    "division = reduce(div, numbers_list)\n",
    "print(division)"
   ]
  },
  {
   "cell_type": "markdown",
   "id": "69ae8c39",
   "metadata": {
    "id": "69ae8c39",
    "lang": "en"
   },
   "source": [
    "## Summary"
   ]
  },
  {
   "cell_type": "code",
   "execution_count": null,
   "id": "73bd382a",
   "metadata": {
    "id": "73bd382a"
   },
   "outputs": [],
   "source": []
  },
  {
   "cell_type": "markdown",
   "id": "jewish-configuration",
   "metadata": {
    "id": "jewish-configuration"
   },
   "source": [
    "## Further materials\n",
    "http://web.mit.edu/6.005/www/sp16/classes/25-map-filter-reduce/    \n"
   ]
  }
 ],
 "metadata": {
  "colab": {
   "provenance": []
  },
  "kernelspec": {
   "display_name": "Python 3 (ipykernel)",
   "language": "python",
   "name": "python3"
  },
  "language_info": {
   "codemirror_mode": {
    "name": "ipython",
    "version": 3
   },
   "file_extension": ".py",
   "mimetype": "text/x-python",
   "name": "python",
   "nbconvert_exporter": "python",
   "pygments_lexer": "ipython3",
   "version": "3.12.4"
  },
  "nbTranslate": {
   "displayLangs": [
    "en",
    "es"
   ],
   "hotkey": "alt-a",
   "langInMainMenu": true,
   "sourceLang": "es",
   "targetLang": "en",
   "useGoogleTranslate": true
  },
  "toc": {
   "base_numbering": 1,
   "nav_menu": {},
   "number_sections": true,
   "sideBar": true,
   "skip_h1_title": true,
   "title_cell": "Table of Contents",
   "title_sidebar": "Contents",
   "toc_cell": true,
   "toc_position": {
    "height": "calc(100% - 180px)",
    "left": "10px",
    "top": "150px",
    "width": "266px"
   },
   "toc_section_display": true,
   "toc_window_display": false
  }
 },
 "nbformat": 4,
 "nbformat_minor": 5
}
