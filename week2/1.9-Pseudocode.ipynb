{
 "cells": [
  {
   "attachments": {},
   "cell_type": "markdown",
   "id": "94342407",
   "metadata": {},
   "source": [
    "# Understanding Pseudocode: A Path to Effective Algorithm Design\n",
    "\n",
    "Pseudocode is a valuable tool used in computer science and programming to plan, outline, and design algorithms in a human-readable and structured manner. It is not a formal programming language but rather a method for expressing the logic and steps of a program before actual coding begins.\n",
    "\n",
    "## The Role of Pseudocode\n",
    "\n",
    "Pseudocode acts as an intermediary step between problem-solving and writing actual code. It allows programmers to focus on the algorithm's logic and functionality without being concerned about language-specific syntax rules. Pseudocode is especially useful for:\n",
    "\n",
    "- **Algorithm Development:** Pseudocode helps you plan and visualize the steps required to solve a problem or accomplish a specific task.\n",
    "- **Communication:** It serves as a means to discuss and share algorithmic ideas with peers, team members, or stakeholders.\n",
    "- **Clarity:** Pseudocode enhances the clarity of your thought process, making it easier to understand complex algorithms.\n",
    "- **Problem-Solving:** It aids in identifying potential issues or inefficiencies in an algorithm before implementation.\n",
    "\n",
    "## Pseudocode Syntax\n",
    "\n",
    "Pseudocode is a flexible and informal way of representing algorithms. There are no strict rules or syntax requirements, but some common conventions include:\n",
    "\n",
    "- Using plain language: Write pseudocode in a way that is easily understandable by both technical and non-technical individuals.\n",
    "- Employing standard programming constructs: You can use familiar programming constructs like loops, conditionals, and functions in your pseudocode.\n",
    "- Indentation: Maintain consistent indentation to signify blocks of code or nested statements.\n",
    "\n",
    "## Pseudocode vs. Actual Code\n",
    "\n",
    "Pseudocode is distinct from actual programming languages in that it does not adhere to any specific language's syntax. This distinction is intentional, allowing you to focus solely on the logic and problem-solving aspects of an algorithm.\n",
    "\n",
    "In this pseudocode notebook, you will explore various examples, exercises, and practical applications to master the art of designing efficient and effective algorithms. Pseudocode is a valuable skill for any programmer, as it lays the foundation for writing clean, well-structured code.\n",
    "\n",
    "Let's embark on this journey of algorithmic thinking and problem-solving through the lens of pseudocode!\n",
    "![](https://builtin.com/sites/www.builtin.com/files/styles/ckeditor_optimize/public/inline-images/national/pseudocode%2520example_0.png)\n"
   ]
  },
  {
   "cell_type": "markdown",
   "id": "0f156063",
   "metadata": {},
   "source": [
    "\n",
    "## SET/DISPLAY, FOR/END FOR, IF, THEN, END IF..."
   ]
  },
  {
   "cell_type": "markdown",
   "id": "c446351d",
   "metadata": {},
   "source": [
    "# Pseudocode Notebook\n",
    "\n",
    "- What do we originally need?\n",
    "- What should be the output/s?\n",
    "- Is it possible to separate the \"issues\" into smaller outputs?\n",
    "    - In this case, what are the outputs of this smaller functions?\n",
    "- Trial: Is there a problem if set a \"strange\" input, but valid? \n",
    "- Do we need any iteration? While or For? Where is the end?\n",
    "- Do we need any if condition?\n",
    "\n",
    "## All together Example: Random people in groups\n",
    "\n",
    "### Problem Statement:\n",
    "We want to create teams of random people, but depending on the activity, the number of people in the team and the situation, we want to split them in \"n\" groups. "
   ]
  },
  {
   "cell_type": "markdown",
   "id": "4693dd64",
   "metadata": {},
   "source": [
    "Pseudocode:\n",
    "- Inputs: lista de personas (la lista no cambia, con lo que está dentro de la función)\n",
    "    - Input sea que esa lista, los elementos puenden ser eliminados. (remove)\n",
    "    - Pasar cuántos grupos quiero hacer\n",
    "Requerimientos:\n",
    "    - No puede haber grupos de una persona. (numeros de grupos*2 >= len(lista))\n",
    "    - Import random: random.shuffle()\n",
    "\n",
    "- Outputs: \n",
    "    - return grupos aleatorios\n",
    "    - return \"no se puede\" si hay demasiados grupos"
   ]
  },
  {
   "cell_type": "code",
   "execution_count": 2,
   "id": "35b4bb45",
   "metadata": {},
   "outputs": [],
   "source": [
    "# code: \n",
    "def grupos(n, faltan=[]):\n",
    "    lista=[\"Cat\", \"Lucas\", \"Miquel\", \"Arnau\", \"Inés\", \"Gonzalo\", \"Bernardo\"]\n",
    "    for i in faltan:\n",
    "        if i in lista:\n",
    "            lista.remove(i)\n",
    "\n",
    "    if type(n) != int:\n",
    "        return \"El número de grupos TIENE que ser un número 😉\"\n",
    "    \n",
    "    if n*2 > len(lista):\n",
    "        return \"Hay demasiada poca gente para tantos grupos\"\n",
    "    elif n <= 0:\n",
    "        return \"Los grupos tienen que ser positivos!\"\n",
    "    \n",
    "    import random\n",
    "    random.shuffle(lista)\n",
    "    grupitos=[[] for i in range(n)]\n",
    "\n",
    "    contador = 0\n",
    "    for i in range(len(lista)):\n",
    "        grupitos[contador].append(lista[i])\n",
    "        contador += 1\n",
    "        if contador >= n:\n",
    "            contador = 0\n",
    "    \n",
    "    return grupitos    "
   ]
  },
  {
   "cell_type": "code",
   "execution_count": 3,
   "id": "7be10ab4",
   "metadata": {},
   "outputs": [
    {
     "data": {
      "text/plain": [
       "[['Bernardo', 'Miquel', 'Gonzalo'], ['Lucas', 'Cat'], ['Inés', 'Arnau']]"
      ]
     },
     "execution_count": 3,
     "metadata": {},
     "output_type": "execute_result"
    }
   ],
   "source": [
    "grupos(3)"
   ]
  },
  {
   "cell_type": "code",
   "execution_count": 5,
   "id": "9ced1025",
   "metadata": {},
   "outputs": [
    {
     "data": {
      "text/plain": [
       "'Hay demasiada poca gente para tantos grupos'"
      ]
     },
     "execution_count": 5,
     "metadata": {},
     "output_type": "execute_result"
    }
   ],
   "source": [
    "grupos(3, faltan=[\"Bernardo\", \"Gonzalo\"])"
   ]
  },
  {
   "cell_type": "markdown",
   "id": "b9035756",
   "metadata": {},
   "source": [
    "## Example 2: Rolling the dice (by groups of 3 people)\n",
    "\n",
    "Let's try an easy example! We want to roll the dice the number of times the user wants, and print the results. The iteration should stop when the user wants. \n",
    "\n",
    "![](https://cdn.pixabay.com/animation/2023/11/08/17/50/17-50-28-149_512.gif)"
   ]
  },
  {
   "cell_type": "markdown",
   "id": "8b483239",
   "metadata": {},
   "source": [
    "Pseudocode here: \n",
    "\n",
    "- Inputs: \n",
    "\n",
    "- Outputs: \n"
   ]
  },
  {
   "cell_type": "code",
   "execution_count": 2,
   "id": "b54621aa",
   "metadata": {},
   "outputs": [],
   "source": [
    "# Your Code here:\n",
    "def dado():\n",
    "    import random\n",
    "    tirada = random.randint(1, 6)\n",
    "    print(f\"Te ha salido un {tirada}\")   # Ponemos 'print' y no 'return' pq, si no, con el primer 'return' corta y no se puede seguir jugando\n",
    "\n",
    "    while True:\n",
    "        seguir = input(\"Quieres seguir jugando?\")\n",
    "        if seguir.lower() not in [\"yes\", \"si\", \"y\", \"s\", \"afirmativo\"]:\n",
    "            break\n",
    "\n",
    "        tirada = random.randint(1, 6)\n",
    "        print(f\"Te ha salido un {tirada}\", flush=True)\n",
    "\n",
    "    return \"El juego ha terminado!\"               "
   ]
  },
  {
   "cell_type": "code",
   "execution_count": 4,
   "id": "0e588ed6",
   "metadata": {},
   "outputs": [
    {
     "name": "stdout",
     "output_type": "stream",
     "text": [
      "Te ha salido un 1\n",
      "Te ha salido un 3\n",
      "Te ha salido un 4\n",
      "Te ha salido un 3\n"
     ]
    },
    {
     "data": {
      "text/plain": [
       "'El juego ha terminado!'"
      ]
     },
     "execution_count": 4,
     "metadata": {},
     "output_type": "execute_result"
    }
   ],
   "source": [
    "dado()"
   ]
  },
  {
   "cell_type": "markdown",
   "id": "98934bc3",
   "metadata": {},
   "source": [
    "## 2.1 Follow up this example:\n",
    "\n",
    "Now we want the output to be: \n",
    "\n",
    "- All the times the user decides to roll the dice, the print of the rolling of the dice. \n",
    "- At the end, the number of times the dice was rolled\n",
    "- At the end, the mean of the results of the rolling. "
   ]
  },
  {
   "cell_type": "markdown",
   "id": "2be9bf5a",
   "metadata": {},
   "source": [
    "Pseudocode here: \n",
    "\n"
   ]
  },
  {
   "cell_type": "code",
   "execution_count": 5,
   "id": "9ed4bf4c",
   "metadata": {},
   "outputs": [],
   "source": [
    "#Your Code here:\n",
    "def dado():\n",
    "    import random\n",
    "    tirada = random.randint(1, 6)\n",
    "    print(f\"Te ha salido un {tirada}\")   # Ponemos 'print' y no 'return' pq, si no, con el primer 'return' corta y no se puede seguir jugando\n",
    "\n",
    "    conteo = 1\n",
    "    suma = tirada\n",
    "\n",
    "    while True:\n",
    "        seguir = input(\"Quieres seguir jugando?\")\n",
    "        if seguir.lower() not in [\"yes\", \"si\", \"y\", \"s\", \"afirmativo\"]:\n",
    "            break\n",
    "\n",
    "        tirada = random.randint(1, 6)\n",
    "        print(f\"Te ha salido un {tirada}\", flush=True)\n",
    "\n",
    "        conteo += 1\n",
    "        suma += tirada\n",
    "\n",
    "    return f\"El juego ha terminado! Has tirado {conteo} dados y de media has obtenido {suma/conteo:.2f}\"  "
   ]
  },
  {
   "cell_type": "code",
   "execution_count": 6,
   "id": "a90303a4",
   "metadata": {},
   "outputs": [
    {
     "name": "stdout",
     "output_type": "stream",
     "text": [
      "Te ha salido un 4\n",
      "Te ha salido un 2\n",
      "Te ha salido un 5\n",
      "Te ha salido un 2\n"
     ]
    },
    {
     "data": {
      "text/plain": [
       "'El juego ha terminado! Has tirado 4 dados y de media has obtenido 3.25'"
      ]
     },
     "execution_count": 6,
     "metadata": {},
     "output_type": "execute_result"
    }
   ],
   "source": [
    "dado()"
   ]
  },
  {
   "cell_type": "markdown",
   "id": "52616166",
   "metadata": {},
   "source": [
    "# Example 3: Choose your problem\n",
    "\n",
    "\n",
    "\n",
    "## Choose between: \n",
    "### Hangman Game\n",
    "\n",
    "![](https://t4.ftcdn.net/jpg/05/17/38/33/360_F_517383341_8nWEFfM1KL3K5LNTjUDrne3x0kZiuxuj.jpg)\n",
    "\n",
    "### 21 Black Jack\n",
    "\n",
    "![](https://encrypted-tbn0.gstatic.com/images?q=tbn:ANd9GcRfCJ3bqOWrDM1P_TSogfVsN2O3_dvg_xJhrQ&usqp=CAU)\n",
    "\n",
    "\n",
    "- Design the Pseudocode\n",
    "\n",
    "- Predict possible problems\n",
    "\n",
    "- How can you divide it into smaller functions?\n",
    "\n",
    "- Try to Code it!"
   ]
  },
  {
   "cell_type": "code",
   "execution_count": null,
   "id": "4f078393",
   "metadata": {},
   "outputs": [],
   "source": [
    "# Your code here: "
   ]
  },
  {
   "cell_type": "markdown",
   "id": "c1fe1d6c",
   "metadata": {},
   "source": [
    "# Rock Paper Scissors\n",
    "## Rock Paper Scissors\n",
    "### Rock Paper Scissors\n",
    "\n",
    "![](https://hips.hearstapps.com/hmg-prod/images/people-playing-paper-rock-scissors-royalty-free-illustration-1583269312.jpg)\n"
   ]
  },
  {
   "cell_type": "code",
   "execution_count": 14,
   "id": "ede5e5e9",
   "metadata": {},
   "outputs": [],
   "source": [
    "def rps():\n",
    "    jugador = input(\"Un dos tres, piedra papel tijera; un dos tres ya!:\").lower()\n",
    "    opciones = [\"piedra\", \"papel\", \"tijera\"]\n",
    "    if jugador not in opciones:\n",
    "        return \"Haces trampas!\"\n",
    "    import random\n",
    "    ordenador = random.choice(opciones)\n",
    "\n",
    "    if jugador == ordenador:\n",
    "        return f\"La máquina ha sacado {ordenador}. Hay un empate!\"\n",
    "    elif (jugador == \"tijera\" and \"ordenador\" == \"papel\") or (jugador == \"papel\" and ordenador == \"piedra\") or (jugador == \"piedra\" and ordenador == \"tijera\"):\n",
    "        return f\"La máquina ha sacado {ordenador}. El jugador gana!\"\n",
    "    else:\n",
    "        return f\"La máquina ha sacado {ordenador}. El jugador es un looser!\""
   ]
  },
  {
   "cell_type": "code",
   "execution_count": 22,
   "id": "83af6372",
   "metadata": {},
   "outputs": [
    {
     "data": {
      "text/plain": [
       "'La máquina ha sacado tijera. El jugador es un looser!'"
      ]
     },
     "execution_count": 22,
     "metadata": {},
     "output_type": "execute_result"
    }
   ],
   "source": [
    "rps()"
   ]
  },
  {
   "cell_type": "code",
   "execution_count": 21,
   "id": "2513b85d",
   "metadata": {},
   "outputs": [],
   "source": [
    "def rpsrounds():\n",
    "    rondas=input(\"Cuántas rondas necesitas para ganar el juego?\")\n",
    "    while True: \n",
    "        try:\n",
    "            rondas = int(rondas)\n",
    "            break\n",
    "        except:\n",
    "            rondas = input(\"Dame un número POR FAVOR\")\n",
    "\n",
    "    rondascpu = 0\n",
    "    rondasjugador = 0\n",
    "\n",
    "    while rondascpu<rondas and rondasjugador<rondas: \n",
    "\n",
    "        jugador = input(\"Un dos tres, piedra papel tijera un dos tres YA:\").lower()\n",
    "        opciones = [\"piedra\", \"papel\", \"tijera\"]\n",
    "        if jugador not in opciones: \n",
    "            return \"Haces trampas!\"\n",
    "        import random\n",
    "        ordenador = random.choice(opciones)\n",
    "\n",
    "        if jugador == ordenador:\n",
    "            print( f\"La máquina ha sacado {ordenador}. Hay un empate!\", flush = True)\n",
    "        elif (jugador == \"tijera\" and ordenador == \"papel\") or (jugador == \"papel\" and ordenador == \"piedra\") or (jugador == \"piedra\" and ordenador == \"tijera\"):\n",
    "            print( f\"La máquina ha sacado {ordenador}. Ganas, eres un genio!\", flush = True)\n",
    "            rondasjugador += 1\n",
    "        \n",
    "        else: \n",
    "            print( f\"La máquina ha sacado {ordenador}. Has perdido, Skynet ha llegado!\", flush = True)\n",
    "            rondascpu += 1\n",
    "    \n",
    "    if rondascpu == rondas:\n",
    "        return print(f\"La máquina ha ganado este juego. Resultado final: \\nMáquina: {rondascpu}\\nPersona: {rondasjugador}\", flush = True)\n",
    "    else:\n",
    "        return print(f\"Has ganado este juego. MIS DIESES Resultado final: \\nMáquina: {rondascpu}\\nPersona: {rondasjugador}\", flush = True)"
   ]
  },
  {
   "cell_type": "code",
   "execution_count": 18,
   "id": "c6419259",
   "metadata": {},
   "outputs": [
    {
     "name": "stdout",
     "output_type": "stream",
     "text": [
      "La máquina ha sacado tijera. Ganas. DEUS EX MACHINA\n",
      "La máquina ha sacado papel. Has perdido. Skynet ha llegado\n",
      "La máquina ha sacado piedra. Hay un empate\n",
      "La máquina ha sacado papel. Ganas. DEUS EX MACHINA\n",
      "Has ganado este juego. MIS DIESES Resultado final: \n",
      "Máquina: 1\n",
      "Persona: 2\n"
     ]
    }
   ],
   "source": [
    "rpsrounds()"
   ]
  }
 ],
 "metadata": {
  "kernelspec": {
   "display_name": "Python 3 (ipykernel)",
   "language": "python",
   "name": "python3"
  },
  "language_info": {
   "codemirror_mode": {
    "name": "ipython",
    "version": 3
   },
   "file_extension": ".py",
   "mimetype": "text/x-python",
   "name": "python",
   "nbconvert_exporter": "python",
   "pygments_lexer": "ipython3",
   "version": "3.12.5"
  }
 },
 "nbformat": 4,
 "nbformat_minor": 5
}
