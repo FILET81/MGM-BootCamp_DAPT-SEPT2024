{
 "cells": [
  {
   "cell_type": "markdown",
   "metadata": {},
   "source": [
    "# OOP\n",
    "\n",
    "In this lab we will put into practice what we have seen in class.\n",
    "\n",
    "`NOTE: It is split in two different Exercise: Do NOT try to change the order as the idea is to build a class from scratch using all the steps on each exercise` \n",
    "\n",
    "Good Luck! "
   ]
  },
  {
   "cell_type": "markdown",
   "metadata": {},
   "source": [
    "## Exercise 1: Car Class\n",
    "\n",
    "Use the origina code below to start with the exercise: "
   ]
  },
  {
   "cell_type": "code",
   "execution_count": 1,
   "metadata": {},
   "outputs": [],
   "source": [
    "class Car:\n",
    "    def __init__(self, color): \n",
    "        self.color = color"
   ]
  },
  {
   "cell_type": "markdown",
   "metadata": {},
   "source": [
    "### 1.1: Basic Info\n",
    "\n",
    "- This class Car is incomplete. We need to have more attributes, in this case we will need the user to add the Brand of the car (p.e. Fiat, Volvo, etc\") and the number of wheels (always 4). Build the first function called info, where it should print all the information of the car.\n",
    "- Try using the upper, capitalize or lower methods of strings to make the print look realistic. "
   ]
  },
  {
   "cell_type": "code",
   "execution_count": 16,
   "metadata": {},
   "outputs": [],
   "source": [
    "# Your Code here:\n",
    "\n",
    "class Car:\n",
    "    def __init__(self, color, brand): \n",
    "        self.color = color.capitalize()\n",
    "        self.brand = brand.upper()\n",
    "        self.wheels = 4\n",
    "\n",
    "    def info(self):\n",
    "        print(f\"Car info:\\nColor is: {self.color}\\nBrand is: {self.brand}\\nNumber of wheels are: {self.wheels}\")"
   ]
  },
  {
   "cell_type": "code",
   "execution_count": 17,
   "metadata": {},
   "outputs": [
    {
     "name": "stdout",
     "output_type": "stream",
     "text": [
      "Car info:\n",
      "Color is: Red\n",
      "Brand is: BMW\n",
      "Number of wheels are: 4\n"
     ]
    }
   ],
   "source": [
    "# Try your code with this example:\n",
    "\n",
    "bmw = Car(\"red\", \"BMW\")\n",
    "bmw.info()"
   ]
  },
  {
   "cell_type": "markdown",
   "metadata": {},
   "source": [
    "### 1.2: Turn On/Off\n",
    "\n",
    "- Set a new attribute called `engine`. In it there will only be two options, ON and OFF. Originally, this new attribute will be OFF as the car engine will be OFF. \n",
    "- Create two more methods called `encender` and `apagar`. Take into consideration that if the car is ON and you try the encender, a message should be printed: \"No se puede encender "
   ]
  },
  {
   "cell_type": "code",
   "execution_count": 18,
   "metadata": {},
   "outputs": [],
   "source": [
    "# Your Code here: \n",
    "\n",
    "class Car:\n",
    "    def __init__(self, color, brand): \n",
    "        self.color = color.capitalize()\n",
    "        self.brand = brand.upper()\n",
    "        self.wheels = 4\n",
    "        self.engine = \"OFF\"\n",
    "\n",
    "    def info(self):\n",
    "        print(f\"Car info:\\nColor is: {self.color}\\nBrand is: {self.brand}\\nNumber of wheels are: {self.wheels}\\nThe engine is: {self.engine}\")\n",
    "\n",
    "    def encender(self):\n",
    "        if self.engine == \"OFF\":\n",
    "            self.engine = \"ON\"\n",
    "            print(f\"The engine is now {self.engine}\")\n",
    "        else:\n",
    "            print(\"The engine can't be fired up, because it's already ON!\")\n",
    "\n",
    "    def apagar(self):\n",
    "        if self.engine == \"ON\":\n",
    "            self.engine = \"OFF\"\n",
    "            print(f\"The engine is now {self.engine}\")\n",
    "        else:\n",
    "            print(\"The engine can't be shut down, since it's already OFF!\")"
   ]
  },
  {
   "cell_type": "code",
   "execution_count": 22,
   "metadata": {},
   "outputs": [
    {
     "name": "stdout",
     "output_type": "stream",
     "text": [
      "Car info:\n",
      "Color is: Silver\n",
      "Brand is: MERCEDES\n",
      "Number of wheels are: 4\n",
      "The engine is: OFF\n",
      "The engine is now ON\n",
      "The engine can't be fired up, because it's already ON!\n",
      "The engine is now OFF\n",
      "The engine can't be shut down, since it's already OFF!\n"
     ]
    }
   ],
   "source": [
    "# Try the method a couple of times to see if the behaviour of the car is working well (p.e. dos veces función encendida o 2 veces función apagada)\n",
    "\n",
    "mercedes = Car(\"silver\", \"Mercedes\")\n",
    "mercedes.info()\n",
    "mercedes.encender()\n",
    "mercedes.encender()\n",
    "mercedes.apagar()\n",
    "mercedes.apagar()"
   ]
  },
  {
   "cell_type": "markdown",
   "metadata": {},
   "source": [
    "### 1.3 Accelerate/reduce/break\n",
    "\n",
    "Here we are going to set a new attribute: `speed`. The original speed of each vehicle must be 0. We will then add three methods: acelerar, reducir and frenar. `acelerar` will increase the speed, `reducir` will reduce it and `frenar` will take it back to 0 again. \n",
    "Extra conditions: \n",
    "\n",
    "Try tu use the logic to know some basic interactions between this methods and the methods seen in 1.2. First try it yourself before revealing the hidden information!\n",
    "\n",
    "\n",
    "<details>\n",
    "    <summary> Expand the box to see the logic between methods </summary>\n",
    "    \n",
    "- The engine must be ON to use this 3 new method\n",
    "\n",
    "- If the speed is different to 0, you can not use the `apagar` method\n",
    "\n",
    "- If you use `reducir` to a number that makes the speed in negative numbers, you can not use reducir.  \n",
    "\n",
    "- To avoid using the `__dict__`, add the speed and the engine state as new info in the `info` method\n",
    "\n",
    "- For both `acelerar` and `reducir`, everytime you use this method you must send an argument (how much is the car accelerating and reducing everytime you call this function)\n",
    "\n",
    "</details>\n"
   ]
  },
  {
   "cell_type": "code",
   "execution_count": 29,
   "metadata": {},
   "outputs": [],
   "source": [
    "# Your Code here: \n",
    "\n",
    "class Car:\n",
    "    def __init__(self, color, brand): \n",
    "        self.color = color.capitalize()\n",
    "        self.brand = brand.upper()\n",
    "        self.wheels = 4\n",
    "        self.engine = \"OFF\"\n",
    "        self.speed = 0\n",
    "\n",
    "    def info(self):\n",
    "        print(f\"Car info:\\nColor is: {self.color}\\nBrand is: {self.brand}\\nNumber of wheels are: {self.wheels}\\nThe engine is: {self.engine}\\nThe speed is: {self.speed} km/h\")\n",
    "\n",
    "    def encender(self):\n",
    "        if self.engine == \"OFF\":\n",
    "            self.engine = \"ON\"\n",
    "            print(f\"The engine is now {self.engine}\")\n",
    "        else:\n",
    "            print(\"The engine can't be fired up, because it's already ON!\")\n",
    "\n",
    "    def apagar(self):\n",
    "        if self.engine == \"ON\":\n",
    "            if self.speed == 0:\n",
    "                self.engine = \"OFF\"\n",
    "                print(f\"The engine is now {self.engine}\")\n",
    "            else:\n",
    "                print(\"The engine can't be shut down, because the car is moving!\")    \n",
    "        else:\n",
    "            print(\"The engine can't be shut down, since it's already OFF!\")\n",
    "\n",
    "    def acelerar(self, incremento):\n",
    "        if self.engine == \"ON\" and self.speed >= 0:     # Not sure if the second condition is needed (?)\n",
    "            if incremento > 0:\n",
    "                self.speed += incremento\n",
    "                print(f\"The speed has increased and now is {self.speed} km/h.\")\n",
    "            else:\n",
    "                print(\"The increase of speed must be greater than 0.\")    \n",
    "        else:\n",
    "            print(\"The speed can't increase because the engine is OFF! Fire up the engine first.\")\n",
    "\n",
    "    def reducir(self, decremento):\n",
    "        if self.engine == \"ON\" and self.speed > 0:      # Not sure if the second condition is needed (?)\n",
    "            if decremento <= 0:\n",
    "                print(\"The decrease of speed must be greater than 0.\")\n",
    "            elif self.speed - decremento >= 0:\n",
    "                self.speed -= decremento\n",
    "                print(f\"The speed has decreased and now is {self.speed} km/h.\")\n",
    "            else:\n",
    "                print(\"The speed can't decrease below 0 km/h!\")\n",
    "        else:\n",
    "            print(\"The speed can't decrease because the engine is OFF!\")\n",
    "\n",
    "    def frenar(self):\n",
    "        if self.engine == \"ON\" and self.speed > 0:      # Not sure if the second condition is needed (?)\n",
    "            self.speed = 0\n",
    "            print(f\"The car is now braked and the current speed is {self.speed} km/h!\")\n",
    "        else:\n",
    "            print(\"The car can't brake since it's already stopped!\")"
   ]
  },
  {
   "cell_type": "code",
   "execution_count": 30,
   "metadata": {},
   "outputs": [],
   "source": [
    "# Try combos with this same car!:\n",
    "bmw=Car(\"rojo\", \"BMW\")"
   ]
  },
  {
   "cell_type": "code",
   "execution_count": 41,
   "metadata": {},
   "outputs": [
    {
     "name": "stdout",
     "output_type": "stream",
     "text": [
      "Car info:\n",
      "Color is: Rojo\n",
      "Brand is: BMW\n",
      "Number of wheels are: 4\n",
      "The engine is: OFF\n",
      "The speed is: 0 km/h\n",
      "The speed can't increase because the engine is OFF! Fire up the engine first.\n",
      "The engine is now ON\n",
      "The speed has increased and now is 75 km/h.\n",
      "The speed has decreased and now is 25 km/h.\n",
      "The decrease of speed must be greater than 0.\n",
      "The engine can't be shut down, because the car is moving!\n"
     ]
    }
   ],
   "source": [
    "# Try all the combinations you like and see if it works!:\n",
    "\n",
    "#bmw.info()\n",
    "#bmw.encender()\n",
    "#bmw.acelerar(5)\n",
    "#bmw.reducir(4)\n",
    "#bmw.info()\n",
    "#bmw.apagar()\n",
    "#bmw.frenar()\n",
    "#bmw.apagar()\n",
    "\n",
    "bmw.info()\n",
    "bmw.acelerar(35)\n",
    "bmw.encender()\n",
    "bmw.acelerar(75)\n",
    "bmw.reducir(50)\n",
    "bmw.reducir(-25)\n",
    "bmw.apagar()"
   ]
  },
  {
   "cell_type": "markdown",
   "metadata": {},
   "source": [
    "### 1.4 Maximum Speed\n",
    "\n",
    "We will now set a new parameter the user should introduce: `max_speed`. If the user do NOT set this parameter, the **default value** should be 120\n",
    "\n",
    "(the code should work for both Car(\"blue\", \"FIAT\") and Car(\"purple\", \"Mini\", 130) )\n",
    "\n",
    "The only thing that must change from the previous code is that your speed can NEVER be over the limit of the car. If you try to accelerate more, the speed of the car will be max_speed. "
   ]
  },
  {
   "cell_type": "code",
   "execution_count": 42,
   "metadata": {},
   "outputs": [],
   "source": [
    "# Your Code here:\n",
    "\n",
    "class Car:\n",
    "    def __init__(self, color, brand, max_speed = 120): \n",
    "        self.color = color.capitalize()\n",
    "        self.brand = brand.upper()\n",
    "        self.wheels = 4\n",
    "        self.engine = \"OFF\"\n",
    "        self.speed = 0\n",
    "        self.max_speed = max_speed\n",
    "\n",
    "    def info(self):\n",
    "        print(f\"Car info:\\nColor is: {self.color}\\nBrand is: {self.brand}\\nNumber of wheels are: {self.wheels}\\nThe engine is: {self.engine}\\nThe speed is: {self.speed} km/h\\nThe maximum speed is: {self.max_speed} km/h\")\n",
    "\n",
    "    def encender(self):\n",
    "        if self.engine == \"OFF\":\n",
    "            self.engine = \"ON\"\n",
    "            print(f\"The engine is now {self.engine}\")\n",
    "        else:\n",
    "            print(\"The engine can't be fired up, because it's already ON!\")\n",
    "\n",
    "    def apagar(self):\n",
    "        if self.engine == \"ON\":\n",
    "            if self.speed == 0:\n",
    "                self.engine = \"OFF\"\n",
    "                print(f\"The engine is now {self.engine}\")\n",
    "            else:\n",
    "                print(\"The engine can't be shut down, because the car is moving!\")    \n",
    "        else:\n",
    "            print(\"The engine can't be shut down, since it's already OFF!\")\n",
    "\n",
    "    def acelerar(self, incremento):\n",
    "        if self.engine == \"ON\" and self.speed >= 0:     # Not sure if the second condition is needed (?)\n",
    "            if incremento > 0:\n",
    "                new_speed = self.speed + incremento\n",
    "                if new_speed > self.max_speed:\n",
    "                    print(f\"The car can't accelerate above {self.max_speed} km/h.\")\n",
    "                    self.speed = self.max_speed\n",
    "                else:\n",
    "                    self.speed = new_speed\n",
    "                    print(f\"The speed has increased and now is {self.speed} km/h.\")    \n",
    "            else:\n",
    "                print(\"The increase of speed must be greater than 0.\")    \n",
    "        else:\n",
    "            print(\"The speed can't increase because the engine is OFF! Fire up the engine first.\")\n",
    "\n",
    "    def reducir(self, decremento):\n",
    "        if self.engine == \"ON\" and self.speed > 0:      # Not sure if the second condition is needed (?)\n",
    "            if decremento <= 0:\n",
    "                print(\"The decrease of speed must be greater than 0.\")\n",
    "            elif self.speed - decremento >= 0:\n",
    "                self.speed -= decremento\n",
    "                print(f\"The speed has decreased and now is {self.speed} km/h.\")\n",
    "            else:\n",
    "                print(\"The speed can't decrease below 0 km/h!\")\n",
    "        else:\n",
    "            print(\"The speed can't decrease because the engine is OFF!\")\n",
    "\n",
    "    def frenar(self):\n",
    "        if self.engine == \"ON\" and self.speed > 0:      # Not sure if the second condition is needed (?)\n",
    "            self.speed = 0\n",
    "            print(f\"The car is now braked and the current speed is {self.speed} km/h!\")\n",
    "        else:\n",
    "            print(\"The car can't brake since it's already stopped!\") "
   ]
  },
  {
   "cell_type": "code",
   "execution_count": 43,
   "metadata": {},
   "outputs": [
    {
     "name": "stdout",
     "output_type": "stream",
     "text": [
      "Car info:\n",
      "Color is: Red\n",
      "Brand is: FIAT\n",
      "Number of wheels are: 4\n",
      "The engine is: OFF\n",
      "The speed is: 0 km/h\n",
      "The maximum speed is: 130 km/h\n",
      "The speed can't increase because the engine is OFF! Fire up the engine first.\n",
      "The engine is now ON\n",
      "The speed has increased and now is 75 km/h.\n",
      "The car can't accelerate above 130 km/h.\n",
      "The speed has decreased and now is 80 km/h.\n",
      "The decrease of speed must be greater than 0.\n",
      "The car is now braked and the current speed is 0 km/h!\n",
      "The engine is now OFF\n"
     ]
    }
   ],
   "source": [
    "# Try the code here: \n",
    "fiat=Car(\"red\", \"Fiat\", 130)\n",
    "\n",
    "fiat.info()\n",
    "fiat.acelerar(35)\n",
    "fiat.encender()\n",
    "fiat.acelerar(75)\n",
    "fiat.acelerar(65)\n",
    "fiat.reducir(50)\n",
    "fiat.reducir(-25)\n",
    "fiat.frenar()\n",
    "fiat.apagar()"
   ]
  },
  {
   "cell_type": "code",
   "execution_count": 44,
   "metadata": {},
   "outputs": [
    {
     "name": "stdout",
     "output_type": "stream",
     "text": [
      "Car info:\n",
      "Color is: Blue\n",
      "Brand is: MINI\n",
      "Number of wheels are: 4\n",
      "The engine is: OFF\n",
      "The speed is: 0 km/h\n",
      "The maximum speed is: 120 km/h\n",
      "The speed can't increase because the engine is OFF! Fire up the engine first.\n",
      "The engine is now ON\n",
      "The speed has increased and now is 55 km/h.\n",
      "The car can't accelerate above 120 km/h.\n",
      "The speed has decreased and now is 60 km/h.\n",
      "The speed has decreased and now is 35 km/h.\n",
      "The engine can't be shut down, because the car is moving!\n"
     ]
    }
   ],
   "source": [
    "# Try the code here: \n",
    "mini=Car(\"blue\", \"Mini\")\n",
    "\n",
    "mini.info()\n",
    "mini.acelerar(35)\n",
    "mini.encender()\n",
    "mini.acelerar(55)\n",
    "mini.acelerar(90)\n",
    "mini.reducir(60)\n",
    "mini.reducir(25)\n",
    "mini.apagar()"
   ]
  },
  {
   "cell_type": "markdown",
   "metadata": {},
   "source": [
    "## Exercise 2: Inheritance\n",
    "\n",
    "Let's recover this example set in our class: "
   ]
  },
  {
   "cell_type": "code",
   "execution_count": 45,
   "metadata": {},
   "outputs": [],
   "source": [
    "class Staff ():\n",
    "        \n",
    "    def __init__ (self, name, fname):\n",
    "        self.name = name.capitalize()\n",
    "        self.fname = fname\n",
    "        \n",
    "        # Default\n",
    "        self.time_off = 20\n",
    "        \n",
    "        #Default: as a result\n",
    "        self.email = self.name.lower() + \".\" + self.fname.lower() + \"@ironhack.com\"\n",
    "        \n",
    "        self.hobbies = []\n",
    "        \n",
    "    \n",
    "    def introduce (self):\n",
    "        return f\"Hello, my name is {self.name}!\"\n",
    "    \n",
    "    def takes_days_off (self, number):\n",
    "        if self.time_off-number >= 0:\n",
    "            self.time_off -= number\n",
    "            return f\"Now you have {self.time_off} days off available\"\n",
    "        else:\n",
    "            return f\"Sorry, you ran out of days. Your total time_off available is {self.time_off}\"\n",
    "    \n",
    "    def hobbies_function (self, *hob): #passing an optional argument\n",
    "        if hob:\n",
    "            for i in hob:\n",
    "                self.hobbies.append(i)\n",
    "                print(f\"We added: {self.hobbies[-1]}\")\n",
    "            return self.hobbies_function()\n",
    "        else:\n",
    "            new = \", \".join([i for i in self.hobbies])\n",
    "            return f\"My hobbies are: {new}\""
   ]
  },
  {
   "cell_type": "markdown",
   "metadata": {},
   "source": [
    "### 2.1 Class Variable\n",
    "\n",
    "Create a class variable (attribute shared by everybody in the organization). This class variable will be `company`, and it should be always **Ironhack**"
   ]
  },
  {
   "cell_type": "code",
   "execution_count": 46,
   "metadata": {},
   "outputs": [],
   "source": [
    "# Your code here:\n",
    "\n",
    "class Staff ():\n",
    "    company = \"Ironhack\""
   ]
  },
  {
   "cell_type": "markdown",
   "metadata": {},
   "source": [
    "### 1.2 Info Method\n",
    "\n",
    "As in the previous exercise, set a method to know all the information related with each person: Name, Surname, Time_Off Available, Mail, hobbies and Company"
   ]
  },
  {
   "cell_type": "code",
   "execution_count": 60,
   "metadata": {},
   "outputs": [],
   "source": [
    "# Your code here\n",
    "\n",
    "class Staff ():\n",
    "    company = \"Ironhack\"\n",
    "        \n",
    "    def __init__ (self, name, fname):\n",
    "        self.name = name.capitalize()\n",
    "        self.fname = fname\n",
    "        self.time_off = 20\n",
    "        self.email = self.name.lower() + \".\" + self.fname.lower() + \"@ironhack.com\"\n",
    "        self.hobbies = []\n",
    "        \n",
    "    def introduce (self):\n",
    "        print(f\"Hello, my name is {self.name}!\")\n",
    "    \n",
    "    def takes_days_off (self, number):\n",
    "        if self.time_off-number >= 0:\n",
    "            self.time_off -= number\n",
    "            print(f\"Now you have {self.time_off} days off available\")\n",
    "        else:\n",
    "            print(f\"Sorry, you ran out of days. Your total time_off available is {self.time_off}\")\n",
    "    \n",
    "    def hobbies_function (self, *hob): #passing an optional argument\n",
    "        if hob:\n",
    "            for i in hob:\n",
    "                self.hobbies.append(i)\n",
    "                print(f\"We added: {self.hobbies[-1]}\")\n",
    "            return self.hobbies_function()\n",
    "        else:\n",
    "            new = \", \".join([i for i in self.hobbies])\n",
    "            print(f\"My hobbies are: {new}\")\n",
    "        \n",
    "    def info(self):\n",
    "        print(f\"Person Info:\\nName: {self.name}\\nSurname: {self.fname}\\nTime_Off Available: {self.time_off}\\nMail: {self.email}\\nHobbies: {self.hobbies}\\nCompany: {self.company}\")\n"
   ]
  },
  {
   "cell_type": "code",
   "execution_count": 61,
   "metadata": {},
   "outputs": [
    {
     "name": "stdout",
     "output_type": "stream",
     "text": [
      "We added: Basketball\n",
      "We added: Board Games\n",
      "We added: Coding\n",
      "My hobbies are: Basketball, Board Games, Coding\n",
      "Now you have 15 days off available\n",
      "Person Info:\n",
      "Name: Gonzalo\n",
      "Surname: Quesada\n",
      "Time_Off Available: 15\n",
      "Mail: gonzalo.quesada@ironhack.com\n",
      "Hobbies: ['Basketball', 'Board Games', 'Coding']\n",
      "Company: Ironhack\n"
     ]
    }
   ],
   "source": [
    "# Try it here!!\n",
    "\n",
    "bestteacherever=Staff(\"Gonzalo\", \"Quesada\")\n",
    "bestteacherever.hobbies_function(\"Basketball\", \"Board Games\", \"Coding\")\n",
    "bestteacherever.takes_days_off(5)\n",
    "bestteacherever.info()"
   ]
  },
  {
   "cell_type": "markdown",
   "metadata": {},
   "source": [
    "### 1.3 Inheritance\n",
    "\n",
    "Now suppose the Marketing department works differently, but inside the organization. In other words, Staff will be the Parent Class and Marketing the Child. The differences are: \n",
    "\n",
    "- The mail must end with .mktg (for example, instead of laura.molas@ironhack.com it should be laura.molas.mktg@ironhack.com)\n",
    "- The total days they have of time_off is 30 (Lucky them...)\n",
    "- In addition, in the `introduce` method, they should salute the same as in Staff BUT adding that they are from the Marketing dpt. "
   ]
  },
  {
   "cell_type": "code",
   "execution_count": 64,
   "metadata": {},
   "outputs": [],
   "source": [
    "# Your code here: \n",
    "\n",
    "class Marketing(Staff):\n",
    "    def __init__(self, name, fname):\n",
    "        super().__init__(name, fname)\n",
    "        self.time_off = 30\n",
    "        self.email = self.name.lower() + \".\" + self.fname.lower() + \".mktg@ironhack.com\"\n",
    "\n",
    "    def introduce(self):\n",
    "        base_intro = super().introduce()\n",
    "        print(f\"{base_intro} I am from the Marketing department.\")"
   ]
  },
  {
   "cell_type": "code",
   "execution_count": 65,
   "metadata": {},
   "outputs": [
    {
     "name": "stdout",
     "output_type": "stream",
     "text": [
      "We added: Photography\n",
      "We added: Animals\n",
      "My hobbies are: Photography, Animals\n",
      "Person Info:\n",
      "Name: Laura\n",
      "Surname: Molas\n",
      "Time_Off Available: 30\n",
      "Mail: laura.molas.mktg@ironhack.com\n",
      "Hobbies: ['Photography', 'Animals']\n",
      "Company: Ironhack\n",
      "Hello, my name is Laura!\n",
      "None I am from the Marketing department.\n"
     ]
    }
   ],
   "source": [
    "#Try if your Class is well defined with this example: \n",
    "mktg=Marketing(\"Laura\", \"Molas\")\n",
    "mktg.hobbies_function(\"Photography\", \"Animals\")\n",
    "mktg.info()\n",
    "mktg.introduce()"
   ]
  }
 ],
 "metadata": {
  "kernelspec": {
   "display_name": "local",
   "language": "python",
   "name": "python3"
  },
  "language_info": {
   "codemirror_mode": {
    "name": "ipython",
    "version": 3
   },
   "file_extension": ".py",
   "mimetype": "text/x-python",
   "name": "python",
   "nbconvert_exporter": "python",
   "pygments_lexer": "ipython3",
   "version": "3.12.5"
  }
 },
 "nbformat": 4,
 "nbformat_minor": 2
}
