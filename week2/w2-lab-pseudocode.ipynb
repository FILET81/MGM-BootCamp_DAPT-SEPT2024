{
 "cells": [
  {
   "cell_type": "markdown",
   "metadata": {},
   "source": [
    "# PSEUDOCODE"
   ]
  },
  {
   "cell_type": "markdown",
   "metadata": {},
   "source": [
    "In this lab, you will work to find any solution(hopefully the easiest) to complete this exercise."
   ]
  },
  {
   "cell_type": "markdown",
   "metadata": {},
   "source": [
    "RANDOM GUESS OF A NUMBER\n",
    "\n",
    "The user must give you the start and final number. Your code must be developed to select a random number between this 2. If your selection is too high/low you must give a hint to the user: The number is too high/low. Finally, when the user selects the correct number you must return a \"Congratulations etc\" and the number of guesses needed to find the number. \n",
    "\n",
    "IF YOU TRY IT AND YOU FIND THE NUMBER FIRST GUESS, PLEASE SEND A SCREENSHOT VIA SLACK `(MANDATORY)`"
   ]
  },
  {
   "cell_type": "code",
   "execution_count": 1,
   "metadata": {},
   "outputs": [],
   "source": [
    "# Your code here\n",
    "\n",
    "# 1. Importing random library.\n",
    "# 2. Defining a function to get a random number, and creating a starting counter for guesses.\n",
    "# 3. Creating a while loop inside the function, asking the user to enter an integer number within a specific range, \n",
    "    # and counting the number of guesses to get the right number.\n",
    "# 4. Checking whether the input number is an integer or not. \n",
    "# 5. If input number is an integer, checking whether user's guess is in the specified range.\n",
    "# 6. If user's guess is in the specified range, comparing such a guess versus the random number.\n",
    "# 7. If user's guess is not in the specified range, asking to enter a valid number.\n",
    "# 8. If user's input is not an integer, letting them know.\n",
    "\n",
    "# 1.\n",
    "import random\n",
    "# 2.\n",
    "def guess_num(start, end):    \n",
    "    rand_number = random.randint(start, end)\n",
    "    guesses = 0\n",
    "# 3.\n",
    "    while True:\n",
    "        user_guess = input(f\"Please guess a whole number between {start} and {end}:\")\n",
    "        guesses += 1\n",
    "# 4.\n",
    "        if user_guess.isdigit():\n",
    "            user_guess = int(user_guess)\n",
    "# 5.\n",
    "            if start <= user_guess <= end:\n",
    "# 6.\n",
    "                if user_guess > rand_number:\n",
    "                    print(f\"The number {user_guess} is too high!\")\n",
    "                elif user_guess < rand_number:\n",
    "                    print(f\"The number {user_guess} is too low!\")\n",
    "                else:\n",
    "                    print(f\"Congrats! You've guessed the correct number {rand_number} in {guesses} guesses!\")\n",
    "                    break\n",
    "# 7.                \n",
    "            else:\n",
    "                print(f\"Number {user_guess} is not valid. Please enter a valid number.\")\n",
    "# 8.                \n",
    "        else:\n",
    "            print(f\"{user_guess} either is not a whole number or is not within the specified range!\")"
   ]
  },
  {
   "cell_type": "code",
   "execution_count": 2,
   "metadata": {},
   "outputs": [
    {
     "name": "stdout",
     "output_type": "stream",
     "text": [
      "3.5 either is not a whole number or is not within the specified range!\n",
      "Number 15 is not valid. Please enter a valid number.\n",
      "-2 either is not a whole number or is not within the specified range!\n",
      "The number 10 is too high!\n",
      "Number 0 is not valid. Please enter a valid number.\n",
      "The number 7 is too high!\n",
      "The number 3 is too low!\n",
      "Congrats! You've guessed the correct number 5 in 8 guesses!\n"
     ]
    }
   ],
   "source": [
    "guess_num(1, 10)"
   ]
  }
 ],
 "metadata": {
  "kernelspec": {
   "display_name": "toni2",
   "language": "python",
   "name": "python3"
  },
  "language_info": {
   "codemirror_mode": {
    "name": "ipython",
    "version": 3
   },
   "file_extension": ".py",
   "mimetype": "text/x-python",
   "name": "python",
   "nbconvert_exporter": "python",
   "pygments_lexer": "ipython3",
   "version": "3.12.5"
  }
 },
 "nbformat": 4,
 "nbformat_minor": 2
}
